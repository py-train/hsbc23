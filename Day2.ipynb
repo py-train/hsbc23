{
 "cells": [
  {
   "cell_type": "markdown",
   "id": "7bde2f8a",
   "metadata": {},
   "source": [
    "# Day2: Agenda\n",
    "\n",
    "- Looping\n",
    "- Tuples\n",
    "- Sets\n",
    "- Dict\n",
    "- File I/O"
   ]
  },
  {
   "cell_type": "code",
   "execution_count": null,
   "id": "b10fc4f0",
   "metadata": {},
   "outputs": [],
   "source": [
    "# for (i=0; i<10; i++) {     # indexed for loop\n",
    "#     arr[i]\n",
    "# }"
   ]
  },
  {
   "cell_type": "code",
   "execution_count": 1,
   "id": "87c44bc5",
   "metadata": {},
   "outputs": [
    {
     "name": "stdout",
     "output_type": "stream",
     "text": [
      "1\n",
      "1\n",
      "2\n",
      "4\n",
      "3\n",
      "9\n",
      "4\n",
      "16\n",
      "Done\n"
     ]
    }
   ],
   "source": [
    "# for loop_var in iterable\n",
    "for num in [1,2,3,4]:   # foreach varaint\n",
    "    print(num)\n",
    "    print(num**2)\n",
    "    \n",
    "print('Done')"
   ]
  },
  {
   "cell_type": "code",
   "execution_count": 4,
   "id": "fa30b847",
   "metadata": {},
   "outputs": [],
   "source": [
    "# Calculate sum of nums\n",
    "total = 0\n",
    "nums = [1,2,3,4]\n",
    "\n",
    "for num in nums:\n",
    "#     total = total + num\n",
    "    total += num"
   ]
  },
  {
   "cell_type": "code",
   "execution_count": 5,
   "id": "503401f8",
   "metadata": {},
   "outputs": [
    {
     "data": {
      "text/plain": [
       "10"
      ]
     },
     "execution_count": 5,
     "metadata": {},
     "output_type": "execute_result"
    }
   ],
   "source": [
    "total"
   ]
  },
  {
   "cell_type": "code",
   "execution_count": 6,
   "id": "04917c92",
   "metadata": {},
   "outputs": [
    {
     "data": {
      "text/plain": [
       "10"
      ]
     },
     "execution_count": 6,
     "metadata": {},
     "output_type": "execute_result"
    }
   ],
   "source": [
    "sum(nums)"
   ]
  },
  {
   "cell_type": "code",
   "execution_count": 7,
   "id": "13d023d1",
   "metadata": {},
   "outputs": [],
   "source": [
    "sum = __builtins__.sum"
   ]
  },
  {
   "cell_type": "code",
   "execution_count": 13,
   "id": "fba27802",
   "metadata": {},
   "outputs": [],
   "source": [
    "list = [1,2,3]"
   ]
  },
  {
   "cell_type": "code",
   "execution_count": 18,
   "id": "d3c447fa",
   "metadata": {},
   "outputs": [
    {
     "data": {
      "text/plain": [
       "[0, 1, 2, 3, 4, 5, 6, 7, 8, 9]"
      ]
     },
     "execution_count": 18,
     "metadata": {},
     "output_type": "execute_result"
    }
   ],
   "source": [
    "list(range(10))"
   ]
  },
  {
   "cell_type": "code",
   "execution_count": 14,
   "id": "b8bc67c6",
   "metadata": {},
   "outputs": [
    {
     "data": {
      "text/plain": [
       "[1, 2, 3]"
      ]
     },
     "execution_count": 14,
     "metadata": {},
     "output_type": "execute_result"
    }
   ],
   "source": [
    "list"
   ]
  },
  {
   "cell_type": "code",
   "execution_count": 15,
   "id": "d3ca3fbe",
   "metadata": {},
   "outputs": [],
   "source": [
    "nums = list.copy()\n",
    "list = __builtins__.list"
   ]
  },
  {
   "cell_type": "code",
   "execution_count": 16,
   "id": "064935cf",
   "metadata": {},
   "outputs": [
    {
     "data": {
      "text/plain": [
       "[1, 2, 3]"
      ]
     },
     "execution_count": 16,
     "metadata": {},
     "output_type": "execute_result"
    }
   ],
   "source": [
    "nums"
   ]
  },
  {
   "cell_type": "code",
   "execution_count": 17,
   "id": "3c3b5f5c",
   "metadata": {},
   "outputs": [
    {
     "data": {
      "text/plain": [
       "list"
      ]
     },
     "execution_count": 17,
     "metadata": {},
     "output_type": "execute_result"
    }
   ],
   "source": [
    "list"
   ]
  },
  {
   "cell_type": "code",
   "execution_count": 19,
   "id": "e11465c3",
   "metadata": {},
   "outputs": [],
   "source": [
    "# Sum of squares of nums\n",
    "nums = [1,2,3,4]\n",
    "sum_squares = 0\n",
    "\n",
    "for num in nums:\n",
    "    sum_squares += num**2"
   ]
  },
  {
   "cell_type": "code",
   "execution_count": 20,
   "id": "1750c86e",
   "metadata": {},
   "outputs": [
    {
     "data": {
      "text/plain": [
       "30"
      ]
     },
     "execution_count": 20,
     "metadata": {},
     "output_type": "execute_result"
    }
   ],
   "source": [
    "sum_squares"
   ]
  },
  {
   "cell_type": "code",
   "execution_count": 21,
   "id": "178b881e",
   "metadata": {},
   "outputs": [],
   "source": [
    "# squares of nums\n",
    "nums = [1,2,3,4]\n",
    "squares = []\n",
    "\n",
    "for num in nums:\n",
    "    squares.append(num**2)"
   ]
  },
  {
   "cell_type": "code",
   "execution_count": 22,
   "id": "3c351859",
   "metadata": {},
   "outputs": [
    {
     "data": {
      "text/plain": [
       "[1, 4, 9, 16]"
      ]
     },
     "execution_count": 22,
     "metadata": {},
     "output_type": "execute_result"
    }
   ],
   "source": [
    "squares"
   ]
  },
  {
   "cell_type": "code",
   "execution_count": 23,
   "id": "acaf3dfa",
   "metadata": {},
   "outputs": [
    {
     "data": {
      "text/plain": [
       "30"
      ]
     },
     "execution_count": 23,
     "metadata": {},
     "output_type": "execute_result"
    }
   ],
   "source": [
    "sum(squares)"
   ]
  },
  {
   "cell_type": "code",
   "execution_count": 24,
   "id": "2aec0960",
   "metadata": {},
   "outputs": [],
   "source": [
    "marks = [\n",
    "    #M, E, S, H\n",
    "    [100, 78, 49, 97],\n",
    "    [55, 66, 77, 88],\n",
    "    [29, 100, 45, 99]\n",
    "]"
   ]
  },
  {
   "cell_type": "code",
   "execution_count": 28,
   "id": "316dac5b",
   "metadata": {},
   "outputs": [],
   "source": [
    "total_marks = []\n",
    "avg_marks = []\n",
    "\n",
    "for ind_marks in marks:\n",
    "    total = sum(ind_marks)\n",
    "    total_marks.append(total)\n",
    "    avg_marks.append(total/len(ind_marks))"
   ]
  },
  {
   "cell_type": "code",
   "execution_count": 27,
   "id": "2a36aef3",
   "metadata": {},
   "outputs": [
    {
     "data": {
      "text/plain": [
       "[324, 286, 273]"
      ]
     },
     "execution_count": 27,
     "metadata": {},
     "output_type": "execute_result"
    }
   ],
   "source": [
    "total_marks"
   ]
  },
  {
   "cell_type": "code",
   "execution_count": 29,
   "id": "9919b4aa",
   "metadata": {},
   "outputs": [
    {
     "data": {
      "text/plain": [
       "[81.0, 71.5, 68.25]"
      ]
     },
     "execution_count": 29,
     "metadata": {},
     "output_type": "execute_result"
    }
   ],
   "source": [
    "avg_marks"
   ]
  },
  {
   "cell_type": "code",
   "execution_count": 30,
   "id": "01e08c36",
   "metadata": {},
   "outputs": [
    {
     "data": {
      "text/plain": [
       "[[100, 78, 49, 97], [55, 66, 77, 88], [29, 100, 45, 99]]"
      ]
     },
     "execution_count": 30,
     "metadata": {},
     "output_type": "execute_result"
    }
   ],
   "source": [
    "marks"
   ]
  },
  {
   "cell_type": "code",
   "execution_count": 31,
   "id": "5a0bd23e",
   "metadata": {},
   "outputs": [
    {
     "data": {
      "text/plain": [
       "[100, 78, 49, 97, 55, 66, 77, 88, 29, 100, 45, 99]"
      ]
     },
     "execution_count": 31,
     "metadata": {},
     "output_type": "execute_result"
    }
   ],
   "source": [
    "# Flatten the 2d list into a 1d\n",
    "# [100,78,49,97,55,...]\n",
    "\n",
    "flattened = []\n",
    "\n",
    "for ind_marks in marks:\n",
    "    flattened.extend(ind_marks)\n",
    "    \n",
    "flattened"
   ]
  },
  {
   "cell_type": "code",
   "execution_count": 32,
   "id": "90abd2b3",
   "metadata": {},
   "outputs": [],
   "source": [
    "items = ['cookies', 'bread', 'eggs']\n",
    "prices = [12.22, 55.55, 5.99]\n",
    "counts = [3,      1,    12]\n",
    "\n",
    "[[12.22, 55.55,..], [3,1,..]]\n",
    "[[12.22, 3], [55.55, 1], [5.99, 12]]"
   ]
  },
  {
   "cell_type": "code",
   "execution_count": null,
   "id": "9b73d49d",
   "metadata": {},
   "outputs": [],
   "source": [
    "total_bill"
   ]
  },
  {
   "cell_type": "code",
   "execution_count": null,
   "id": "51c19fa5",
   "metadata": {},
   "outputs": [],
   "source": [
    "12.22 * 3 + 55.55 * 1 + 5.99 * 12"
   ]
  },
  {
   "cell_type": "code",
   "execution_count": 34,
   "id": "06956ff6",
   "metadata": {},
   "outputs": [
    {
     "data": {
      "text/plain": [
       "[0, 1, 2]"
      ]
     },
     "execution_count": 34,
     "metadata": {},
     "output_type": "execute_result"
    }
   ],
   "source": [
    "list(range(len(counts)))"
   ]
  },
  {
   "cell_type": "code",
   "execution_count": null,
   "id": "2613a6b1",
   "metadata": {},
   "outputs": [],
   "source": [
    "# for (i=0; i<=3; i++) {\n",
    "#     prices[i] counts[i]\n",
    "# }"
   ]
  },
  {
   "cell_type": "code",
   "execution_count": 35,
   "id": "2d01026c",
   "metadata": {},
   "outputs": [
    {
     "data": {
      "text/plain": [
       "164.09"
      ]
     },
     "execution_count": 35,
     "metadata": {},
     "output_type": "execute_result"
    }
   ],
   "source": [
    "total_bill = 0\n",
    "\n",
    "for i in range(len(counts)):\n",
    "    cur_total = prices[i] * counts[i]\n",
    "    total_bill += cur_total\n",
    "    \n",
    "total_bill"
   ]
  },
  {
   "cell_type": "code",
   "execution_count": 39,
   "id": "e8dc71e5",
   "metadata": {},
   "outputs": [
    {
     "name": "stdout",
     "output_type": "stream",
     "text": [
      "36.660000000000004\n",
      "55.55\n",
      "71.88\n"
     ]
    }
   ],
   "source": [
    "for item in [[12.22, 3], [55.55, 1], [5.99, 12]]:\n",
    "    print(item[0]*item[1])"
   ]
  },
  {
   "cell_type": "code",
   "execution_count": 41,
   "id": "8bfd8eb5",
   "metadata": {},
   "outputs": [
    {
     "data": {
      "text/plain": [
       "[(12.22, 3), (55.55, 1), (5.99, 12)]"
      ]
     },
     "execution_count": 41,
     "metadata": {},
     "output_type": "execute_result"
    }
   ],
   "source": [
    "list(zip(prices, counts))"
   ]
  },
  {
   "cell_type": "code",
   "execution_count": 43,
   "id": "8ffc1653",
   "metadata": {},
   "outputs": [
    {
     "data": {
      "text/plain": [
       "164.09"
      ]
     },
     "execution_count": 43,
     "metadata": {},
     "output_type": "execute_result"
    }
   ],
   "source": [
    "total_bill = 0\n",
    "for item in zip(prices, counts):\n",
    "    total_bill += item[0]*item[1]\n",
    "    \n",
    "total_bill"
   ]
  },
  {
   "cell_type": "code",
   "execution_count": 44,
   "id": "982d4809",
   "metadata": {},
   "outputs": [
    {
     "data": {
      "text/plain": [
       "164.09"
      ]
     },
     "execution_count": 44,
     "metadata": {},
     "output_type": "execute_result"
    }
   ],
   "source": [
    "total_bill = 0\n",
    "for price, count in zip(prices, counts):\n",
    "    total_bill += price*count\n",
    "    \n",
    "total_bill"
   ]
  },
  {
   "cell_type": "code",
   "execution_count": 46,
   "id": "08ace32c",
   "metadata": {},
   "outputs": [
    {
     "name": "stdout",
     "output_type": "stream",
     "text": [
      "cookies 3 12.22 36.660000000000004\n",
      "bread 1 55.55 55.55\n",
      "eggs 12 5.99 71.88\n",
      "--------------------\n",
      "Total Bill 164.09\n"
     ]
    }
   ],
   "source": [
    "total_bill = 0\n",
    "for item, price, count in zip(items, prices, counts):\n",
    "    item_total = price*count\n",
    "    total_bill += item_total\n",
    "    print(item, count, price, item_total)\n",
    "\n",
    "print('-'*20)\n",
    "print('Total Bill', total_bill)"
   ]
  },
  {
   "cell_type": "code",
   "execution_count": null,
   "id": "697dca09",
   "metadata": {},
   "outputs": [],
   "source": [
    "Eggs  12  5.99  72\n",
    "Bread ..\n",
    "\n",
    "Total 164.09"
   ]
  },
  {
   "cell_type": "code",
   "execution_count": 47,
   "id": "33369684",
   "metadata": {},
   "outputs": [
    {
     "data": {
      "text/plain": [
       "[12.22, 55.55, 5.99]"
      ]
     },
     "execution_count": 47,
     "metadata": {},
     "output_type": "execute_result"
    }
   ],
   "source": [
    "prices"
   ]
  },
  {
   "cell_type": "code",
   "execution_count": 48,
   "id": "68b8b985",
   "metadata": {},
   "outputs": [
    {
     "data": {
      "text/plain": [
       "['cookies', 'bread', 'eggs']"
      ]
     },
     "execution_count": 48,
     "metadata": {},
     "output_type": "execute_result"
    }
   ],
   "source": [
    "items"
   ]
  },
  {
   "cell_type": "code",
   "execution_count": 50,
   "id": "a2e29ee9",
   "metadata": {},
   "outputs": [
    {
     "data": {
      "text/plain": [
       "[12.22, 55.55, 5.99]"
      ]
     },
     "execution_count": 50,
     "metadata": {},
     "output_type": "execute_result"
    }
   ],
   "source": [
    "prices"
   ]
  },
  {
   "cell_type": "code",
   "execution_count": 49,
   "id": "01628658",
   "metadata": {},
   "outputs": [
    {
     "name": "stdout",
     "output_type": "stream",
     "text": [
      "Enter itemasdf\n",
      "Price of asdf 111\n"
     ]
    }
   ],
   "source": [
    "item=input('Enter item')\n",
    "print('Price of', item, 111)"
   ]
  },
  {
   "cell_type": "code",
   "execution_count": 60,
   "id": "cfa55a98",
   "metadata": {},
   "outputs": [
    {
     "name": "stdout",
     "output_type": "stream",
     "text": [
      "Enter itembutter\n",
      "butter not present\n"
     ]
    }
   ],
   "source": [
    "item = input('Enter item')\n",
    "if item in items:\n",
    "    idx = items.index(item)\n",
    "    print(item, prices[idx])\n",
    "else:\n",
    "    print(item, 'not present')"
   ]
  },
  {
   "cell_type": "code",
   "execution_count": 53,
   "id": "9b09168c",
   "metadata": {},
   "outputs": [
    {
     "data": {
      "text/plain": [
       "5.99"
      ]
     },
     "execution_count": 53,
     "metadata": {},
     "output_type": "execute_result"
    }
   ],
   "source": [
    "prices[idx]"
   ]
  },
  {
   "cell_type": "markdown",
   "id": "cb4ccdd4",
   "metadata": {},
   "source": [
    "## Dictionaries\n",
    "\n",
    "- Lookup (uni-directional)\n",
    "- Key-value pair store"
   ]
  },
  {
   "cell_type": "code",
   "execution_count": 64,
   "id": "27f90198",
   "metadata": {},
   "outputs": [],
   "source": [
    "ages = {'Snoopy': 101, 'Jumpy': 102, 'Sneezy': 99, 'Goofy': 104} \n",
    "d = {'a': 1, 'b': 2}\n",
    "squares = {1:1, 2:4, 3:9, 4:16}"
   ]
  },
  {
   "cell_type": "code",
   "execution_count": 62,
   "id": "2a565c34",
   "metadata": {},
   "outputs": [
    {
     "data": {
      "text/plain": [
       "dict"
      ]
     },
     "execution_count": 62,
     "metadata": {},
     "output_type": "execute_result"
    }
   ],
   "source": [
    "type(ages)"
   ]
  },
  {
   "cell_type": "code",
   "execution_count": 65,
   "id": "080ec821",
   "metadata": {},
   "outputs": [
    {
     "data": {
      "text/plain": [
       "102"
      ]
     },
     "execution_count": 65,
     "metadata": {},
     "output_type": "execute_result"
    }
   ],
   "source": [
    "ages['Jumpy']"
   ]
  },
  {
   "cell_type": "code",
   "execution_count": 66,
   "id": "6e81108b",
   "metadata": {},
   "outputs": [
    {
     "ename": "KeyError",
     "evalue": "'BlockHead'",
     "output_type": "error",
     "traceback": [
      "\u001b[0;31m---------------------------------------------------------------------------\u001b[0m",
      "\u001b[0;31mKeyError\u001b[0m                                  Traceback (most recent call last)",
      "\u001b[0;32m<ipython-input-66-fdf42fb5e131>\u001b[0m in \u001b[0;36m<module>\u001b[0;34m\u001b[0m\n\u001b[0;32m----> 1\u001b[0;31m \u001b[0mages\u001b[0m\u001b[0;34m[\u001b[0m\u001b[0;34m'BlockHead'\u001b[0m\u001b[0;34m]\u001b[0m\u001b[0;34m\u001b[0m\u001b[0;34m\u001b[0m\u001b[0m\n\u001b[0m",
      "\u001b[0;31mKeyError\u001b[0m: 'BlockHead'"
     ]
    }
   ],
   "source": [
    "ages['BlockHead']"
   ]
  },
  {
   "cell_type": "code",
   "execution_count": null,
   "id": "0ce1cf9c",
   "metadata": {},
   "outputs": [],
   "source": [
    "'BlockHead' in ages"
   ]
  },
  {
   "cell_type": "code",
   "execution_count": 67,
   "id": "a965429d",
   "metadata": {},
   "outputs": [
    {
     "data": {
      "text/plain": [
       "True"
      ]
     },
     "execution_count": 67,
     "metadata": {},
     "output_type": "execute_result"
    }
   ],
   "source": [
    "spell = 'abracadabra'\n",
    "'abra' in spell"
   ]
  },
  {
   "cell_type": "code",
   "execution_count": 68,
   "id": "c7879c57",
   "metadata": {},
   "outputs": [
    {
     "data": {
      "text/plain": [
       "{'a': 11, 'b': 2}"
      ]
     },
     "execution_count": 68,
     "metadata": {},
     "output_type": "execute_result"
    }
   ],
   "source": [
    "d['a'] = 11\n",
    "d"
   ]
  },
  {
   "cell_type": "code",
   "execution_count": 69,
   "id": "203559b0",
   "metadata": {},
   "outputs": [
    {
     "data": {
      "text/plain": [
       "{'Snoopy': 101, 'Jumpy': 102, 'Sneezy': 99, 'Goofy': 104, 'BlockHead': 111}"
      ]
     },
     "execution_count": 69,
     "metadata": {},
     "output_type": "execute_result"
    }
   ],
   "source": [
    "ages['BlockHead'] = 111\n",
    "ages"
   ]
  },
  {
   "cell_type": "code",
   "execution_count": 70,
   "id": "b3b87afd",
   "metadata": {},
   "outputs": [
    {
     "data": {
      "text/plain": [
       "{'b': 2}"
      ]
     },
     "execution_count": 70,
     "metadata": {},
     "output_type": "execute_result"
    }
   ],
   "source": [
    "del d['a']\n",
    "d"
   ]
  },
  {
   "cell_type": "code",
   "execution_count": 71,
   "id": "1ee38037",
   "metadata": {},
   "outputs": [
    {
     "data": {
      "text/plain": [
       "dict_keys(['Snoopy', 'Jumpy', 'Sneezy', 'Goofy', 'BlockHead'])"
      ]
     },
     "execution_count": 71,
     "metadata": {},
     "output_type": "execute_result"
    }
   ],
   "source": [
    "ages.keys()"
   ]
  },
  {
   "cell_type": "code",
   "execution_count": 72,
   "id": "78650f61",
   "metadata": {},
   "outputs": [
    {
     "data": {
      "text/plain": [
       "dict_values([101, 102, 99, 104, 111])"
      ]
     },
     "execution_count": 72,
     "metadata": {},
     "output_type": "execute_result"
    }
   ],
   "source": [
    "ages.values()"
   ]
  },
  {
   "cell_type": "code",
   "execution_count": 73,
   "id": "5acb8f9f",
   "metadata": {},
   "outputs": [
    {
     "data": {
      "text/plain": [
       "dict_items([('Snoopy', 101), ('Jumpy', 102), ('Sneezy', 99), ('Goofy', 104), ('BlockHead', 111)])"
      ]
     },
     "execution_count": 73,
     "metadata": {},
     "output_type": "execute_result"
    }
   ],
   "source": [
    "ages.items()"
   ]
  },
  {
   "cell_type": "code",
   "execution_count": 74,
   "id": "db70ed65",
   "metadata": {},
   "outputs": [
    {
     "name": "stdout",
     "output_type": "stream",
     "text": [
      "Snoopy 101\n",
      "Jumpy 102\n",
      "Sneezy 99\n",
      "Goofy 104\n",
      "BlockHead 111\n"
     ]
    }
   ],
   "source": [
    "for name,age in ages.items():\n",
    "    print(name, age)"
   ]
  },
  {
   "cell_type": "code",
   "execution_count": 75,
   "id": "f1843dc6",
   "metadata": {},
   "outputs": [
    {
     "name": "stdout",
     "output_type": "stream",
     "text": [
      "Snoopy 101\n",
      "Jumpy 102\n",
      "Sneezy 99\n",
      "Goofy 104\n",
      "BlockHead 111\n"
     ]
    }
   ],
   "source": [
    "for name in ages.keys():\n",
    "    print(name, ages[name])"
   ]
  },
  {
   "cell_type": "code",
   "execution_count": null,
   "id": "fe8789b7",
   "metadata": {},
   "outputs": [],
   "source": [
    "for age in ages.values():\n",
    "    print()"
   ]
  },
  {
   "cell_type": "code",
   "execution_count": 76,
   "id": "777549cc",
   "metadata": {},
   "outputs": [
    {
     "data": {
      "text/plain": [
       "102"
      ]
     },
     "execution_count": 76,
     "metadata": {},
     "output_type": "execute_result"
    }
   ],
   "source": [
    "ages['Jumpy']"
   ]
  },
  {
   "cell_type": "code",
   "execution_count": 78,
   "id": "8ed06989",
   "metadata": {},
   "outputs": [],
   "source": [
    "lage = 21\n",
    "for name,age in ages.items():\n",
    "    if lage==age:\n",
    "        print(name)"
   ]
  },
  {
   "cell_type": "code",
   "execution_count": null,
   "id": "8ad65de3",
   "metadata": {},
   "outputs": [],
   "source": [
    "item_prices['eggs']"
   ]
  },
  {
   "cell_type": "code",
   "execution_count": 79,
   "id": "3069f972",
   "metadata": {},
   "outputs": [
    {
     "data": {
      "text/plain": [
       "[12.22, 55.55, 5.99]"
      ]
     },
     "execution_count": 79,
     "metadata": {},
     "output_type": "execute_result"
    }
   ],
   "source": [
    "prices"
   ]
  },
  {
   "cell_type": "code",
   "execution_count": 80,
   "id": "11c06afd",
   "metadata": {},
   "outputs": [
    {
     "data": {
      "text/plain": [
       "['cookies', 'bread', 'eggs']"
      ]
     },
     "execution_count": 80,
     "metadata": {},
     "output_type": "execute_result"
    }
   ],
   "source": [
    "items"
   ]
  },
  {
   "cell_type": "code",
   "execution_count": 82,
   "id": "52926f03",
   "metadata": {},
   "outputs": [
    {
     "data": {
      "text/plain": [
       "[('cookies', 12.22), ('bread', 55.55), ('eggs', 5.99)]"
      ]
     },
     "execution_count": 82,
     "metadata": {},
     "output_type": "execute_result"
    }
   ],
   "source": [
    "list(zip(items, prices))"
   ]
  },
  {
   "cell_type": "code",
   "execution_count": 83,
   "id": "f59317b8",
   "metadata": {},
   "outputs": [
    {
     "data": {
      "text/plain": [
       "{'cookies': 12.22, 'bread': 55.55, 'eggs': 5.99}"
      ]
     },
     "execution_count": 83,
     "metadata": {},
     "output_type": "execute_result"
    }
   ],
   "source": [
    "dict(zip(items, prices))"
   ]
  },
  {
   "cell_type": "code",
   "execution_count": 85,
   "id": "9aacb061",
   "metadata": {},
   "outputs": [],
   "source": [
    "item_prices = {}\n",
    "\n",
    "for item, price in zip(items, prices):\n",
    "    item_prices[item] = price"
   ]
  },
  {
   "cell_type": "code",
   "execution_count": 86,
   "id": "11dbb509",
   "metadata": {},
   "outputs": [
    {
     "data": {
      "text/plain": [
       "{'cookies': 12.22, 'bread': 55.55, 'eggs': 5.99}"
      ]
     },
     "execution_count": 86,
     "metadata": {},
     "output_type": "execute_result"
    }
   ],
   "source": [
    "item_prices"
   ]
  },
  {
   "cell_type": "code",
   "execution_count": 91,
   "id": "ca4e0cd3",
   "metadata": {},
   "outputs": [
    {
     "data": {
      "text/plain": [
       "{10: 100,\n",
       " 11: 121,\n",
       " 12: 144,\n",
       " 13: 169,\n",
       " 14: 196,\n",
       " 15: 225,\n",
       " 16: 256,\n",
       " 17: 289,\n",
       " 18: 324,\n",
       " 19: 361,\n",
       " 20: 400}"
      ]
     },
     "execution_count": 91,
     "metadata": {},
     "output_type": "execute_result"
    }
   ],
   "source": [
    "# 1. create a squares dict that stores sqs of nums 10-20\n",
    "squares = {}\n",
    "for num in range(10,21):\n",
    "    squares[num] = num**2\n",
    "    \n",
    "squares"
   ]
  },
  {
   "cell_type": "code",
   "execution_count": 94,
   "id": "68b4b6c3",
   "metadata": {},
   "outputs": [
    {
     "data": {
      "text/plain": [
       "{'the': 3,\n",
       " 'quick': 5,\n",
       " 'brown': 5,\n",
       " 'fox': 3,\n",
       " 'jumps': 5,\n",
       " 'over': 4,\n",
       " 'lazy': 4,\n",
       " 'dog': 3}"
      ]
     },
     "execution_count": 94,
     "metadata": {},
     "output_type": "execute_result"
    }
   ],
   "source": [
    "# 2. dict of word lengths : {'the': 3, 'quick': 5}\n",
    "sentence = 'the quick brown fox jumps over the lazy dog'\n",
    "\n",
    "word_lens = {} \n",
    "\n",
    "for word in sentence.split():\n",
    "    word_lens[word] = len(word)\n",
    "    \n",
    "word_lens"
   ]
  },
  {
   "cell_type": "code",
   "execution_count": 106,
   "id": "92676a21",
   "metadata": {},
   "outputs": [
    {
     "data": {
      "text/plain": [
       "[2,\n",
       " 2,\n",
       " 10,\n",
       " 1,\n",
       " 10,\n",
       " 2,\n",
       " 1,\n",
       " 20,\n",
       " 5,\n",
       " 20,\n",
       " 20,\n",
       " 1,\n",
       " 5,\n",
       " 5,\n",
       " 2,\n",
       " 2,\n",
       " 10,\n",
       " 5,\n",
       " 10,\n",
       " 5,\n",
       " 2,\n",
       " 5,\n",
       " 2,\n",
       " 1,\n",
       " 2,\n",
       " 2,\n",
       " 2,\n",
       " 2,\n",
       " 10,\n",
       " 5,\n",
       " 1]"
      ]
     },
     "execution_count": 106,
     "metadata": {},
     "output_type": "execute_result"
    }
   ],
   "source": [
    "# 3. Count of coins in a piggy bank\n",
    "from random import shuffle\n",
    "piggy = [1]*5+[2]*11+[5]*7+[10]*5+[20]*3\n",
    "shuffle(piggy)\n",
    "piggy"
   ]
  },
  {
   "cell_type": "code",
   "execution_count": 107,
   "id": "501ad239",
   "metadata": {},
   "outputs": [
    {
     "name": "stdout",
     "output_type": "stream",
     "text": [
      "{2: 1}\n",
      "{2: 2}\n",
      "{2: 2, 10: 1}\n",
      "{2: 2, 10: 1, 1: 1}\n",
      "{2: 2, 10: 2, 1: 1}\n",
      "{2: 3, 10: 2, 1: 1}\n",
      "{2: 3, 10: 2, 1: 2}\n",
      "{2: 3, 10: 2, 1: 2, 20: 1}\n",
      "{2: 3, 10: 2, 1: 2, 20: 1, 5: 1}\n",
      "{2: 3, 10: 2, 1: 2, 20: 2, 5: 1}\n",
      "{2: 3, 10: 2, 1: 2, 20: 3, 5: 1}\n",
      "{2: 3, 10: 2, 1: 3, 20: 3, 5: 1}\n",
      "{2: 3, 10: 2, 1: 3, 20: 3, 5: 2}\n",
      "{2: 3, 10: 2, 1: 3, 20: 3, 5: 3}\n",
      "{2: 4, 10: 2, 1: 3, 20: 3, 5: 3}\n",
      "{2: 5, 10: 2, 1: 3, 20: 3, 5: 3}\n",
      "{2: 5, 10: 3, 1: 3, 20: 3, 5: 3}\n",
      "{2: 5, 10: 3, 1: 3, 20: 3, 5: 4}\n",
      "{2: 5, 10: 4, 1: 3, 20: 3, 5: 4}\n",
      "{2: 5, 10: 4, 1: 3, 20: 3, 5: 5}\n",
      "{2: 6, 10: 4, 1: 3, 20: 3, 5: 5}\n",
      "{2: 6, 10: 4, 1: 3, 20: 3, 5: 6}\n",
      "{2: 7, 10: 4, 1: 3, 20: 3, 5: 6}\n",
      "{2: 7, 10: 4, 1: 4, 20: 3, 5: 6}\n",
      "{2: 8, 10: 4, 1: 4, 20: 3, 5: 6}\n",
      "{2: 9, 10: 4, 1: 4, 20: 3, 5: 6}\n",
      "{2: 10, 10: 4, 1: 4, 20: 3, 5: 6}\n",
      "{2: 11, 10: 4, 1: 4, 20: 3, 5: 6}\n",
      "{2: 11, 10: 5, 1: 4, 20: 3, 5: 6}\n",
      "{2: 11, 10: 5, 1: 4, 20: 3, 5: 7}\n",
      "{2: 11, 10: 5, 1: 5, 20: 3, 5: 7}\n"
     ]
    }
   ],
   "source": [
    "# coin_counts = {1:0, 2:0, 5:0}\n",
    "coin_counts = {}\n",
    "\n",
    "for coin in piggy:\n",
    "    if coin in coin_counts:\n",
    "        coin_counts[coin] += 1\n",
    "    else:\n",
    "        coin_counts[coin] = 1\n",
    "    print(coin_counts)\n",
    "    \n",
    "# coin_counts"
   ]
  },
  {
   "cell_type": "code",
   "execution_count": 98,
   "id": "d7fadd6f",
   "metadata": {},
   "outputs": [
    {
     "data": {
      "text/plain": [
       "7"
      ]
     },
     "execution_count": 98,
     "metadata": {},
     "output_type": "execute_result"
    }
   ],
   "source": [
    "piggy.count(1)\n",
    "piggy.count(2)\n",
    "piggy.count(5)"
   ]
  },
  {
   "cell_type": "code",
   "execution_count": 108,
   "id": "153ee2ca",
   "metadata": {},
   "outputs": [
    {
     "data": {
      "text/plain": [
       "{2: 11, 10: 5, 1: 5, 20: 3, 5: 7}"
      ]
     },
     "execution_count": 108,
     "metadata": {},
     "output_type": "execute_result"
    }
   ],
   "source": [
    "coin_counts = {}\n",
    "for coin in piggy:\n",
    "    coin_counts[coin] = piggy.count(coin)\n",
    "    \n",
    "coin_counts"
   ]
  },
  {
   "cell_type": "code",
   "execution_count": 109,
   "id": "b1dc2041",
   "metadata": {},
   "outputs": [],
   "source": [
    "# Lookup for employees using name\n",
    "\n",
    "employees = '''\n",
    "jay,CEO,j@sholay.com,101\n",
    "veeru,HR,v@sholay.com,2\n",
    "basanti,CTO,b@sholay.com,1\n",
    "thakur,SSE,t@sholay.com,1001\n",
    "'''\n",
    "\n",
    "{\n",
    "    'basanti': ['CTO', 'b.', ..],\n",
    "    'jay':     ['CEO', 'j..', ..]\n",
    "}"
   ]
  },
  {
   "cell_type": "code",
   "execution_count": null,
   "id": "95934901",
   "metadata": {},
   "outputs": [],
   "source": [
    "# Queries\n",
    "# basanti's designation : CTO\n",
    "# "
   ]
  },
  {
   "cell_type": "code",
   "execution_count": null,
   "id": "86da9016",
   "metadata": {},
   "outputs": [],
   "source": [
    "# Data Structs\n",
    "# 0. Dict of List of Dicts\n",
    "# 1. Dict of Dicts +++\n",
    "# 2. Dict of lists\n",
    "# 3. List of lists"
   ]
  },
  {
   "cell_type": "code",
   "execution_count": 110,
   "id": "1401d154",
   "metadata": {},
   "outputs": [],
   "source": [
    "None"
   ]
  },
  {
   "cell_type": "code",
   "execution_count": 111,
   "id": "c31b9118",
   "metadata": {},
   "outputs": [
    {
     "name": "stdout",
     "output_type": "stream",
     "text": [
      "The Zen of Python, by Tim Peters\n",
      "\n",
      "Beautiful is better than ugly.\n",
      "Explicit is better than implicit.\n",
      "Simple is better than complex.\n",
      "Complex is better than complicated.\n",
      "Flat is better than nested.\n",
      "Sparse is better than dense.\n",
      "Readability counts.\n",
      "Special cases aren't special enough to break the rules.\n",
      "Although practicality beats purity.\n",
      "Errors should never pass silently.\n",
      "Unless explicitly silenced.\n",
      "In the face of ambiguity, refuse the temptation to guess.\n",
      "There should be one-- and preferably only one --obvious way to do it.\n",
      "Although that way may not be obvious at first unless you're Dutch.\n",
      "Now is better than never.\n",
      "Although never is often better than *right* now.\n",
      "If the implementation is hard to explain, it's a bad idea.\n",
      "If the implementation is easy to explain, it may be a good idea.\n",
      "Namespaces are one honking great idea -- let's do more of those!\n"
     ]
    }
   ],
   "source": [
    "import this"
   ]
  },
  {
   "cell_type": "code",
   "execution_count": 114,
   "id": "346e6fe5",
   "metadata": {},
   "outputs": [],
   "source": [
    "# sentence = 'A man a plan a canal panama'\n",
    "sentence = 'Able was I ere I saw Elba'"
   ]
  },
  {
   "cell_type": "code",
   "execution_count": null,
   "id": "48c444eb",
   "metadata": {},
   "outputs": [],
   "source": [
    "{\n",
    "    1: ['I', 'I'],\n",
    "    3: ['was', 'ere', 'saw']\n",
    "    4: ['Able', 'Elba']\n",
    "}"
   ]
  },
  {
   "cell_type": "code",
   "execution_count": 115,
   "id": "abdb2d0e",
   "metadata": {},
   "outputs": [
    {
     "name": "stdout",
     "output_type": "stream",
     "text": [
      "{4: ['Able']}\n",
      "{4: ['Able'], 3: ['was']}\n",
      "{4: ['Able'], 3: ['was'], 1: ['I']}\n",
      "{4: ['Able'], 3: ['was', 'ere'], 1: ['I']}\n",
      "{4: ['Able'], 3: ['was', 'ere'], 1: ['I', 'I']}\n",
      "{4: ['Able'], 3: ['was', 'ere', 'saw'], 1: ['I', 'I']}\n",
      "{4: ['Able', 'Elba'], 3: ['was', 'ere', 'saw'], 1: ['I', 'I']}\n"
     ]
    }
   ],
   "source": [
    "words_by_len = {}\n",
    "\n",
    "for word in sentence.split():\n",
    "    key = len(word)\n",
    "    if key not in words_by_len:\n",
    "        words_by_len[key] = []\n",
    "    words_by_len[key].append(word)\n",
    "    print(words_by_len)"
   ]
  },
  {
   "cell_type": "markdown",
   "id": "310c76e3",
   "metadata": {},
   "source": [
    "## Fun: Python Challenge"
   ]
  },
  {
   "cell_type": "code",
   "execution_count": 116,
   "id": "323060db",
   "metadata": {},
   "outputs": [
    {
     "data": {
      "text/plain": [
       "274877906944"
      ]
     },
     "execution_count": 116,
     "metadata": {},
     "output_type": "execute_result"
    }
   ],
   "source": [
    "2**38"
   ]
  },
  {
   "cell_type": "code",
   "execution_count": 118,
   "id": "80e311fd",
   "metadata": {},
   "outputs": [],
   "source": [
    "crypt = '''\n",
    "g fmnc wms bgblr rpylqjyrc gr zw fylb. rfyrq ufyr amknsrcpq ypc dmp. bmgle gr gl zw fylb gq glcddgagclr ylb rfyr'q ufw rfgq rcvr gq qm jmle. sqgle qrpgle.kyicrpylq() gq pcamkkclbcb. lmu ynnjw ml rfc spj.\n",
    "'''"
   ]
  },
  {
   "cell_type": "code",
   "execution_count": 119,
   "id": "27d2e18e",
   "metadata": {},
   "outputs": [
    {
     "data": {
      "text/plain": [
       "97"
      ]
     },
     "execution_count": 119,
     "metadata": {},
     "output_type": "execute_result"
    }
   ],
   "source": [
    "ord('a')"
   ]
  },
  {
   "cell_type": "code",
   "execution_count": 120,
   "id": "cdfc1a72",
   "metadata": {},
   "outputs": [
    {
     "data": {
      "text/plain": [
       "65"
      ]
     },
     "execution_count": 120,
     "metadata": {},
     "output_type": "execute_result"
    }
   ],
   "source": [
    "ord('A')"
   ]
  },
  {
   "cell_type": "code",
   "execution_count": 121,
   "id": "dcc2c3c4",
   "metadata": {},
   "outputs": [
    {
     "data": {
      "text/plain": [
       "'A'"
      ]
     },
     "execution_count": 121,
     "metadata": {},
     "output_type": "execute_result"
    }
   ],
   "source": [
    "chr(65)"
   ]
  },
  {
   "cell_type": "code",
   "execution_count": 122,
   "id": "638c4acf",
   "metadata": {},
   "outputs": [
    {
     "data": {
      "text/plain": [
       "'c'"
      ]
     },
     "execution_count": 122,
     "metadata": {},
     "output_type": "execute_result"
    }
   ],
   "source": [
    "char = 'a'\n",
    "chr(ord(char)+2)"
   ]
  },
  {
   "cell_type": "code",
   "execution_count": 126,
   "id": "0bc45b97",
   "metadata": {},
   "outputs": [
    {
     "name": "stdout",
     "output_type": "stream",
     "text": [
      "\f",
      "i\"hope\"you\"didnt\"tr{nsl{te\"it\"|y\"h{nd0\"th{ts\"wh{t\"computers\"{re\"for0\"doing\"it\"in\"|y\"h{nd\"is\"inefficient\"{nd\"th{t)s\"why\"this\"text\"is\"so\"long0\"using\"string0m{ketr{ns*+\"is\"recommended0\"now\"{pply\"on\"the\"url0\f"
     ]
    }
   ],
   "source": [
    "for char in crypt:\n",
    "    print(chr(ord(char)+2), end='')"
   ]
  },
  {
   "cell_type": "code",
   "execution_count": 127,
   "id": "db87a813",
   "metadata": {},
   "outputs": [
    {
     "name": "stdout",
     "output_type": "stream",
     "text": [
      "ocr"
     ]
    }
   ],
   "source": [
    "for char in 'map':\n",
    "    print(chr(ord(char)+2), end='')"
   ]
  },
  {
   "cell_type": "code",
   "execution_count": null,
   "id": "1dd4887f",
   "metadata": {},
   "outputs": [],
   "source": []
  },
  {
   "cell_type": "code",
   "execution_count": null,
   "id": "d0805241",
   "metadata": {},
   "outputs": [],
   "source": []
  },
  {
   "cell_type": "code",
   "execution_count": null,
   "id": "f71654b8",
   "metadata": {},
   "outputs": [],
   "source": []
  }
 ],
 "metadata": {
  "kernelspec": {
   "display_name": "Python 3",
   "language": "python",
   "name": "python3"
  },
  "language_info": {
   "codemirror_mode": {
    "name": "ipython",
    "version": 3
   },
   "file_extension": ".py",
   "mimetype": "text/x-python",
   "name": "python",
   "nbconvert_exporter": "python",
   "pygments_lexer": "ipython3",
   "version": "3.8.17"
  }
 },
 "nbformat": 4,
 "nbformat_minor": 5
}
