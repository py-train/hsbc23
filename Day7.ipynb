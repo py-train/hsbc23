{
 "cells": [
  {
   "cell_type": "markdown",
   "id": "6dba6ed0",
   "metadata": {},
   "source": [
    "# Day 7: Agenda\n",
    "\n",
    "- Classification\n",
    "    - Other Models\n",
    "    - Model hyper-param tuning\n",
    "    - Evaluation Metrics\n",
    "- Regression\n",
    "    - Use-case(s)\n",
    "    - Linear Regression\n",
    "    - Other models\n",
    "    - Evaluation Metrics\n",
    "- Feature Engineering\n",
    "    - Vectorization\n",
    "    - Encoding\n",
    "- Machine Learning Basics/Theory"
   ]
  },
  {
   "cell_type": "code",
   "execution_count": 1,
   "id": "7d3fbe08",
   "metadata": {},
   "outputs": [],
   "source": [
    "import pandas as pd\n",
    "import numpy as np"
   ]
  },
  {
   "cell_type": "code",
   "execution_count": 3,
   "id": "f2be343d",
   "metadata": {},
   "outputs": [],
   "source": [
    "from sklearn.linear_model import LinearRegression\n",
    "from sklearn.model_selection import train_test_split"
   ]
  },
  {
   "cell_type": "code",
   "execution_count": 4,
   "id": "fbcbcae4",
   "metadata": {},
   "outputs": [
    {
     "data": {
      "text/html": [
       "<div>\n",
       "<style scoped>\n",
       "    .dataframe tbody tr th:only-of-type {\n",
       "        vertical-align: middle;\n",
       "    }\n",
       "\n",
       "    .dataframe tbody tr th {\n",
       "        vertical-align: top;\n",
       "    }\n",
       "\n",
       "    .dataframe thead th {\n",
       "        text-align: right;\n",
       "    }\n",
       "</style>\n",
       "<table border=\"1\" class=\"dataframe\">\n",
       "  <thead>\n",
       "    <tr style=\"text-align: right;\">\n",
       "      <th></th>\n",
       "      <th>mpg</th>\n",
       "      <th>cyl</th>\n",
       "      <th>displ</th>\n",
       "      <th>hp</th>\n",
       "      <th>weight</th>\n",
       "      <th>accel</th>\n",
       "      <th>yr</th>\n",
       "      <th>origin</th>\n",
       "      <th>name</th>\n",
       "    </tr>\n",
       "  </thead>\n",
       "  <tbody>\n",
       "    <tr>\n",
       "      <th>0</th>\n",
       "      <td>18.0</td>\n",
       "      <td>8</td>\n",
       "      <td>307.0</td>\n",
       "      <td>130</td>\n",
       "      <td>3504</td>\n",
       "      <td>12.0</td>\n",
       "      <td>70</td>\n",
       "      <td>US</td>\n",
       "      <td>chevrolet chevelle malibu</td>\n",
       "    </tr>\n",
       "    <tr>\n",
       "      <th>1</th>\n",
       "      <td>15.0</td>\n",
       "      <td>8</td>\n",
       "      <td>350.0</td>\n",
       "      <td>165</td>\n",
       "      <td>3693</td>\n",
       "      <td>11.5</td>\n",
       "      <td>70</td>\n",
       "      <td>US</td>\n",
       "      <td>buick skylark 320</td>\n",
       "    </tr>\n",
       "    <tr>\n",
       "      <th>2</th>\n",
       "      <td>18.0</td>\n",
       "      <td>8</td>\n",
       "      <td>318.0</td>\n",
       "      <td>150</td>\n",
       "      <td>3436</td>\n",
       "      <td>11.0</td>\n",
       "      <td>70</td>\n",
       "      <td>US</td>\n",
       "      <td>plymouth satellite</td>\n",
       "    </tr>\n",
       "    <tr>\n",
       "      <th>3</th>\n",
       "      <td>16.0</td>\n",
       "      <td>8</td>\n",
       "      <td>304.0</td>\n",
       "      <td>150</td>\n",
       "      <td>3433</td>\n",
       "      <td>12.0</td>\n",
       "      <td>70</td>\n",
       "      <td>US</td>\n",
       "      <td>amc rebel sst</td>\n",
       "    </tr>\n",
       "    <tr>\n",
       "      <th>4</th>\n",
       "      <td>17.0</td>\n",
       "      <td>8</td>\n",
       "      <td>302.0</td>\n",
       "      <td>140</td>\n",
       "      <td>3449</td>\n",
       "      <td>10.5</td>\n",
       "      <td>70</td>\n",
       "      <td>US</td>\n",
       "      <td>ford torino</td>\n",
       "    </tr>\n",
       "    <tr>\n",
       "      <th>...</th>\n",
       "      <td>...</td>\n",
       "      <td>...</td>\n",
       "      <td>...</td>\n",
       "      <td>...</td>\n",
       "      <td>...</td>\n",
       "      <td>...</td>\n",
       "      <td>...</td>\n",
       "      <td>...</td>\n",
       "      <td>...</td>\n",
       "    </tr>\n",
       "    <tr>\n",
       "      <th>387</th>\n",
       "      <td>27.0</td>\n",
       "      <td>4</td>\n",
       "      <td>140.0</td>\n",
       "      <td>86</td>\n",
       "      <td>2790</td>\n",
       "      <td>15.6</td>\n",
       "      <td>82</td>\n",
       "      <td>US</td>\n",
       "      <td>ford mustang gl</td>\n",
       "    </tr>\n",
       "    <tr>\n",
       "      <th>388</th>\n",
       "      <td>44.0</td>\n",
       "      <td>4</td>\n",
       "      <td>97.0</td>\n",
       "      <td>52</td>\n",
       "      <td>2130</td>\n",
       "      <td>24.6</td>\n",
       "      <td>82</td>\n",
       "      <td>Europe</td>\n",
       "      <td>vw pickup</td>\n",
       "    </tr>\n",
       "    <tr>\n",
       "      <th>389</th>\n",
       "      <td>32.0</td>\n",
       "      <td>4</td>\n",
       "      <td>135.0</td>\n",
       "      <td>84</td>\n",
       "      <td>2295</td>\n",
       "      <td>11.6</td>\n",
       "      <td>82</td>\n",
       "      <td>US</td>\n",
       "      <td>dodge rampage</td>\n",
       "    </tr>\n",
       "    <tr>\n",
       "      <th>390</th>\n",
       "      <td>28.0</td>\n",
       "      <td>4</td>\n",
       "      <td>120.0</td>\n",
       "      <td>79</td>\n",
       "      <td>2625</td>\n",
       "      <td>18.6</td>\n",
       "      <td>82</td>\n",
       "      <td>US</td>\n",
       "      <td>ford ranger</td>\n",
       "    </tr>\n",
       "    <tr>\n",
       "      <th>391</th>\n",
       "      <td>31.0</td>\n",
       "      <td>4</td>\n",
       "      <td>119.0</td>\n",
       "      <td>82</td>\n",
       "      <td>2720</td>\n",
       "      <td>19.4</td>\n",
       "      <td>82</td>\n",
       "      <td>US</td>\n",
       "      <td>chevy s-10</td>\n",
       "    </tr>\n",
       "  </tbody>\n",
       "</table>\n",
       "<p>392 rows × 9 columns</p>\n",
       "</div>"
      ],
      "text/plain": [
       "      mpg  cyl  displ   hp  weight  accel  yr  origin  \\\n",
       "0    18.0    8  307.0  130    3504   12.0  70      US   \n",
       "1    15.0    8  350.0  165    3693   11.5  70      US   \n",
       "2    18.0    8  318.0  150    3436   11.0  70      US   \n",
       "3    16.0    8  304.0  150    3433   12.0  70      US   \n",
       "4    17.0    8  302.0  140    3449   10.5  70      US   \n",
       "..    ...  ...    ...  ...     ...    ...  ..     ...   \n",
       "387  27.0    4  140.0   86    2790   15.6  82      US   \n",
       "388  44.0    4   97.0   52    2130   24.6  82  Europe   \n",
       "389  32.0    4  135.0   84    2295   11.6  82      US   \n",
       "390  28.0    4  120.0   79    2625   18.6  82      US   \n",
       "391  31.0    4  119.0   82    2720   19.4  82      US   \n",
       "\n",
       "                          name  \n",
       "0    chevrolet chevelle malibu  \n",
       "1            buick skylark 320  \n",
       "2           plymouth satellite  \n",
       "3                amc rebel sst  \n",
       "4                  ford torino  \n",
       "..                         ...  \n",
       "387            ford mustang gl  \n",
       "388                  vw pickup  \n",
       "389              dodge rampage  \n",
       "390                ford ranger  \n",
       "391                 chevy s-10  \n",
       "\n",
       "[392 rows x 9 columns]"
      ]
     },
     "execution_count": 4,
     "metadata": {},
     "output_type": "execute_result"
    }
   ],
   "source": [
    "mpg = pd.read_csv('data/auto-mpg.csv')\n",
    "mpg"
   ]
  },
  {
   "cell_type": "code",
   "execution_count": 5,
   "id": "2c9174ce",
   "metadata": {},
   "outputs": [],
   "source": [
    "y = mpg.pop('mpg')"
   ]
  },
  {
   "cell_type": "code",
   "execution_count": 7,
   "id": "8fc08b6a",
   "metadata": {},
   "outputs": [],
   "source": [
    "mpg.drop(['origin', 'name'], axis='columns', inplace=True)"
   ]
  },
  {
   "cell_type": "code",
   "execution_count": 8,
   "id": "ff378f9e",
   "metadata": {},
   "outputs": [
    {
     "data": {
      "text/html": [
       "<div>\n",
       "<style scoped>\n",
       "    .dataframe tbody tr th:only-of-type {\n",
       "        vertical-align: middle;\n",
       "    }\n",
       "\n",
       "    .dataframe tbody tr th {\n",
       "        vertical-align: top;\n",
       "    }\n",
       "\n",
       "    .dataframe thead th {\n",
       "        text-align: right;\n",
       "    }\n",
       "</style>\n",
       "<table border=\"1\" class=\"dataframe\">\n",
       "  <thead>\n",
       "    <tr style=\"text-align: right;\">\n",
       "      <th></th>\n",
       "      <th>cyl</th>\n",
       "      <th>displ</th>\n",
       "      <th>hp</th>\n",
       "      <th>weight</th>\n",
       "      <th>accel</th>\n",
       "      <th>yr</th>\n",
       "    </tr>\n",
       "  </thead>\n",
       "  <tbody>\n",
       "    <tr>\n",
       "      <th>0</th>\n",
       "      <td>8</td>\n",
       "      <td>307.0</td>\n",
       "      <td>130</td>\n",
       "      <td>3504</td>\n",
       "      <td>12.0</td>\n",
       "      <td>70</td>\n",
       "    </tr>\n",
       "    <tr>\n",
       "      <th>1</th>\n",
       "      <td>8</td>\n",
       "      <td>350.0</td>\n",
       "      <td>165</td>\n",
       "      <td>3693</td>\n",
       "      <td>11.5</td>\n",
       "      <td>70</td>\n",
       "    </tr>\n",
       "    <tr>\n",
       "      <th>2</th>\n",
       "      <td>8</td>\n",
       "      <td>318.0</td>\n",
       "      <td>150</td>\n",
       "      <td>3436</td>\n",
       "      <td>11.0</td>\n",
       "      <td>70</td>\n",
       "    </tr>\n",
       "    <tr>\n",
       "      <th>3</th>\n",
       "      <td>8</td>\n",
       "      <td>304.0</td>\n",
       "      <td>150</td>\n",
       "      <td>3433</td>\n",
       "      <td>12.0</td>\n",
       "      <td>70</td>\n",
       "    </tr>\n",
       "    <tr>\n",
       "      <th>4</th>\n",
       "      <td>8</td>\n",
       "      <td>302.0</td>\n",
       "      <td>140</td>\n",
       "      <td>3449</td>\n",
       "      <td>10.5</td>\n",
       "      <td>70</td>\n",
       "    </tr>\n",
       "    <tr>\n",
       "      <th>...</th>\n",
       "      <td>...</td>\n",
       "      <td>...</td>\n",
       "      <td>...</td>\n",
       "      <td>...</td>\n",
       "      <td>...</td>\n",
       "      <td>...</td>\n",
       "    </tr>\n",
       "    <tr>\n",
       "      <th>387</th>\n",
       "      <td>4</td>\n",
       "      <td>140.0</td>\n",
       "      <td>86</td>\n",
       "      <td>2790</td>\n",
       "      <td>15.6</td>\n",
       "      <td>82</td>\n",
       "    </tr>\n",
       "    <tr>\n",
       "      <th>388</th>\n",
       "      <td>4</td>\n",
       "      <td>97.0</td>\n",
       "      <td>52</td>\n",
       "      <td>2130</td>\n",
       "      <td>24.6</td>\n",
       "      <td>82</td>\n",
       "    </tr>\n",
       "    <tr>\n",
       "      <th>389</th>\n",
       "      <td>4</td>\n",
       "      <td>135.0</td>\n",
       "      <td>84</td>\n",
       "      <td>2295</td>\n",
       "      <td>11.6</td>\n",
       "      <td>82</td>\n",
       "    </tr>\n",
       "    <tr>\n",
       "      <th>390</th>\n",
       "      <td>4</td>\n",
       "      <td>120.0</td>\n",
       "      <td>79</td>\n",
       "      <td>2625</td>\n",
       "      <td>18.6</td>\n",
       "      <td>82</td>\n",
       "    </tr>\n",
       "    <tr>\n",
       "      <th>391</th>\n",
       "      <td>4</td>\n",
       "      <td>119.0</td>\n",
       "      <td>82</td>\n",
       "      <td>2720</td>\n",
       "      <td>19.4</td>\n",
       "      <td>82</td>\n",
       "    </tr>\n",
       "  </tbody>\n",
       "</table>\n",
       "<p>392 rows × 6 columns</p>\n",
       "</div>"
      ],
      "text/plain": [
       "     cyl  displ   hp  weight  accel  yr\n",
       "0      8  307.0  130    3504   12.0  70\n",
       "1      8  350.0  165    3693   11.5  70\n",
       "2      8  318.0  150    3436   11.0  70\n",
       "3      8  304.0  150    3433   12.0  70\n",
       "4      8  302.0  140    3449   10.5  70\n",
       "..   ...    ...  ...     ...    ...  ..\n",
       "387    4  140.0   86    2790   15.6  82\n",
       "388    4   97.0   52    2130   24.6  82\n",
       "389    4  135.0   84    2295   11.6  82\n",
       "390    4  120.0   79    2625   18.6  82\n",
       "391    4  119.0   82    2720   19.4  82\n",
       "\n",
       "[392 rows x 6 columns]"
      ]
     },
     "execution_count": 8,
     "metadata": {},
     "output_type": "execute_result"
    }
   ],
   "source": [
    "X = mpg\n",
    "X"
   ]
  },
  {
   "cell_type": "code",
   "execution_count": 9,
   "id": "ab2760ec",
   "metadata": {},
   "outputs": [],
   "source": [
    "Xtrain, Xtest, ytrain, ytest = train_test_split(X,y, train_size=0.7)"
   ]
  },
  {
   "cell_type": "code",
   "execution_count": 10,
   "id": "125fecbe",
   "metadata": {},
   "outputs": [],
   "source": [
    "lr = LinearRegression()\n",
    "lr.fit(Xtrain, ytrain)\n",
    "ypred = lr.predict(Xtest)"
   ]
  },
  {
   "cell_type": "code",
   "execution_count": 21,
   "id": "16926b28",
   "metadata": {},
   "outputs": [
    {
     "data": {
      "text/plain": [
       "-0.3164476848880652"
      ]
     },
     "execution_count": 21,
     "metadata": {},
     "output_type": "execute_result"
    }
   ],
   "source": [
    "# Mean Error\n",
    "(ypred - ytest).mean()"
   ]
  },
  {
   "cell_type": "code",
   "execution_count": 22,
   "id": "dab0f4f7",
   "metadata": {},
   "outputs": [
    {
     "data": {
      "text/plain": [
       "2.736861839984323"
      ]
     },
     "execution_count": 22,
     "metadata": {},
     "output_type": "execute_result"
    }
   ],
   "source": [
    "# Mean Absolute Error\n",
    "np.abs(ypred - ytest).mean()"
   ]
  },
  {
   "cell_type": "code",
   "execution_count": 28,
   "id": "10dff171",
   "metadata": {},
   "outputs": [
    {
     "data": {
      "text/plain": [
       "1496.7767254894757"
      ]
     },
     "execution_count": 28,
     "metadata": {},
     "output_type": "execute_result"
    }
   ],
   "source": [
    "# Sum of Squares Error (SSE)\n",
    "((ypred - ytest)**2).sum()"
   ]
  },
  {
   "cell_type": "code",
   "execution_count": 20,
   "id": "f6ff8b1d",
   "metadata": {},
   "outputs": [
    {
     "data": {
      "text/plain": [
       "12.684548521097252"
      ]
     },
     "execution_count": 20,
     "metadata": {},
     "output_type": "execute_result"
    }
   ],
   "source": [
    "# Mean Squared Error\n",
    "((ypred - ytest)**2).mean()"
   ]
  },
  {
   "cell_type": "code",
   "execution_count": 19,
   "id": "392e06f9",
   "metadata": {},
   "outputs": [
    {
     "data": {
      "text/plain": [
       "3.5615373816790483"
      ]
     },
     "execution_count": 19,
     "metadata": {},
     "output_type": "execute_result"
    }
   ],
   "source": [
    "# Root Mean Squared Error : same unit as y\n",
    "np.sqrt(((ypred - ytest)**2).mean())"
   ]
  },
  {
   "cell_type": "code",
   "execution_count": 26,
   "id": "3ae1c2e9",
   "metadata": {},
   "outputs": [
    {
     "data": {
      "text/plain": [
       "8.088308768105575"
      ]
     },
     "execution_count": 26,
     "metadata": {},
     "output_type": "execute_result"
    }
   ],
   "source": [
    "# RMSE for y = ymean\n",
    "np.sqrt(((y.mean() - ytest)**2).mean())"
   ]
  },
  {
   "cell_type": "code",
   "execution_count": 27,
   "id": "f5904f01",
   "metadata": {},
   "outputs": [
    {
     "data": {
      "text/plain": [
       "65.42073872821352"
      ]
     },
     "execution_count": 27,
     "metadata": {},
     "output_type": "execute_result"
    }
   ],
   "source": [
    "# MSE for y = ymean\n",
    "((y.mean() - ytest)**2).mean()"
   ]
  },
  {
   "cell_type": "code",
   "execution_count": 29,
   "id": "ec7f6aea",
   "metadata": {},
   "outputs": [
    {
     "data": {
      "text/plain": [
       "7719.647169929196"
      ]
     },
     "execution_count": 29,
     "metadata": {},
     "output_type": "execute_result"
    }
   ],
   "source": [
    "# SSE for y = ymean => Total Sum of Errors (TSE)\n",
    "((y.mean() - ytest)**2).sum()"
   ]
  },
  {
   "cell_type": "code",
   "execution_count": 32,
   "id": "8b4f13e7",
   "metadata": {},
   "outputs": [
    {
     "data": {
      "text/plain": [
       "0.8061081429576265"
      ]
     },
     "execution_count": 32,
     "metadata": {},
     "output_type": "execute_result"
    }
   ],
   "source": [
    "# R^2\n",
    "1 - 1496.7767254894757 / 7719.647169929196"
   ]
  },
  {
   "cell_type": "code",
   "execution_count": 34,
   "id": "0f011666",
   "metadata": {},
   "outputs": [
    {
     "data": {
      "text/plain": [
       "0.8045938593364245"
      ]
     },
     "execution_count": 34,
     "metadata": {},
     "output_type": "execute_result"
    }
   ],
   "source": [
    "lr.score(Xtest, ytest)"
   ]
  },
  {
   "cell_type": "markdown",
   "id": "4f877ff3",
   "metadata": {},
   "source": [
    "$ R^2 = 1 - SSE/TSE $"
   ]
  },
  {
   "cell_type": "code",
   "execution_count": 39,
   "id": "d4fde643",
   "metadata": {},
   "outputs": [
    {
     "data": {
      "text/plain": [
       "100"
      ]
     },
     "execution_count": 39,
     "metadata": {},
     "output_type": "execute_result"
    }
   ],
   "source": [
    "x1 = np.linspace(0,100,num=100)\n",
    "len(x1)"
   ]
  },
  {
   "cell_type": "code",
   "execution_count": 41,
   "id": "6886e676",
   "metadata": {},
   "outputs": [
    {
     "data": {
      "text/plain": [
       "100000"
      ]
     },
     "execution_count": 41,
     "metadata": {},
     "output_type": "execute_result"
    }
   ],
   "source": [
    "x2 = np.linspace(0,100,num=1_00_000)\n",
    "len(x2)"
   ]
  },
  {
   "cell_type": "code",
   "execution_count": 51,
   "id": "ea741a25",
   "metadata": {},
   "outputs": [],
   "source": [
    "y1 = x1 + (np.random.random(len(x1))-0.5)*10\n",
    "y2 = x2 + (np.random.random(len(x2))-0.5)*10"
   ]
  },
  {
   "cell_type": "code",
   "execution_count": 44,
   "id": "db0b788e",
   "metadata": {},
   "outputs": [],
   "source": [
    "import seaborn as sns"
   ]
  },
  {
   "cell_type": "code",
   "execution_count": 54,
   "id": "a4da00c0",
   "metadata": {},
   "outputs": [
    {
     "data": {
      "text/plain": [
       "<matplotlib.axes._subplots.AxesSubplot at 0x122257d90>"
      ]
     },
     "execution_count": 54,
     "metadata": {},
     "output_type": "execute_result"
    },
    {
     "data": {
      "image/png": "[encoded data removed]",
      "text/plain": [
       "<Figure size 432x288 with 1 Axes>"
      ]
     },
     "metadata": {
      "needs_background": "light"
     },
     "output_type": "display_data"
    }
   ],
   "source": [
    "sns.scatterplot(x1, y1)"
   ]
  },
  {
   "cell_type": "code",
   "execution_count": 53,
   "id": "2c070c70",
   "metadata": {},
   "outputs": [
    {
     "data": {
      "text/plain": [
       "<matplotlib.axes._subplots.AxesSubplot at 0x122202b20>"
      ]
     },
     "execution_count": 53,
     "metadata": {},
     "output_type": "execute_result"
    },
    {
     "data": {
      "image/png": "[encoded data removed]",
      "text/plain": [
       "<Figure size 432x288 with 1 Axes>"
      ]
     },
     "metadata": {
      "needs_background": "light"
     },
     "output_type": "display_data"
    }
   ],
   "source": [
    "sns.scatterplot(x2, y2)"
   ]
  },
  {
   "cell_type": "markdown",
   "id": "2207e3fd",
   "metadata": {},
   "source": [
    "### SSE\n",
    "\n",
    "- Affected by data size!"
   ]
  },
  {
   "cell_type": "code",
   "execution_count": 55,
   "id": "d1a595c0",
   "metadata": {},
   "outputs": [
    {
     "data": {
      "text/plain": [
       "946.1003335709904"
      ]
     },
     "execution_count": 55,
     "metadata": {},
     "output_type": "execute_result"
    }
   ],
   "source": [
    "((y1-x1)**2).sum()    # SSE"
   ]
  },
  {
   "cell_type": "code",
   "execution_count": 56,
   "id": "c47c1e85",
   "metadata": {},
   "outputs": [
    {
     "data": {
      "text/plain": [
       "830941.8554045133"
      ]
     },
     "execution_count": 56,
     "metadata": {},
     "output_type": "execute_result"
    }
   ],
   "source": [
    "((y2-x2)**2).sum()    # SSE"
   ]
  },
  {
   "cell_type": "markdown",
   "id": "3bc0f189",
   "metadata": {},
   "source": [
    "### MSE\n",
    "\n",
    "- NOT affected by data size!\n",
    "- Not in the same unit as y (square of unit)"
   ]
  },
  {
   "cell_type": "code",
   "execution_count": 61,
   "id": "790a6565",
   "metadata": {},
   "outputs": [
    {
     "data": {
      "text/plain": [
       "9.461003335709904"
      ]
     },
     "execution_count": 61,
     "metadata": {},
     "output_type": "execute_result"
    }
   ],
   "source": [
    "((y1-x1)**2).mean()    # MSE"
   ]
  },
  {
   "cell_type": "code",
   "execution_count": 62,
   "id": "983495af",
   "metadata": {},
   "outputs": [
    {
     "data": {
      "text/plain": [
       "8.309418554045132"
      ]
     },
     "execution_count": 62,
     "metadata": {},
     "output_type": "execute_result"
    }
   ],
   "source": [
    "((y2-x2)**2).mean()    # MSE"
   ]
  },
  {
   "cell_type": "markdown",
   "id": "5e31582b",
   "metadata": {},
   "source": [
    "### RMSE\n",
    "\n",
    "- NOT affected by data size!\n",
    "- In the same unit as y"
   ]
  },
  {
   "cell_type": "code",
   "execution_count": 59,
   "id": "6dbc3f6a",
   "metadata": {},
   "outputs": [
    {
     "data": {
      "text/plain": [
       "3.07587440180998"
      ]
     },
     "execution_count": 59,
     "metadata": {},
     "output_type": "execute_result"
    }
   ],
   "source": [
    "np.sqrt(((y1-x1)**2).mean())    # RMSE"
   ]
  },
  {
   "cell_type": "code",
   "execution_count": 60,
   "id": "da7bccbc",
   "metadata": {},
   "outputs": [
    {
     "data": {
      "text/plain": [
       "2.882606208632239"
      ]
     },
     "execution_count": 60,
     "metadata": {},
     "output_type": "execute_result"
    }
   ],
   "source": [
    "np.sqrt(((y2-x2)**2).mean())    # RMSE"
   ]
  },
  {
   "cell_type": "code",
   "execution_count": null,
   "id": "0358ee94",
   "metadata": {},
   "outputs": [],
   "source": []
  },
  {
   "cell_type": "code",
   "execution_count": null,
   "id": "42b4c629",
   "metadata": {},
   "outputs": [],
   "source": []
  },
  {
   "cell_type": "code",
   "execution_count": null,
   "id": "1bf4adcf",
   "metadata": {},
   "outputs": [],
   "source": []
  },
  {
   "cell_type": "code",
   "execution_count": null,
   "id": "e2c23dac",
   "metadata": {},
   "outputs": [],
   "source": []
  }
 ],
 "metadata": {
  "kernelspec": {
   "display_name": "Python 3",
   "language": "python",
   "name": "python3"
  },
  "language_info": {
   "codemirror_mode": {
    "name": "ipython",
    "version": 3
   },
   "file_extension": ".py",
   "mimetype": "text/x-python",
   "name": "python",
   "nbconvert_exporter": "python",
   "pygments_lexer": "ipython3",
   "version": "3.8.17"
  }
 },
 "nbformat": 4,
 "nbformat_minor": 5
}
