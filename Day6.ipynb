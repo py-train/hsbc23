{
 "cells": [
  {
   "cell_type": "markdown",
   "id": "830bfb79",
   "metadata": {},
   "source": [
    "# Day 6: Agenda\n",
    "\n",
    "- Data Analytics round-up\n",
    "- Machine Learning\n",
    "- Revision\n",
    "- Eval"
   ]
  },
  {
   "cell_type": "markdown",
   "id": "d455e069",
   "metadata": {},
   "source": [
    "### Olympics medals\n",
    "\n",
    "Observtions\n",
    "1. \n",
    "\n"
   ]
  },
  {
   "cell_type": "code",
   "execution_count": 1,
   "id": "13a269a4",
   "metadata": {},
   "outputs": [],
   "source": [
    "import pandas as pd"
   ]
  },
  {
   "cell_type": "code",
   "execution_count": 2,
   "id": "267981c8",
   "metadata": {},
   "outputs": [
    {
     "data": {
      "text/html": [
       "<div>\n",
       "<style scoped>\n",
       "    .dataframe tbody tr th:only-of-type {\n",
       "        vertical-align: middle;\n",
       "    }\n",
       "\n",
       "    .dataframe tbody tr th {\n",
       "        vertical-align: top;\n",
       "    }\n",
       "\n",
       "    .dataframe thead th {\n",
       "        text-align: right;\n",
       "    }\n",
       "</style>\n",
       "<table border=\"1\" class=\"dataframe\">\n",
       "  <thead>\n",
       "    <tr style=\"text-align: right;\">\n",
       "      <th></th>\n",
       "      <th>City</th>\n",
       "      <th>Edition</th>\n",
       "      <th>Sport</th>\n",
       "      <th>Discipline</th>\n",
       "      <th>Athlete</th>\n",
       "      <th>NOC</th>\n",
       "      <th>Gender</th>\n",
       "      <th>Event</th>\n",
       "      <th>Event_gender</th>\n",
       "      <th>Medal</th>\n",
       "    </tr>\n",
       "  </thead>\n",
       "  <tbody>\n",
       "    <tr>\n",
       "      <th>0</th>\n",
       "      <td>Athens</td>\n",
       "      <td>1896</td>\n",
       "      <td>Aquatics</td>\n",
       "      <td>Swimming</td>\n",
       "      <td>HAJOS, Alfred</td>\n",
       "      <td>HUN</td>\n",
       "      <td>Men</td>\n",
       "      <td>100m freestyle</td>\n",
       "      <td>M</td>\n",
       "      <td>Gold</td>\n",
       "    </tr>\n",
       "    <tr>\n",
       "      <th>1</th>\n",
       "      <td>Athens</td>\n",
       "      <td>1896</td>\n",
       "      <td>Aquatics</td>\n",
       "      <td>Swimming</td>\n",
       "      <td>HERSCHMANN, Otto</td>\n",
       "      <td>AUT</td>\n",
       "      <td>Men</td>\n",
       "      <td>100m freestyle</td>\n",
       "      <td>M</td>\n",
       "      <td>Silver</td>\n",
       "    </tr>\n",
       "    <tr>\n",
       "      <th>2</th>\n",
       "      <td>Athens</td>\n",
       "      <td>1896</td>\n",
       "      <td>Aquatics</td>\n",
       "      <td>Swimming</td>\n",
       "      <td>DRIVAS, Dimitrios</td>\n",
       "      <td>GRE</td>\n",
       "      <td>Men</td>\n",
       "      <td>100m freestyle for sailors</td>\n",
       "      <td>M</td>\n",
       "      <td>Bronze</td>\n",
       "    </tr>\n",
       "    <tr>\n",
       "      <th>3</th>\n",
       "      <td>Athens</td>\n",
       "      <td>1896</td>\n",
       "      <td>Aquatics</td>\n",
       "      <td>Swimming</td>\n",
       "      <td>MALOKINIS, Ioannis</td>\n",
       "      <td>GRE</td>\n",
       "      <td>Men</td>\n",
       "      <td>100m freestyle for sailors</td>\n",
       "      <td>M</td>\n",
       "      <td>Gold</td>\n",
       "    </tr>\n",
       "    <tr>\n",
       "      <th>4</th>\n",
       "      <td>Athens</td>\n",
       "      <td>1896</td>\n",
       "      <td>Aquatics</td>\n",
       "      <td>Swimming</td>\n",
       "      <td>CHASAPIS, Spiridon</td>\n",
       "      <td>GRE</td>\n",
       "      <td>Men</td>\n",
       "      <td>100m freestyle for sailors</td>\n",
       "      <td>M</td>\n",
       "      <td>Silver</td>\n",
       "    </tr>\n",
       "    <tr>\n",
       "      <th>...</th>\n",
       "      <td>...</td>\n",
       "      <td>...</td>\n",
       "      <td>...</td>\n",
       "      <td>...</td>\n",
       "      <td>...</td>\n",
       "      <td>...</td>\n",
       "      <td>...</td>\n",
       "      <td>...</td>\n",
       "      <td>...</td>\n",
       "      <td>...</td>\n",
       "    </tr>\n",
       "    <tr>\n",
       "      <th>29211</th>\n",
       "      <td>Beijing</td>\n",
       "      <td>2008</td>\n",
       "      <td>Wrestling</td>\n",
       "      <td>Wrestling Gre-R</td>\n",
       "      <td>ENGLICH, Mirko</td>\n",
       "      <td>GER</td>\n",
       "      <td>Men</td>\n",
       "      <td>84 - 96kg</td>\n",
       "      <td>M</td>\n",
       "      <td>Silver</td>\n",
       "    </tr>\n",
       "    <tr>\n",
       "      <th>29212</th>\n",
       "      <td>Beijing</td>\n",
       "      <td>2008</td>\n",
       "      <td>Wrestling</td>\n",
       "      <td>Wrestling Gre-R</td>\n",
       "      <td>MIZGAITIS, Mindaugas</td>\n",
       "      <td>LTU</td>\n",
       "      <td>Men</td>\n",
       "      <td>96 - 120kg</td>\n",
       "      <td>M</td>\n",
       "      <td>Bronze</td>\n",
       "    </tr>\n",
       "    <tr>\n",
       "      <th>29213</th>\n",
       "      <td>Beijing</td>\n",
       "      <td>2008</td>\n",
       "      <td>Wrestling</td>\n",
       "      <td>Wrestling Gre-R</td>\n",
       "      <td>PATRIKEEV, Yuri</td>\n",
       "      <td>ARM</td>\n",
       "      <td>Men</td>\n",
       "      <td>96 - 120kg</td>\n",
       "      <td>M</td>\n",
       "      <td>Bronze</td>\n",
       "    </tr>\n",
       "    <tr>\n",
       "      <th>29214</th>\n",
       "      <td>Beijing</td>\n",
       "      <td>2008</td>\n",
       "      <td>Wrestling</td>\n",
       "      <td>Wrestling Gre-R</td>\n",
       "      <td>LOPEZ, Mijain</td>\n",
       "      <td>CUB</td>\n",
       "      <td>Men</td>\n",
       "      <td>96 - 120kg</td>\n",
       "      <td>M</td>\n",
       "      <td>Gold</td>\n",
       "    </tr>\n",
       "    <tr>\n",
       "      <th>29215</th>\n",
       "      <td>Beijing</td>\n",
       "      <td>2008</td>\n",
       "      <td>Wrestling</td>\n",
       "      <td>Wrestling Gre-R</td>\n",
       "      <td>BAROEV, Khasan</td>\n",
       "      <td>RUS</td>\n",
       "      <td>Men</td>\n",
       "      <td>96 - 120kg</td>\n",
       "      <td>M</td>\n",
       "      <td>Silver</td>\n",
       "    </tr>\n",
       "  </tbody>\n",
       "</table>\n",
       "<p>29216 rows × 10 columns</p>\n",
       "</div>"
      ],
      "text/plain": [
       "          City  Edition      Sport       Discipline               Athlete  \\\n",
       "0       Athens     1896   Aquatics         Swimming         HAJOS, Alfred   \n",
       "1       Athens     1896   Aquatics         Swimming      HERSCHMANN, Otto   \n",
       "2       Athens     1896   Aquatics         Swimming     DRIVAS, Dimitrios   \n",
       "3       Athens     1896   Aquatics         Swimming    MALOKINIS, Ioannis   \n",
       "4       Athens     1896   Aquatics         Swimming    CHASAPIS, Spiridon   \n",
       "...        ...      ...        ...              ...                   ...   \n",
       "29211  Beijing     2008  Wrestling  Wrestling Gre-R        ENGLICH, Mirko   \n",
       "29212  Beijing     2008  Wrestling  Wrestling Gre-R  MIZGAITIS, Mindaugas   \n",
       "29213  Beijing     2008  Wrestling  Wrestling Gre-R       PATRIKEEV, Yuri   \n",
       "29214  Beijing     2008  Wrestling  Wrestling Gre-R         LOPEZ, Mijain   \n",
       "29215  Beijing     2008  Wrestling  Wrestling Gre-R        BAROEV, Khasan   \n",
       "\n",
       "       NOC Gender                       Event Event_gender   Medal  \n",
       "0      HUN    Men              100m freestyle            M    Gold  \n",
       "1      AUT    Men              100m freestyle            M  Silver  \n",
       "2      GRE    Men  100m freestyle for sailors            M  Bronze  \n",
       "3      GRE    Men  100m freestyle for sailors            M    Gold  \n",
       "4      GRE    Men  100m freestyle for sailors            M  Silver  \n",
       "...    ...    ...                         ...          ...     ...  \n",
       "29211  GER    Men                   84 - 96kg            M  Silver  \n",
       "29212  LTU    Men                  96 - 120kg            M  Bronze  \n",
       "29213  ARM    Men                  96 - 120kg            M  Bronze  \n",
       "29214  CUB    Men                  96 - 120kg            M    Gold  \n",
       "29215  RUS    Men                  96 - 120kg            M  Silver  \n",
       "\n",
       "[29216 rows x 10 columns]"
      ]
     },
     "execution_count": 2,
     "metadata": {},
     "output_type": "execute_result"
    }
   ],
   "source": [
    "olympics = pd.read_csv('data/olympic_medals.csv')\n",
    "olympics"
   ]
  },
  {
   "cell_type": "code",
   "execution_count": 3,
   "id": "ca2f73ba",
   "metadata": {},
   "outputs": [
    {
     "data": {
      "text/html": [
       "<div>\n",
       "<style scoped>\n",
       "    .dataframe tbody tr th:only-of-type {\n",
       "        vertical-align: middle;\n",
       "    }\n",
       "\n",
       "    .dataframe tbody tr th {\n",
       "        vertical-align: top;\n",
       "    }\n",
       "\n",
       "    .dataframe thead th {\n",
       "        text-align: right;\n",
       "    }\n",
       "</style>\n",
       "<table border=\"1\" class=\"dataframe\">\n",
       "  <thead>\n",
       "    <tr style=\"text-align: right;\">\n",
       "      <th></th>\n",
       "      <th>Edition</th>\n",
       "    </tr>\n",
       "  </thead>\n",
       "  <tbody>\n",
       "    <tr>\n",
       "      <th>count</th>\n",
       "      <td>29216.000000</td>\n",
       "    </tr>\n",
       "    <tr>\n",
       "      <th>mean</th>\n",
       "      <td>1967.713171</td>\n",
       "    </tr>\n",
       "    <tr>\n",
       "      <th>std</th>\n",
       "      <td>32.406293</td>\n",
       "    </tr>\n",
       "    <tr>\n",
       "      <th>min</th>\n",
       "      <td>1896.000000</td>\n",
       "    </tr>\n",
       "    <tr>\n",
       "      <th>25%</th>\n",
       "      <td>1948.000000</td>\n",
       "    </tr>\n",
       "    <tr>\n",
       "      <th>50%</th>\n",
       "      <td>1976.000000</td>\n",
       "    </tr>\n",
       "    <tr>\n",
       "      <th>75%</th>\n",
       "      <td>1996.000000</td>\n",
       "    </tr>\n",
       "    <tr>\n",
       "      <th>max</th>\n",
       "      <td>2008.000000</td>\n",
       "    </tr>\n",
       "  </tbody>\n",
       "</table>\n",
       "</div>"
      ],
      "text/plain": [
       "            Edition\n",
       "count  29216.000000\n",
       "mean    1967.713171\n",
       "std       32.406293\n",
       "min     1896.000000\n",
       "25%     1948.000000\n",
       "50%     1976.000000\n",
       "75%     1996.000000\n",
       "max     2008.000000"
      ]
     },
     "execution_count": 3,
     "metadata": {},
     "output_type": "execute_result"
    }
   ],
   "source": [
    "olympics.describe()"
   ]
  },
  {
   "cell_type": "code",
   "execution_count": 4,
   "id": "5bf78002",
   "metadata": {},
   "outputs": [
    {
     "data": {
      "text/plain": [
       "City            object\n",
       "Edition          int64\n",
       "Sport           object\n",
       "Discipline      object\n",
       "Athlete         object\n",
       "NOC             object\n",
       "Gender          object\n",
       "Event           object\n",
       "Event_gender    object\n",
       "Medal           object\n",
       "dtype: object"
      ]
     },
     "execution_count": 4,
     "metadata": {},
     "output_type": "execute_result"
    }
   ],
   "source": [
    "olympics.dtypes"
   ]
  },
  {
   "cell_type": "code",
   "execution_count": 5,
   "id": "60bac458",
   "metadata": {},
   "outputs": [
    {
     "data": {
      "text/html": [
       "<div>\n",
       "<style scoped>\n",
       "    .dataframe tbody tr th:only-of-type {\n",
       "        vertical-align: middle;\n",
       "    }\n",
       "\n",
       "    .dataframe tbody tr th {\n",
       "        vertical-align: top;\n",
       "    }\n",
       "\n",
       "    .dataframe thead th {\n",
       "        text-align: right;\n",
       "    }\n",
       "</style>\n",
       "<table border=\"1\" class=\"dataframe\">\n",
       "  <thead>\n",
       "    <tr style=\"text-align: right;\">\n",
       "      <th></th>\n",
       "      <th>City</th>\n",
       "      <th>Sport</th>\n",
       "      <th>Discipline</th>\n",
       "      <th>Athlete</th>\n",
       "      <th>NOC</th>\n",
       "      <th>Gender</th>\n",
       "      <th>Event</th>\n",
       "      <th>Event_gender</th>\n",
       "      <th>Medal</th>\n",
       "    </tr>\n",
       "  </thead>\n",
       "  <tbody>\n",
       "    <tr>\n",
       "      <th>count</th>\n",
       "      <td>29216</td>\n",
       "      <td>29216</td>\n",
       "      <td>29216</td>\n",
       "      <td>29216</td>\n",
       "      <td>29216</td>\n",
       "      <td>29216</td>\n",
       "      <td>29216</td>\n",
       "      <td>29216</td>\n",
       "      <td>29216</td>\n",
       "    </tr>\n",
       "    <tr>\n",
       "      <th>unique</th>\n",
       "      <td>22</td>\n",
       "      <td>42</td>\n",
       "      <td>56</td>\n",
       "      <td>21413</td>\n",
       "      <td>138</td>\n",
       "      <td>2</td>\n",
       "      <td>577</td>\n",
       "      <td>3</td>\n",
       "      <td>3</td>\n",
       "    </tr>\n",
       "    <tr>\n",
       "      <th>top</th>\n",
       "      <td>Athens</td>\n",
       "      <td>Aquatics</td>\n",
       "      <td>Athletics</td>\n",
       "      <td>LATYNINA, Larisa</td>\n",
       "      <td>USA</td>\n",
       "      <td>Men</td>\n",
       "      <td>football</td>\n",
       "      <td>M</td>\n",
       "      <td>Gold</td>\n",
       "    </tr>\n",
       "    <tr>\n",
       "      <th>freq</th>\n",
       "      <td>2149</td>\n",
       "      <td>3828</td>\n",
       "      <td>3448</td>\n",
       "      <td>18</td>\n",
       "      <td>4335</td>\n",
       "      <td>21721</td>\n",
       "      <td>1387</td>\n",
       "      <td>20067</td>\n",
       "      <td>9850</td>\n",
       "    </tr>\n",
       "  </tbody>\n",
       "</table>\n",
       "</div>"
      ],
      "text/plain": [
       "          City     Sport Discipline           Athlete    NOC Gender     Event  \\\n",
       "count    29216     29216      29216             29216  29216  29216     29216   \n",
       "unique      22        42         56             21413    138      2       577   \n",
       "top     Athens  Aquatics  Athletics  LATYNINA, Larisa    USA    Men  football   \n",
       "freq      2149      3828       3448                18   4335  21721      1387   \n",
       "\n",
       "       Event_gender  Medal  \n",
       "count         29216  29216  \n",
       "unique            3      3  \n",
       "top               M   Gold  \n",
       "freq          20067   9850  "
      ]
     },
     "execution_count": 5,
     "metadata": {},
     "output_type": "execute_result"
    }
   ],
   "source": [
    "olympics.describe(include=['object'])"
   ]
  },
  {
   "cell_type": "code",
   "execution_count": 6,
   "id": "7b002d20",
   "metadata": {},
   "outputs": [
    {
     "data": {
      "text/plain": [
       "array(['M', 'X', 'W'], dtype=object)"
      ]
     },
     "execution_count": 6,
     "metadata": {},
     "output_type": "execute_result"
    }
   ],
   "source": [
    "olympics.Event_gender.unique()"
   ]
  },
  {
   "cell_type": "code",
   "execution_count": 7,
   "id": "f081b88c",
   "metadata": {},
   "outputs": [],
   "source": [
    "o = olympics"
   ]
  },
  {
   "cell_type": "code",
   "execution_count": 9,
   "id": "05e9e4f1",
   "metadata": {},
   "outputs": [
    {
     "data": {
      "text/plain": [
       "Medal\n",
       "Bronze    9689\n",
       "Gold      9850\n",
       "Silver    9677\n",
       "dtype: int64"
      ]
     },
     "execution_count": 9,
     "metadata": {},
     "output_type": "execute_result"
    }
   ],
   "source": [
    "# 1. Total number of golds, silvers & bronzes\n",
    "o.Medal.value_counts()\n",
    "o.groupby('Medal').size()"
   ]
  },
  {
   "cell_type": "code",
   "execution_count": 10,
   "id": "88c4691f",
   "metadata": {},
   "outputs": [
    {
     "data": {
      "text/plain": [
       "NOC  Medal \n",
       "AFG  Bronze     1\n",
       "AHO  Silver     1\n",
       "ALG  Bronze     8\n",
       "     Gold       4\n",
       "     Silver     2\n",
       "               ..\n",
       "ZIM  Gold      18\n",
       "     Silver     4\n",
       "ZZX  Bronze    10\n",
       "     Gold      23\n",
       "     Silver    15\n",
       "Length: 334, dtype: int64"
      ]
     },
     "execution_count": 10,
     "metadata": {},
     "output_type": "execute_result"
    }
   ],
   "source": [
    "# 2. Total medal tally by Country\n",
    "o.groupby(['NOC', 'Medal']).size()"
   ]
  },
  {
   "cell_type": "code",
   "execution_count": 11,
   "id": "b231851c",
   "metadata": {},
   "outputs": [
    {
     "data": {
      "text/plain": [
       "Medal   NOC\n",
       "Bronze  AFG      1\n",
       "        ALG      8\n",
       "        ANZ      5\n",
       "        ARG     88\n",
       "        ARM      7\n",
       "              ... \n",
       "Silver  VIE      2\n",
       "        YUG    174\n",
       "        ZAM      1\n",
       "        ZIM      4\n",
       "        ZZX     15\n",
       "Length: 334, dtype: int64"
      ]
     },
     "execution_count": 11,
     "metadata": {},
     "output_type": "execute_result"
    }
   ],
   "source": [
    "o.groupby(['Medal', 'NOC']).size()"
   ]
  },
  {
   "cell_type": "code",
   "execution_count": 15,
   "id": "dd35994d",
   "metadata": {},
   "outputs": [
    {
     "data": {
      "text/plain": [
       "Edition  Medal \n",
       "1900     Silver     2\n",
       "1928     Gold      15\n",
       "1932     Gold      11\n",
       "1936     Gold      19\n",
       "1948     Gold      20\n",
       "1952     Bronze     1\n",
       "         Gold      14\n",
       "1956     Gold      17\n",
       "1960     Silver    13\n",
       "1964     Gold      15\n",
       "1968     Bronze    15\n",
       "1972     Bronze    14\n",
       "1980     Gold      16\n",
       "1996     Bronze     1\n",
       "2000     Bronze     1\n",
       "2004     Silver     1\n",
       "2008     Bronze     2\n",
       "         Gold       1\n",
       "dtype: int64"
      ]
     },
     "execution_count": 15,
     "metadata": {},
     "output_type": "execute_result"
    }
   ],
   "source": [
    "# 3. Medal Tally for India over the years\n",
    "# 3a. Only India data\n",
    "# 3b. Medal tally\n",
    "\n",
    "o[o.NOC == 'IND'].groupby(['Edition', 'Medal']).size()"
   ]
  },
  {
   "cell_type": "code",
   "execution_count": 19,
   "id": "2283b3f0",
   "metadata": {},
   "outputs": [
    {
     "data": {
      "text/plain": [
       "10"
      ]
     },
     "execution_count": 19,
     "metadata": {},
     "output_type": "execute_result"
    }
   ],
   "source": [
    "len(o.value_counts().index.levels)"
   ]
  },
  {
   "cell_type": "code",
   "execution_count": 21,
   "id": "91bb517c",
   "metadata": {},
   "outputs": [
    {
     "data": {
      "text/plain": [
       "NOC  Medal \n",
       "USA  Gold      2088\n",
       "     Silver    1195\n",
       "     Bronze    1052\n",
       "URS  Gold       838\n",
       "     Silver     627\n",
       "               ... \n",
       "DJI  Bronze       1\n",
       "DOM  Bronze       1\n",
       "     Silver       1\n",
       "PUR  Silver       1\n",
       "AFG  Bronze       1\n",
       "Length: 334, dtype: int64"
      ]
     },
     "execution_count": 21,
     "metadata": {},
     "output_type": "execute_result"
    }
   ],
   "source": [
    "o.value_counts(['NOC','Medal'])"
   ]
  },
  {
   "cell_type": "code",
   "execution_count": 17,
   "id": "dcdfce53",
   "metadata": {},
   "outputs": [
    {
     "data": {
      "text/plain": [
       "USA    4335\n",
       "URS    2049\n",
       "GBR    1594\n",
       "FRA    1314\n",
       "ITA    1228\n",
       "       ... \n",
       "BDI       1\n",
       "IRQ       1\n",
       "BAR       1\n",
       "SUD       1\n",
       "UAE       1\n",
       "Name: NOC, Length: 138, dtype: int64"
      ]
     },
     "execution_count": 17,
     "metadata": {},
     "output_type": "execute_result"
    }
   ],
   "source": [
    "o.NOC.value_counts()"
   ]
  },
  {
   "cell_type": "code",
   "execution_count": 23,
   "id": "a5eb7ed3",
   "metadata": {},
   "outputs": [
    {
     "data": {
      "text/plain": [
       "NOC  Edition  Gender  Medal \n",
       "GBR  1908     Men     Gold      140\n",
       "USA  1904     Men     Gold      140\n",
       "                      Silver    133\n",
       "GBR  1908     Men     Silver    131\n",
       "URS  1980     Men     Gold      129\n",
       "                               ... \n",
       "NZL  1964     Women   Bronze      1\n",
       "              Men     Bronze      1\n",
       "     1960     Men     Bronze      1\n",
       "     1952     Women   Gold        1\n",
       "AFG  2008     Men     Bronze      1\n",
       "Length: 3252, dtype: int64"
      ]
     },
     "execution_count": 23,
     "metadata": {},
     "output_type": "execute_result"
    }
   ],
   "source": [
    "tally = o.value_counts(['NOC', 'Edition', 'Gender', 'Medal'])\n",
    "tally"
   ]
  },
  {
   "cell_type": "code",
   "execution_count": 34,
   "id": "adc44dad",
   "metadata": {},
   "outputs": [
    {
     "data": {
      "text/plain": [
       "Gender  Medal \n",
       "Men     Bronze    2\n",
       "        Gold      1\n",
       "dtype: int64"
      ]
     },
     "execution_count": 34,
     "metadata": {},
     "output_type": "execute_result"
    }
   ],
   "source": [
    "# India data\n",
    "tally['IND']\n",
    "\n",
    "# India data for 2008\n",
    "tally['IND', 2008]\n",
    "\n",
    "# Range/slice lookup??\n",
    "# tally.loc['IND', 1964:2008]"
   ]
  },
  {
   "cell_type": "markdown",
   "id": "c81a3366",
   "metadata": {},
   "source": [
    "## Machine Learning"
   ]
  },
  {
   "cell_type": "code",
   "execution_count": 37,
   "id": "ea0fd10a",
   "metadata": {},
   "outputs": [
    {
     "data": {
      "text/html": [
       "<div>\n",
       "<style scoped>\n",
       "    .dataframe tbody tr th:only-of-type {\n",
       "        vertical-align: middle;\n",
       "    }\n",
       "\n",
       "    .dataframe tbody tr th {\n",
       "        vertical-align: top;\n",
       "    }\n",
       "\n",
       "    .dataframe thead th {\n",
       "        text-align: right;\n",
       "    }\n",
       "</style>\n",
       "<table border=\"1\" class=\"dataframe\">\n",
       "  <thead>\n",
       "    <tr style=\"text-align: right;\">\n",
       "      <th></th>\n",
       "      <th>mpg</th>\n",
       "      <th>cyl</th>\n",
       "      <th>displ</th>\n",
       "      <th>hp</th>\n",
       "      <th>weight</th>\n",
       "      <th>accel</th>\n",
       "      <th>yr</th>\n",
       "      <th>origin</th>\n",
       "      <th>name</th>\n",
       "    </tr>\n",
       "  </thead>\n",
       "  <tbody>\n",
       "    <tr>\n",
       "      <th>0</th>\n",
       "      <td>18.0</td>\n",
       "      <td>8</td>\n",
       "      <td>307.0</td>\n",
       "      <td>130</td>\n",
       "      <td>3504</td>\n",
       "      <td>12.0</td>\n",
       "      <td>70</td>\n",
       "      <td>US</td>\n",
       "      <td>chevrolet chevelle malibu</td>\n",
       "    </tr>\n",
       "    <tr>\n",
       "      <th>1</th>\n",
       "      <td>15.0</td>\n",
       "      <td>8</td>\n",
       "      <td>350.0</td>\n",
       "      <td>165</td>\n",
       "      <td>3693</td>\n",
       "      <td>11.5</td>\n",
       "      <td>70</td>\n",
       "      <td>US</td>\n",
       "      <td>buick skylark 320</td>\n",
       "    </tr>\n",
       "    <tr>\n",
       "      <th>2</th>\n",
       "      <td>18.0</td>\n",
       "      <td>8</td>\n",
       "      <td>318.0</td>\n",
       "      <td>150</td>\n",
       "      <td>3436</td>\n",
       "      <td>11.0</td>\n",
       "      <td>70</td>\n",
       "      <td>US</td>\n",
       "      <td>plymouth satellite</td>\n",
       "    </tr>\n",
       "    <tr>\n",
       "      <th>3</th>\n",
       "      <td>16.0</td>\n",
       "      <td>8</td>\n",
       "      <td>304.0</td>\n",
       "      <td>150</td>\n",
       "      <td>3433</td>\n",
       "      <td>12.0</td>\n",
       "      <td>70</td>\n",
       "      <td>US</td>\n",
       "      <td>amc rebel sst</td>\n",
       "    </tr>\n",
       "    <tr>\n",
       "      <th>4</th>\n",
       "      <td>17.0</td>\n",
       "      <td>8</td>\n",
       "      <td>302.0</td>\n",
       "      <td>140</td>\n",
       "      <td>3449</td>\n",
       "      <td>10.5</td>\n",
       "      <td>70</td>\n",
       "      <td>US</td>\n",
       "      <td>ford torino</td>\n",
       "    </tr>\n",
       "    <tr>\n",
       "      <th>...</th>\n",
       "      <td>...</td>\n",
       "      <td>...</td>\n",
       "      <td>...</td>\n",
       "      <td>...</td>\n",
       "      <td>...</td>\n",
       "      <td>...</td>\n",
       "      <td>...</td>\n",
       "      <td>...</td>\n",
       "      <td>...</td>\n",
       "    </tr>\n",
       "    <tr>\n",
       "      <th>387</th>\n",
       "      <td>27.0</td>\n",
       "      <td>4</td>\n",
       "      <td>140.0</td>\n",
       "      <td>86</td>\n",
       "      <td>2790</td>\n",
       "      <td>15.6</td>\n",
       "      <td>82</td>\n",
       "      <td>US</td>\n",
       "      <td>ford mustang gl</td>\n",
       "    </tr>\n",
       "    <tr>\n",
       "      <th>388</th>\n",
       "      <td>44.0</td>\n",
       "      <td>4</td>\n",
       "      <td>97.0</td>\n",
       "      <td>52</td>\n",
       "      <td>2130</td>\n",
       "      <td>24.6</td>\n",
       "      <td>82</td>\n",
       "      <td>Europe</td>\n",
       "      <td>vw pickup</td>\n",
       "    </tr>\n",
       "    <tr>\n",
       "      <th>389</th>\n",
       "      <td>32.0</td>\n",
       "      <td>4</td>\n",
       "      <td>135.0</td>\n",
       "      <td>84</td>\n",
       "      <td>2295</td>\n",
       "      <td>11.6</td>\n",
       "      <td>82</td>\n",
       "      <td>US</td>\n",
       "      <td>dodge rampage</td>\n",
       "    </tr>\n",
       "    <tr>\n",
       "      <th>390</th>\n",
       "      <td>28.0</td>\n",
       "      <td>4</td>\n",
       "      <td>120.0</td>\n",
       "      <td>79</td>\n",
       "      <td>2625</td>\n",
       "      <td>18.6</td>\n",
       "      <td>82</td>\n",
       "      <td>US</td>\n",
       "      <td>ford ranger</td>\n",
       "    </tr>\n",
       "    <tr>\n",
       "      <th>391</th>\n",
       "      <td>31.0</td>\n",
       "      <td>4</td>\n",
       "      <td>119.0</td>\n",
       "      <td>82</td>\n",
       "      <td>2720</td>\n",
       "      <td>19.4</td>\n",
       "      <td>82</td>\n",
       "      <td>US</td>\n",
       "      <td>chevy s-10</td>\n",
       "    </tr>\n",
       "  </tbody>\n",
       "</table>\n",
       "<p>392 rows × 9 columns</p>\n",
       "</div>"
      ],
      "text/plain": [
       "      mpg  cyl  displ   hp  weight  accel  yr  origin  \\\n",
       "0    18.0    8  307.0  130    3504   12.0  70      US   \n",
       "1    15.0    8  350.0  165    3693   11.5  70      US   \n",
       "2    18.0    8  318.0  150    3436   11.0  70      US   \n",
       "3    16.0    8  304.0  150    3433   12.0  70      US   \n",
       "4    17.0    8  302.0  140    3449   10.5  70      US   \n",
       "..    ...  ...    ...  ...     ...    ...  ..     ...   \n",
       "387  27.0    4  140.0   86    2790   15.6  82      US   \n",
       "388  44.0    4   97.0   52    2130   24.6  82  Europe   \n",
       "389  32.0    4  135.0   84    2295   11.6  82      US   \n",
       "390  28.0    4  120.0   79    2625   18.6  82      US   \n",
       "391  31.0    4  119.0   82    2720   19.4  82      US   \n",
       "\n",
       "                          name  \n",
       "0    chevrolet chevelle malibu  \n",
       "1            buick skylark 320  \n",
       "2           plymouth satellite  \n",
       "3                amc rebel sst  \n",
       "4                  ford torino  \n",
       "..                         ...  \n",
       "387            ford mustang gl  \n",
       "388                  vw pickup  \n",
       "389              dodge rampage  \n",
       "390                ford ranger  \n",
       "391                 chevy s-10  \n",
       "\n",
       "[392 rows x 9 columns]"
      ]
     },
     "execution_count": 37,
     "metadata": {},
     "output_type": "execute_result"
    }
   ],
   "source": [
    "mpg = pd.read_csv('data/auto-mpg.csv')\n",
    "mpg"
   ]
  },
  {
   "cell_type": "code",
   "execution_count": 38,
   "id": "07f3601e",
   "metadata": {},
   "outputs": [
    {
     "data": {
      "text/plain": [
       "mpg       float64\n",
       "cyl         int64\n",
       "displ     float64\n",
       "hp          int64\n",
       "weight      int64\n",
       "accel     float64\n",
       "yr          int64\n",
       "origin     object\n",
       "name       object\n",
       "dtype: object"
      ]
     },
     "execution_count": 38,
     "metadata": {},
     "output_type": "execute_result"
    }
   ],
   "source": [
    "mpg.dtypes"
   ]
  },
  {
   "cell_type": "code",
   "execution_count": 47,
   "id": "07cb809b",
   "metadata": {},
   "outputs": [],
   "source": [
    "import seaborn as sns\n",
    "import matplotlib.pyplot as plt"
   ]
  },
  {
   "cell_type": "code",
   "execution_count": 62,
   "id": "86225fa0",
   "metadata": {},
   "outputs": [
    {
     "data": {
      "text/html": [
       "<div>\n",
       "<style scoped>\n",
       "    .dataframe tbody tr th:only-of-type {\n",
       "        vertical-align: middle;\n",
       "    }\n",
       "\n",
       "    .dataframe tbody tr th {\n",
       "        vertical-align: top;\n",
       "    }\n",
       "\n",
       "    .dataframe thead th {\n",
       "        text-align: right;\n",
       "    }\n",
       "</style>\n",
       "<table border=\"1\" class=\"dataframe\">\n",
       "  <thead>\n",
       "    <tr style=\"text-align: right;\">\n",
       "      <th></th>\n",
       "      <th>mpg</th>\n",
       "      <th>cyl</th>\n",
       "      <th>displ</th>\n",
       "      <th>hp</th>\n",
       "      <th>weight</th>\n",
       "      <th>accel</th>\n",
       "      <th>yr</th>\n",
       "    </tr>\n",
       "  </thead>\n",
       "  <tbody>\n",
       "    <tr>\n",
       "      <th>0</th>\n",
       "      <td>18.0</td>\n",
       "      <td>8</td>\n",
       "      <td>307.0</td>\n",
       "      <td>130</td>\n",
       "      <td>3504</td>\n",
       "      <td>12.0</td>\n",
       "      <td>70</td>\n",
       "    </tr>\n",
       "    <tr>\n",
       "      <th>1</th>\n",
       "      <td>15.0</td>\n",
       "      <td>8</td>\n",
       "      <td>350.0</td>\n",
       "      <td>165</td>\n",
       "      <td>3693</td>\n",
       "      <td>11.5</td>\n",
       "      <td>70</td>\n",
       "    </tr>\n",
       "    <tr>\n",
       "      <th>2</th>\n",
       "      <td>18.0</td>\n",
       "      <td>8</td>\n",
       "      <td>318.0</td>\n",
       "      <td>150</td>\n",
       "      <td>3436</td>\n",
       "      <td>11.0</td>\n",
       "      <td>70</td>\n",
       "    </tr>\n",
       "    <tr>\n",
       "      <th>3</th>\n",
       "      <td>16.0</td>\n",
       "      <td>8</td>\n",
       "      <td>304.0</td>\n",
       "      <td>150</td>\n",
       "      <td>3433</td>\n",
       "      <td>12.0</td>\n",
       "      <td>70</td>\n",
       "    </tr>\n",
       "    <tr>\n",
       "      <th>4</th>\n",
       "      <td>17.0</td>\n",
       "      <td>8</td>\n",
       "      <td>302.0</td>\n",
       "      <td>140</td>\n",
       "      <td>3449</td>\n",
       "      <td>10.5</td>\n",
       "      <td>70</td>\n",
       "    </tr>\n",
       "    <tr>\n",
       "      <th>...</th>\n",
       "      <td>...</td>\n",
       "      <td>...</td>\n",
       "      <td>...</td>\n",
       "      <td>...</td>\n",
       "      <td>...</td>\n",
       "      <td>...</td>\n",
       "      <td>...</td>\n",
       "    </tr>\n",
       "    <tr>\n",
       "      <th>387</th>\n",
       "      <td>27.0</td>\n",
       "      <td>4</td>\n",
       "      <td>140.0</td>\n",
       "      <td>86</td>\n",
       "      <td>2790</td>\n",
       "      <td>15.6</td>\n",
       "      <td>82</td>\n",
       "    </tr>\n",
       "    <tr>\n",
       "      <th>388</th>\n",
       "      <td>44.0</td>\n",
       "      <td>4</td>\n",
       "      <td>97.0</td>\n",
       "      <td>52</td>\n",
       "      <td>2130</td>\n",
       "      <td>24.6</td>\n",
       "      <td>82</td>\n",
       "    </tr>\n",
       "    <tr>\n",
       "      <th>389</th>\n",
       "      <td>32.0</td>\n",
       "      <td>4</td>\n",
       "      <td>135.0</td>\n",
       "      <td>84</td>\n",
       "      <td>2295</td>\n",
       "      <td>11.6</td>\n",
       "      <td>82</td>\n",
       "    </tr>\n",
       "    <tr>\n",
       "      <th>390</th>\n",
       "      <td>28.0</td>\n",
       "      <td>4</td>\n",
       "      <td>120.0</td>\n",
       "      <td>79</td>\n",
       "      <td>2625</td>\n",
       "      <td>18.6</td>\n",
       "      <td>82</td>\n",
       "    </tr>\n",
       "    <tr>\n",
       "      <th>391</th>\n",
       "      <td>31.0</td>\n",
       "      <td>4</td>\n",
       "      <td>119.0</td>\n",
       "      <td>82</td>\n",
       "      <td>2720</td>\n",
       "      <td>19.4</td>\n",
       "      <td>82</td>\n",
       "    </tr>\n",
       "  </tbody>\n",
       "</table>\n",
       "<p>392 rows × 7 columns</p>\n",
       "</div>"
      ],
      "text/plain": [
       "      mpg  cyl  displ   hp  weight  accel  yr\n",
       "0    18.0    8  307.0  130    3504   12.0  70\n",
       "1    15.0    8  350.0  165    3693   11.5  70\n",
       "2    18.0    8  318.0  150    3436   11.0  70\n",
       "3    16.0    8  304.0  150    3433   12.0  70\n",
       "4    17.0    8  302.0  140    3449   10.5  70\n",
       "..    ...  ...    ...  ...     ...    ...  ..\n",
       "387  27.0    4  140.0   86    2790   15.6  82\n",
       "388  44.0    4   97.0   52    2130   24.6  82\n",
       "389  32.0    4  135.0   84    2295   11.6  82\n",
       "390  28.0    4  120.0   79    2625   18.6  82\n",
       "391  31.0    4  119.0   82    2720   19.4  82\n",
       "\n",
       "[392 rows x 7 columns]"
      ]
     },
     "execution_count": 62,
     "metadata": {},
     "output_type": "execute_result"
    }
   ],
   "source": [
    "mpg.drop(['name', 'origin'], axis='columns')"
   ]
  },
  {
   "cell_type": "code",
   "execution_count": 48,
   "id": "991d4417",
   "metadata": {},
   "outputs": [
    {
     "data": {
      "text/plain": [
       "<matplotlib.axes._subplots.AxesSubplot at 0x11f5858b0>"
      ]
     },
     "execution_count": 48,
     "metadata": {},
     "output_type": "execute_result"
    },
    {
     "data": {
      "image/png": "[encoded data removed]",
      "text/plain": [
       "<Figure size 864x432 with 1 Axes>"
      ]
     },
     "metadata": {
      "needs_background": "light"
     },
     "output_type": "display_data"
    }
   ],
   "source": [
    "plt.figure(figsize=(12,6))\n",
    "# sns.scatterplot(mpg['mpg'], mpg['weight'], hue=mpg['origin'])\n",
    "sns.scatterplot(x='mpg', y='weight', hue='origin', size='cyl', data=mpg)"
   ]
  },
  {
   "cell_type": "code",
   "execution_count": 49,
   "id": "993d6477",
   "metadata": {},
   "outputs": [],
   "source": [
    "import sklearn\n",
    "import sklearn as skl"
   ]
  },
  {
   "cell_type": "code",
   "execution_count": 51,
   "id": "d948c04e",
   "metadata": {},
   "outputs": [],
   "source": [
    "from sklearn.neighbors import KNeighborsClassifier"
   ]
  },
  {
   "cell_type": "code",
   "execution_count": 53,
   "id": "049d7ae3",
   "metadata": {},
   "outputs": [
    {
     "data": {
      "text/plain": [
       "KNeighborsClassifier(algorithm='auto', leaf_size=30, metric='minkowski',\n",
       "                     metric_params=None, n_jobs=None, n_neighbors=5, p=2,\n",
       "                     weights='uniform')"
      ]
     },
     "execution_count": 53,
     "metadata": {},
     "output_type": "execute_result"
    }
   ],
   "source": [
    "knn = KNeighborsClassifier()\n",
    "knn"
   ]
  },
  {
   "cell_type": "code",
   "execution_count": 63,
   "id": "478ef682",
   "metadata": {},
   "outputs": [],
   "source": [
    "y = mpg['origin']\n",
    "\n",
    "# mpg.drop(['name', 'origin'], axis='columns')\n",
    "\n",
    "input_cols = 'mpg\tcyl\tdispl\thp\tweight\taccel\tyr'.split()\n",
    "X = mpg[input_cols]"
   ]
  },
  {
   "cell_type": "code",
   "execution_count": 58,
   "id": "0567f272",
   "metadata": {},
   "outputs": [
    {
     "data": {
      "text/html": [
       "<div>\n",
       "<style scoped>\n",
       "    .dataframe tbody tr th:only-of-type {\n",
       "        vertical-align: middle;\n",
       "    }\n",
       "\n",
       "    .dataframe tbody tr th {\n",
       "        vertical-align: top;\n",
       "    }\n",
       "\n",
       "    .dataframe thead th {\n",
       "        text-align: right;\n",
       "    }\n",
       "</style>\n",
       "<table border=\"1\" class=\"dataframe\">\n",
       "  <thead>\n",
       "    <tr style=\"text-align: right;\">\n",
       "      <th></th>\n",
       "      <th>mpg</th>\n",
       "      <th>cyl</th>\n",
       "      <th>displ</th>\n",
       "      <th>hp</th>\n",
       "      <th>weight</th>\n",
       "      <th>accel</th>\n",
       "      <th>yr</th>\n",
       "    </tr>\n",
       "  </thead>\n",
       "  <tbody>\n",
       "    <tr>\n",
       "      <th>0</th>\n",
       "      <td>18.0</td>\n",
       "      <td>8</td>\n",
       "      <td>307.0</td>\n",
       "      <td>130</td>\n",
       "      <td>3504</td>\n",
       "      <td>12.0</td>\n",
       "      <td>70</td>\n",
       "    </tr>\n",
       "    <tr>\n",
       "      <th>1</th>\n",
       "      <td>15.0</td>\n",
       "      <td>8</td>\n",
       "      <td>350.0</td>\n",
       "      <td>165</td>\n",
       "      <td>3693</td>\n",
       "      <td>11.5</td>\n",
       "      <td>70</td>\n",
       "    </tr>\n",
       "    <tr>\n",
       "      <th>2</th>\n",
       "      <td>18.0</td>\n",
       "      <td>8</td>\n",
       "      <td>318.0</td>\n",
       "      <td>150</td>\n",
       "      <td>3436</td>\n",
       "      <td>11.0</td>\n",
       "      <td>70</td>\n",
       "    </tr>\n",
       "    <tr>\n",
       "      <th>3</th>\n",
       "      <td>16.0</td>\n",
       "      <td>8</td>\n",
       "      <td>304.0</td>\n",
       "      <td>150</td>\n",
       "      <td>3433</td>\n",
       "      <td>12.0</td>\n",
       "      <td>70</td>\n",
       "    </tr>\n",
       "    <tr>\n",
       "      <th>4</th>\n",
       "      <td>17.0</td>\n",
       "      <td>8</td>\n",
       "      <td>302.0</td>\n",
       "      <td>140</td>\n",
       "      <td>3449</td>\n",
       "      <td>10.5</td>\n",
       "      <td>70</td>\n",
       "    </tr>\n",
       "    <tr>\n",
       "      <th>...</th>\n",
       "      <td>...</td>\n",
       "      <td>...</td>\n",
       "      <td>...</td>\n",
       "      <td>...</td>\n",
       "      <td>...</td>\n",
       "      <td>...</td>\n",
       "      <td>...</td>\n",
       "    </tr>\n",
       "    <tr>\n",
       "      <th>387</th>\n",
       "      <td>27.0</td>\n",
       "      <td>4</td>\n",
       "      <td>140.0</td>\n",
       "      <td>86</td>\n",
       "      <td>2790</td>\n",
       "      <td>15.6</td>\n",
       "      <td>82</td>\n",
       "    </tr>\n",
       "    <tr>\n",
       "      <th>388</th>\n",
       "      <td>44.0</td>\n",
       "      <td>4</td>\n",
       "      <td>97.0</td>\n",
       "      <td>52</td>\n",
       "      <td>2130</td>\n",
       "      <td>24.6</td>\n",
       "      <td>82</td>\n",
       "    </tr>\n",
       "    <tr>\n",
       "      <th>389</th>\n",
       "      <td>32.0</td>\n",
       "      <td>4</td>\n",
       "      <td>135.0</td>\n",
       "      <td>84</td>\n",
       "      <td>2295</td>\n",
       "      <td>11.6</td>\n",
       "      <td>82</td>\n",
       "    </tr>\n",
       "    <tr>\n",
       "      <th>390</th>\n",
       "      <td>28.0</td>\n",
       "      <td>4</td>\n",
       "      <td>120.0</td>\n",
       "      <td>79</td>\n",
       "      <td>2625</td>\n",
       "      <td>18.6</td>\n",
       "      <td>82</td>\n",
       "    </tr>\n",
       "    <tr>\n",
       "      <th>391</th>\n",
       "      <td>31.0</td>\n",
       "      <td>4</td>\n",
       "      <td>119.0</td>\n",
       "      <td>82</td>\n",
       "      <td>2720</td>\n",
       "      <td>19.4</td>\n",
       "      <td>82</td>\n",
       "    </tr>\n",
       "  </tbody>\n",
       "</table>\n",
       "<p>392 rows × 7 columns</p>\n",
       "</div>"
      ],
      "text/plain": [
       "      mpg  cyl  displ   hp  weight  accel  yr\n",
       "0    18.0    8  307.0  130    3504   12.0  70\n",
       "1    15.0    8  350.0  165    3693   11.5  70\n",
       "2    18.0    8  318.0  150    3436   11.0  70\n",
       "3    16.0    8  304.0  150    3433   12.0  70\n",
       "4    17.0    8  302.0  140    3449   10.5  70\n",
       "..    ...  ...    ...  ...     ...    ...  ..\n",
       "387  27.0    4  140.0   86    2790   15.6  82\n",
       "388  44.0    4   97.0   52    2130   24.6  82\n",
       "389  32.0    4  135.0   84    2295   11.6  82\n",
       "390  28.0    4  120.0   79    2625   18.6  82\n",
       "391  31.0    4  119.0   82    2720   19.4  82\n",
       "\n",
       "[392 rows x 7 columns]"
      ]
     },
     "execution_count": 58,
     "metadata": {},
     "output_type": "execute_result"
    }
   ],
   "source": [
    "X"
   ]
  },
  {
   "cell_type": "code",
   "execution_count": 64,
   "id": "75aad09d",
   "metadata": {},
   "outputs": [
    {
     "data": {
      "text/plain": [
       "KNeighborsClassifier(algorithm='auto', leaf_size=30, metric='minkowski',\n",
       "                     metric_params=None, n_jobs=None, n_neighbors=5, p=2,\n",
       "                     weights='uniform')"
      ]
     },
     "execution_count": 64,
     "metadata": {},
     "output_type": "execute_result"
    }
   ],
   "source": [
    "knn.fit(X, y)"
   ]
  },
  {
   "cell_type": "code",
   "execution_count": 65,
   "id": "49e0e8f9",
   "metadata": {},
   "outputs": [],
   "source": [
    "ypred = knn.predict(X)"
   ]
  },
  {
   "cell_type": "code",
   "execution_count": 66,
   "id": "350c3a0a",
   "metadata": {},
   "outputs": [
    {
     "data": {
      "text/plain": [
       "array(['US', 'US', 'US', 'US', 'US', 'US', 'US', 'US', 'US', 'US', 'US',\n",
       "       'US', 'US', 'US', 'Asia', 'US', 'US', 'US', 'Asia', 'Europe',\n",
       "       'Europe', 'Asia', 'Asia', 'Europe', 'US', 'US', 'US', 'US', 'US',\n",
       "       'Asia', 'Asia', 'Europe', 'US', 'US', 'US', 'US', 'US', 'US', 'US',\n",
       "       'US', 'US', 'US', 'US', 'US', 'US', 'US', 'US', 'US', 'US', 'Asia',\n",
       "       'Asia', 'Asia', 'Asia', 'Asia', 'Europe', 'Asia', 'Asia', 'US',\n",
       "       'Asia', 'US', 'US', 'US', 'US', 'US', 'US', 'US', 'US', 'US', 'US',\n",
       "       'US', 'Asia', 'US', 'US', 'US', 'US', 'Europe', 'Asia', 'Europe',\n",
       "       'Europe', 'US', 'Asia', 'Asia', 'US', 'US', 'US', 'US', 'US', 'US',\n",
       "       'US', 'US', 'US', 'US', 'US', 'US', 'US', 'US', 'US', 'US', 'US',\n",
       "       'US', 'US', 'Asia', 'US', 'US', 'US', 'US', 'US', 'Asia', 'US',\n",
       "       'Asia', 'Asia', 'US', 'US', 'Asia', 'US', 'US', 'Asia', 'US', 'US',\n",
       "       'US', 'US', 'Europe', 'Asia', 'US', 'US', 'US', 'US', 'Asia',\n",
       "       'Asia', 'Europe', 'US', 'US', 'US', 'US', 'US', 'US', 'US', 'US',\n",
       "       'US', 'Europe', 'Asia', 'Asia', 'Asia', 'Asia', 'US', 'US', 'Asia',\n",
       "       'Asia', 'Asia', 'Asia', 'US', 'US', 'US', 'US', 'US', 'US', 'US',\n",
       "       'US', 'US', 'US', 'US', 'US', 'US', 'US', 'US', 'US', 'US', 'US',\n",
       "       'US', 'Asia', 'Europe', 'Asia', 'US', 'Europe', 'US', 'Asia',\n",
       "       'Europe', 'Europe', 'Europe', 'Asia', 'Asia', 'US', 'US', 'Asia',\n",
       "       'Asia', 'US', 'US', 'US', 'US', 'US', 'US', 'US', 'US', 'Asia',\n",
       "       'US', 'Europe', 'Asia', 'US', 'US', 'US', 'US', 'Europe', 'Asia',\n",
       "       'US', 'US', 'Europe', 'US', 'Europe', 'Asia', 'US', 'US', 'US',\n",
       "       'US', 'US', 'Asia', 'Asia', 'Europe', 'US', 'Asia', 'US', 'US',\n",
       "       'US', 'US', 'US', 'US', 'US', 'US', 'US', 'US', 'US', 'US',\n",
       "       'Europe', 'US', 'Asia', 'US', 'Asia', 'Asia', 'Asia', 'Europe',\n",
       "       'Asia', 'Europe', 'Asia', 'Asia', 'Asia', 'Asia', 'Asia', 'Asia',\n",
       "       'US', 'US', 'US', 'US', 'US', 'US', 'US', 'US', 'US', 'US', 'US',\n",
       "       'US', 'US', 'US', 'US', 'US', 'US', 'US', 'US', 'US', 'Europe',\n",
       "       'Asia', 'US', 'US', 'US', 'Europe', 'Europe', 'Asia', 'US', 'Asia',\n",
       "       'Asia', 'US', 'US', 'US', 'US', 'US', 'US', 'US', 'US', 'US', 'US',\n",
       "       'US', 'US', 'US', 'Europe', 'Asia', 'Europe', 'Europe', 'US', 'US',\n",
       "       'Europe', 'US', 'Asia', 'Asia', 'Asia', 'US', 'US', 'US', 'US',\n",
       "       'US', 'Asia', 'Asia', 'US', 'Asia', 'US', 'US', 'US', 'US',\n",
       "       'Europe', 'Asia', 'Asia', 'Asia', 'Asia', 'Asia', 'Asia', 'Asia',\n",
       "       'Asia', 'Asia', 'Europe', 'Europe', 'Asia', 'Asia', 'Europe',\n",
       "       'Asia', 'Asia', 'Asia', 'Asia', 'Asia', 'US', 'US', 'US', 'US',\n",
       "       'Asia', 'Asia', 'Asia', 'Asia', 'Asia', 'Asia', 'Asia', 'US',\n",
       "       'Asia', 'Asia', 'Europe', 'Asia', 'Asia', 'US', 'US', 'Europe',\n",
       "       'Europe', 'Asia', 'Asia', 'US', 'US', 'US', 'US', 'Europe', 'US',\n",
       "       'Asia', 'US', 'Asia', 'US', 'US', 'Asia', 'Asia', 'Asia', 'US',\n",
       "       'US', 'US', 'Asia', 'Asia', 'Asia', 'Asia', 'Asia', 'US', 'US',\n",
       "       'US', 'US', 'US', 'US', 'Europe', 'US', 'Europe', 'US', 'US',\n",
       "       'Asia'], dtype=object)"
      ]
     },
     "execution_count": 66,
     "metadata": {},
     "output_type": "execute_result"
    }
   ],
   "source": [
    "ypred"
   ]
  },
  {
   "cell_type": "code",
   "execution_count": 67,
   "id": "1af8bece",
   "metadata": {
    "cell_style": "split"
   },
   "outputs": [
    {
     "data": {
      "text/plain": [
       "0          US\n",
       "1          US\n",
       "2          US\n",
       "3          US\n",
       "4          US\n",
       "        ...  \n",
       "387        US\n",
       "388    Europe\n",
       "389        US\n",
       "390        US\n",
       "391        US\n",
       "Name: origin, Length: 392, dtype: object"
      ]
     },
     "execution_count": 67,
     "metadata": {},
     "output_type": "execute_result"
    }
   ],
   "source": [
    "y"
   ]
  },
  {
   "cell_type": "code",
   "execution_count": 70,
   "id": "ce733c6d",
   "metadata": {
    "cell_style": "split"
   },
   "outputs": [
    {
     "data": {
      "text/plain": [
       "0          US\n",
       "1          US\n",
       "2          US\n",
       "3          US\n",
       "4          US\n",
       "        ...  \n",
       "387        US\n",
       "388    Europe\n",
       "389        US\n",
       "390        US\n",
       "391      Asia\n",
       "Length: 392, dtype: object"
      ]
     },
     "execution_count": 70,
     "metadata": {},
     "output_type": "execute_result"
    }
   ],
   "source": [
    "# Converting np.array to Series\n",
    "ypred = pd.Series(ypred)\n",
    "ypred"
   ]
  },
  {
   "cell_type": "code",
   "execution_count": 74,
   "id": "35403988",
   "metadata": {},
   "outputs": [
    {
     "data": {
      "text/plain": [
       "True     82.142857\n",
       "False    17.857143\n",
       "dtype: float64"
      ]
     },
     "execution_count": 74,
     "metadata": {},
     "output_type": "execute_result"
    }
   ],
   "source": [
    "(y == ypred).value_counts() / len(y) * 100"
   ]
  },
  {
   "cell_type": "code",
   "execution_count": 81,
   "id": "d30a28c8",
   "metadata": {},
   "outputs": [
    {
     "data": {
      "text/plain": [
       "322"
      ]
     },
     "execution_count": 81,
     "metadata": {},
     "output_type": "execute_result"
    }
   ],
   "source": [
    "(y == ypred).sum()"
   ]
  },
  {
   "cell_type": "code",
   "execution_count": 78,
   "id": "cab621d0",
   "metadata": {},
   "outputs": [
    {
     "data": {
      "text/plain": [
       "2"
      ]
     },
     "execution_count": 78,
     "metadata": {},
     "output_type": "execute_result"
    }
   ],
   "source": [
    "sum(range(10))\n",
    "sum([True, False, True])\n",
    "sum([1,0,1])"
   ]
  },
  {
   "cell_type": "code",
   "execution_count": 80,
   "id": "7b172beb",
   "metadata": {},
   "outputs": [
    {
     "data": {
      "text/plain": [
       "0"
      ]
     },
     "execution_count": 80,
     "metadata": {},
     "output_type": "execute_result"
    }
   ],
   "source": [
    "int(True)\n",
    "int(False)"
   ]
  },
  {
   "cell_type": "code",
   "execution_count": 82,
   "id": "8b1d4757",
   "metadata": {},
   "outputs": [
    {
     "data": {
      "text/plain": [
       "6"
      ]
     },
     "execution_count": 82,
     "metadata": {},
     "output_type": "execute_result"
    }
   ],
   "source": [
    "sum([1,2,3])"
   ]
  },
  {
   "cell_type": "markdown",
   "id": "b7e2a1c9",
   "metadata": {},
   "source": [
    "## Data Splitting\n",
    "\n",
    "- Training Data\n",
    "- Test Data\n",
    "- _Validation Data_"
   ]
  },
  {
   "cell_type": "code",
   "execution_count": 123,
   "id": "242d6eae",
   "metadata": {},
   "outputs": [],
   "source": [
    "def split(X, y, frac=.8):\n",
    "    ntrain = round(len(X) * frac)\n",
    "    \n",
    "    Xtrain = X[:ntrain]\n",
    "    Xtest = X[ntrain:]\n",
    "    \n",
    "    ytrain = y[:ntrain]\n",
    "    ytest = y[ntrain:]\n",
    "    \n",
    "    return Xtrain, Xtest, ytrain, ytest"
   ]
  },
  {
   "cell_type": "code",
   "execution_count": 108,
   "id": "bdabc475",
   "metadata": {},
   "outputs": [
    {
     "data": {
      "text/plain": [
       "314"
      ]
     },
     "execution_count": 108,
     "metadata": {},
     "output_type": "execute_result"
    }
   ],
   "source": [
    "ntrain = round(len(X) * .8)\n",
    "ntrain"
   ]
  },
  {
   "cell_type": "code",
   "execution_count": 109,
   "id": "79287e98",
   "metadata": {},
   "outputs": [],
   "source": [
    "Xtrain = X[:ntrain]\n",
    "Xtest = X[ntrain:]"
   ]
  },
  {
   "cell_type": "code",
   "execution_count": 110,
   "id": "bea718ed",
   "metadata": {},
   "outputs": [],
   "source": [
    "ytrain = y[:ntrain]\n",
    "ytest = y[ntrain:]"
   ]
  },
  {
   "cell_type": "code",
   "execution_count": 111,
   "id": "aa531f99",
   "metadata": {},
   "outputs": [
    {
     "data": {
      "text/plain": [
       "314"
      ]
     },
     "execution_count": 111,
     "metadata": {},
     "output_type": "execute_result"
    }
   ],
   "source": [
    "len(Xtrain)"
   ]
  },
  {
   "cell_type": "code",
   "execution_count": 112,
   "id": "345fb819",
   "metadata": {},
   "outputs": [
    {
     "data": {
      "text/plain": [
       "78"
      ]
     },
     "execution_count": 112,
     "metadata": {},
     "output_type": "execute_result"
    }
   ],
   "source": [
    "len(Xtest)"
   ]
  },
  {
   "cell_type": "code",
   "execution_count": 118,
   "id": "4c8f02f5",
   "metadata": {},
   "outputs": [],
   "source": [
    "def train(Xtrain, ytrain):\n",
    "    knn = KNeighborsClassifier()\n",
    "    knn.fit(Xtrain, ytrain)\n",
    "    \n",
    "    return knn"
   ]
  },
  {
   "cell_type": "code",
   "execution_count": 113,
   "id": "4a17ad9d",
   "metadata": {},
   "outputs": [],
   "source": [
    "knn = KNeighborsClassifier()\n",
    "knn.fit(Xtrain, ytrain)\n",
    "ypred = knn.predict(Xtest)"
   ]
  },
  {
   "cell_type": "code",
   "execution_count": 120,
   "id": "a6dddcac",
   "metadata": {},
   "outputs": [],
   "source": [
    "def evaluate(model, Xtest, ytest):\n",
    "    ypred = knn.predict(Xtest)\n",
    "    return (ytest==ypred).sum()/len(ytest)*100"
   ]
  },
  {
   "cell_type": "code",
   "execution_count": 114,
   "id": "0f8f2695",
   "metadata": {},
   "outputs": [
    {
     "data": {
      "text/plain": [
       "57.692307692307686"
      ]
     },
     "execution_count": 114,
     "metadata": {},
     "output_type": "execute_result"
    }
   ],
   "source": [
    "(ytest==ypred).sum()/len(ytest)*100"
   ]
  },
  {
   "cell_type": "code",
   "execution_count": 129,
   "id": "638e9044",
   "metadata": {},
   "outputs": [
    {
     "data": {
      "text/html": [
       "<div>\n",
       "<style scoped>\n",
       "    .dataframe tbody tr th:only-of-type {\n",
       "        vertical-align: middle;\n",
       "    }\n",
       "\n",
       "    .dataframe tbody tr th {\n",
       "        vertical-align: top;\n",
       "    }\n",
       "\n",
       "    .dataframe thead th {\n",
       "        text-align: right;\n",
       "    }\n",
       "</style>\n",
       "<table border=\"1\" class=\"dataframe\">\n",
       "  <thead>\n",
       "    <tr style=\"text-align: right;\">\n",
       "      <th></th>\n",
       "      <th>mpg</th>\n",
       "      <th>cyl</th>\n",
       "      <th>displ</th>\n",
       "      <th>hp</th>\n",
       "      <th>weight</th>\n",
       "      <th>accel</th>\n",
       "      <th>yr</th>\n",
       "    </tr>\n",
       "  </thead>\n",
       "  <tbody>\n",
       "    <tr>\n",
       "      <th>297</th>\n",
       "      <td>27.2</td>\n",
       "      <td>4</td>\n",
       "      <td>141.0</td>\n",
       "      <td>71</td>\n",
       "      <td>3190</td>\n",
       "      <td>24.8</td>\n",
       "      <td>79</td>\n",
       "    </tr>\n",
       "    <tr>\n",
       "      <th>94</th>\n",
       "      <td>12.0</td>\n",
       "      <td>8</td>\n",
       "      <td>455.0</td>\n",
       "      <td>225</td>\n",
       "      <td>4951</td>\n",
       "      <td>11.0</td>\n",
       "      <td>73</td>\n",
       "    </tr>\n",
       "    <tr>\n",
       "      <th>325</th>\n",
       "      <td>36.4</td>\n",
       "      <td>5</td>\n",
       "      <td>121.0</td>\n",
       "      <td>67</td>\n",
       "      <td>2950</td>\n",
       "      <td>19.9</td>\n",
       "      <td>80</td>\n",
       "    </tr>\n",
       "    <tr>\n",
       "      <th>160</th>\n",
       "      <td>15.0</td>\n",
       "      <td>6</td>\n",
       "      <td>258.0</td>\n",
       "      <td>110</td>\n",
       "      <td>3730</td>\n",
       "      <td>19.0</td>\n",
       "      <td>75</td>\n",
       "    </tr>\n",
       "    <tr>\n",
       "      <th>89</th>\n",
       "      <td>12.0</td>\n",
       "      <td>8</td>\n",
       "      <td>429.0</td>\n",
       "      <td>198</td>\n",
       "      <td>4952</td>\n",
       "      <td>11.5</td>\n",
       "      <td>73</td>\n",
       "    </tr>\n",
       "    <tr>\n",
       "      <th>...</th>\n",
       "      <td>...</td>\n",
       "      <td>...</td>\n",
       "      <td>...</td>\n",
       "      <td>...</td>\n",
       "      <td>...</td>\n",
       "      <td>...</td>\n",
       "      <td>...</td>\n",
       "    </tr>\n",
       "    <tr>\n",
       "      <th>168</th>\n",
       "      <td>23.0</td>\n",
       "      <td>4</td>\n",
       "      <td>140.0</td>\n",
       "      <td>78</td>\n",
       "      <td>2592</td>\n",
       "      <td>18.5</td>\n",
       "      <td>75</td>\n",
       "    </tr>\n",
       "    <tr>\n",
       "      <th>271</th>\n",
       "      <td>23.9</td>\n",
       "      <td>4</td>\n",
       "      <td>119.0</td>\n",
       "      <td>97</td>\n",
       "      <td>2405</td>\n",
       "      <td>14.9</td>\n",
       "      <td>78</td>\n",
       "    </tr>\n",
       "    <tr>\n",
       "      <th>86</th>\n",
       "      <td>13.0</td>\n",
       "      <td>8</td>\n",
       "      <td>350.0</td>\n",
       "      <td>145</td>\n",
       "      <td>3988</td>\n",
       "      <td>13.0</td>\n",
       "      <td>73</td>\n",
       "    </tr>\n",
       "    <tr>\n",
       "      <th>256</th>\n",
       "      <td>20.6</td>\n",
       "      <td>6</td>\n",
       "      <td>231.0</td>\n",
       "      <td>105</td>\n",
       "      <td>3380</td>\n",
       "      <td>15.8</td>\n",
       "      <td>78</td>\n",
       "    </tr>\n",
       "    <tr>\n",
       "      <th>336</th>\n",
       "      <td>25.8</td>\n",
       "      <td>4</td>\n",
       "      <td>156.0</td>\n",
       "      <td>92</td>\n",
       "      <td>2620</td>\n",
       "      <td>14.4</td>\n",
       "      <td>81</td>\n",
       "    </tr>\n",
       "  </tbody>\n",
       "</table>\n",
       "<p>314 rows × 7 columns</p>\n",
       "</div>"
      ],
      "text/plain": [
       "      mpg  cyl  displ   hp  weight  accel  yr\n",
       "297  27.2    4  141.0   71    3190   24.8  79\n",
       "94   12.0    8  455.0  225    4951   11.0  73\n",
       "325  36.4    5  121.0   67    2950   19.9  80\n",
       "160  15.0    6  258.0  110    3730   19.0  75\n",
       "89   12.0    8  429.0  198    4952   11.5  73\n",
       "..    ...  ...    ...  ...     ...    ...  ..\n",
       "168  23.0    4  140.0   78    2592   18.5  75\n",
       "271  23.9    4  119.0   97    2405   14.9  78\n",
       "86   13.0    8  350.0  145    3988   13.0  73\n",
       "256  20.6    6  231.0  105    3380   15.8  78\n",
       "336  25.8    4  156.0   92    2620   14.4  81\n",
       "\n",
       "[314 rows x 7 columns]"
      ]
     },
     "execution_count": 129,
     "metadata": {},
     "output_type": "execute_result"
    }
   ],
   "source": [
    "X.sample(frac=.8)"
   ]
  },
  {
   "cell_type": "code",
   "execution_count": 138,
   "id": "34c36ac7",
   "metadata": {},
   "outputs": [],
   "source": [
    "def main():\n",
    "    Xtrain, Xtest, ytrain, ytest = tts(X, y, train_size=.7)\n",
    "    knn = train(Xtrain, ytrain)\n",
    "    acc = evaluate(knn, Xtest, ytest)\n",
    "    print(acc)"
   ]
  },
  {
   "cell_type": "code",
   "execution_count": 139,
   "id": "ba4a06ef",
   "metadata": {},
   "outputs": [
    {
     "name": "stdout",
     "output_type": "stream",
     "text": [
      "77.96610169491525\n"
     ]
    }
   ],
   "source": [
    "main()"
   ]
  },
  {
   "cell_type": "code",
   "execution_count": 130,
   "id": "e48fb740",
   "metadata": {},
   "outputs": [],
   "source": [
    "def split(X, y, frac=.8):\n",
    "    Xtrain = X.sample(frac=frac)\n",
    "    Xtest = X.sample(frac=1-frac)\n",
    "    \n",
    "    ytrain = y.sample(frac=frac)\n",
    "    ytest = y.sample(frac=1-frac)\n",
    "    \n",
    "    return Xtrain, Xtest, ytrain, ytest"
   ]
  },
  {
   "cell_type": "code",
   "execution_count": 131,
   "id": "dcdb3d89",
   "metadata": {},
   "outputs": [
    {
     "data": {
      "text/plain": [
       "(      mpg  cyl  displ   hp  weight  accel  yr\n",
       " 205  20.0    4  130.0  102    3150   15.7  76\n",
       " 243  36.1    4   98.0   66    1800   14.4  78\n",
       " 88   15.0    8  318.0  150    3777   12.5  73\n",
       " 65   17.0    8  304.0  150    3672   11.5  72\n",
       " 235  30.5    4   98.0   63    2051   17.0  77\n",
       " ..    ...  ...    ...  ...     ...    ...  ..\n",
       " 382  26.0    4  156.0   92    2585   14.5  82\n",
       " 225  19.0    6  225.0  100    3630   17.7  77\n",
       " 186  16.0    8  318.0  150    4190   13.0  76\n",
       " 367  27.0    4  151.0   90    2735   18.0  82\n",
       " 176  23.0    4  120.0   88    2957   17.0  75\n",
       " \n",
       " [314 rows x 7 columns],\n",
       "       mpg  cyl  displ   hp  weight  accel  yr\n",
       " 130  25.0    4  140.0   75    2542   17.0  74\n",
       " 30   28.0    4  140.0   90    2264   15.5  71\n",
       " 84   13.0    8  350.0  175    4100   13.0  73\n",
       " 320  46.6    4   86.0   65    2110   17.9  80\n",
       " 194  24.5    4   98.0   60    2164   22.1  76\n",
       " ..    ...  ...    ...  ...     ...    ...  ..\n",
       " 345  34.1    4   91.0   68    1985   16.0  81\n",
       " 240  21.5    4  121.0  110    2600   12.8  77\n",
       " 295  25.4    5  183.0   77    3530   20.1  79\n",
       " 72   13.0    8  307.0  130    4098   14.0  72\n",
       " 352  32.9    4  119.0  100    2615   14.8  81\n",
       " \n",
       " [78 rows x 7 columns],\n",
       " 245      Asia\n",
       " 158        US\n",
       " 270        US\n",
       " 87         US\n",
       " 155        US\n",
       "         ...  \n",
       " 342      Asia\n",
       " 116    Europe\n",
       " 386        US\n",
       " 293        US\n",
       " 153        US\n",
       " Name: origin, Length: 314, dtype: object,\n",
       " 79         US\n",
       " 118    Europe\n",
       " 217        US\n",
       " 87         US\n",
       " 184    Europe\n",
       "         ...  \n",
       " 50     Europe\n",
       " 359        US\n",
       " 160        US\n",
       " 320      Asia\n",
       " 302    Europe\n",
       " Name: origin, Length: 78, dtype: object)"
      ]
     },
     "execution_count": 131,
     "metadata": {},
     "output_type": "execute_result"
    }
   ],
   "source": [
    "split(X,y)"
   ]
  },
  {
   "cell_type": "code",
   "execution_count": 134,
   "id": "cba98410",
   "metadata": {},
   "outputs": [],
   "source": [
    "from sklearn.model_selection import train_test_split as tts"
   ]
  },
  {
   "cell_type": "code",
   "execution_count": 137,
   "id": "76b1a1ba",
   "metadata": {},
   "outputs": [
    {
     "data": {
      "text/plain": [
       "[      mpg  cyl  displ   hp  weight  accel  yr\n",
       " 65   17.0    8  304.0  150    3672   11.5  72\n",
       " 268  21.1    4  134.0   95    2515   14.8  78\n",
       " 86   13.0    8  350.0  145    3988   13.0  73\n",
       " 302  37.3    4   91.0   69    2130   14.7  79\n",
       " 147  24.0    4  120.0   97    2489   15.0  74\n",
       " ..    ...  ...    ...  ...     ...    ...  ..\n",
       " 181  25.0    4  116.0   81    2220   16.9  76\n",
       " 334  27.2    4  135.0   84    2490   15.7  81\n",
       " 76   22.0    4  121.0   76    2511   18.0  72\n",
       " 353  31.6    4  120.0   74    2635   18.3  81\n",
       " 381  38.0    6  262.0   85    3015   17.0  82\n",
       " \n",
       " [274 rows x 7 columns],\n",
       "       mpg  cyl  displ   hp  weight  accel  yr\n",
       " 138  14.0    8  304.0  150    4257   15.5  74\n",
       " 198  18.0    6  250.0   78    3574   21.0  76\n",
       " 35   19.0    6  250.0   88    3302   15.5  71\n",
       " 152  15.0    6  250.0   72    3432   21.0  75\n",
       " 385  36.0    4  135.0   84    2370   13.0  82\n",
       " ..    ...  ...    ...  ...     ...    ...  ..\n",
       " 96   18.0    6  225.0  105    3121   16.5  73\n",
       " 44   18.0    6  258.0  110    2962   13.5  71\n",
       " 347  34.4    4   98.0   65    2045   16.2  81\n",
       " 236  33.5    4   98.0   83    2075   15.9  77\n",
       " 43   13.0    8  400.0  175    5140   12.0  71\n",
       " \n",
       " [118 rows x 7 columns],\n",
       " 65         US\n",
       " 268      Asia\n",
       " 86         US\n",
       " 302    Europe\n",
       " 147      Asia\n",
       "         ...  \n",
       " 181    Europe\n",
       " 334        US\n",
       " 76     Europe\n",
       " 353      Asia\n",
       " 381        US\n",
       " Name: origin, Length: 274, dtype: object,\n",
       " 138    US\n",
       " 198    US\n",
       " 35     US\n",
       " 152    US\n",
       " 385    US\n",
       "        ..\n",
       " 96     US\n",
       " 44     US\n",
       " 347    US\n",
       " 236    US\n",
       " 43     US\n",
       " Name: origin, Length: 118, dtype: object]"
      ]
     },
     "execution_count": 137,
     "metadata": {},
     "output_type": "execute_result"
    }
   ],
   "source": [
    "tts(X,y, train_size=0.7)"
   ]
  },
  {
   "cell_type": "markdown",
   "id": "ec35b54a",
   "metadata": {},
   "source": [
    "### Aside: String comparisons"
   ]
  },
  {
   "cell_type": "code",
   "execution_count": 140,
   "id": "91d6323b",
   "metadata": {},
   "outputs": [
    {
     "data": {
      "text/plain": [
       "False"
      ]
     },
     "execution_count": 140,
     "metadata": {},
     "output_type": "execute_result"
    }
   ],
   "source": [
    "'a' > 'abc'"
   ]
  },
  {
   "cell_type": "code",
   "execution_count": 141,
   "id": "21b96f20",
   "metadata": {},
   "outputs": [
    {
     "data": {
      "text/plain": [
       "True"
      ]
     },
     "execution_count": 141,
     "metadata": {},
     "output_type": "execute_result"
    }
   ],
   "source": [
    "'a' < 'b'"
   ]
  },
  {
   "cell_type": "code",
   "execution_count": 142,
   "id": "3cf68da5",
   "metadata": {},
   "outputs": [
    {
     "data": {
      "text/plain": [
       "True"
      ]
     },
     "execution_count": 142,
     "metadata": {},
     "output_type": "execute_result"
    }
   ],
   "source": [
    "'a' < 'abc'"
   ]
  },
  {
   "cell_type": "code",
   "execution_count": 144,
   "id": "517afb5d",
   "metadata": {},
   "outputs": [
    {
     "data": {
      "text/plain": [
       "True"
      ]
     },
     "execution_count": 144,
     "metadata": {},
     "output_type": "execute_result"
    }
   ],
   "source": [
    "'123' < 'abc'"
   ]
  },
  {
   "cell_type": "code",
   "execution_count": 145,
   "id": "afcd85db",
   "metadata": {},
   "outputs": [
    {
     "data": {
      "text/plain": [
       "True"
      ]
     },
     "execution_count": 145,
     "metadata": {},
     "output_type": "execute_result"
    }
   ],
   "source": [
    "'ABC' < 'abc'"
   ]
  },
  {
   "cell_type": "code",
   "execution_count": 146,
   "id": "de58cf6a",
   "metadata": {},
   "outputs": [
    {
     "data": {
      "text/plain": [
       "True"
      ]
     },
     "execution_count": 146,
     "metadata": {},
     "output_type": "execute_result"
    }
   ],
   "source": [
    "'9' > '100'"
   ]
  },
  {
   "cell_type": "code",
   "execution_count": 149,
   "id": "825fd41e",
   "metadata": {},
   "outputs": [
    {
     "data": {
      "text/plain": [
       "False"
      ]
     },
     "execution_count": 149,
     "metadata": {},
     "output_type": "execute_result"
    }
   ],
   "source": [
    "'090' > '100'"
   ]
  },
  {
   "cell_type": "code",
   "execution_count": null,
   "id": "bdd665db",
   "metadata": {},
   "outputs": [],
   "source": [
    "plt.hist()"
   ]
  },
  {
   "cell_type": "markdown",
   "id": "9d5c18fa",
   "metadata": {},
   "source": [
    "## Regression : Steps\n",
    "\n",
    "0. Model\n",
    "1. Separate data into X and y (mpg)\n",
    "2. Train Test Split \n",
    "3. Fitting\n",
    "4. Predicting\n",
    "5. Scoring"
   ]
  },
  {
   "cell_type": "code",
   "execution_count": 150,
   "id": "90361d8a",
   "metadata": {},
   "outputs": [],
   "source": [
    "from sklearn.linear_model import LinearRegression"
   ]
  },
  {
   "cell_type": "code",
   "execution_count": 151,
   "id": "b4c4ad33",
   "metadata": {},
   "outputs": [],
   "source": [
    "# knn = KNeighborsClassifier()\n",
    "lr = LinearRegression()"
   ]
  },
  {
   "cell_type": "code",
   "execution_count": null,
   "id": "7c889917",
   "metadata": {},
   "outputs": [],
   "source": [
    "lr."
   ]
  },
  {
   "cell_type": "code",
   "execution_count": null,
   "id": "7c60792d",
   "metadata": {},
   "outputs": [],
   "source": []
  },
  {
   "cell_type": "code",
   "execution_count": null,
   "id": "5b2df0bf",
   "metadata": {},
   "outputs": [],
   "source": []
  },
  {
   "cell_type": "code",
   "execution_count": null,
   "id": "db4aacf3",
   "metadata": {},
   "outputs": [],
   "source": []
  },
  {
   "cell_type": "code",
   "execution_count": null,
   "id": "1683dc5f",
   "metadata": {},
   "outputs": [],
   "source": []
  }
 ],
 "metadata": {
  "kernelspec": {
   "display_name": "Python 3",
   "language": "python",
   "name": "python3"
  },
  "language_info": {
   "codemirror_mode": {
    "name": "ipython",
    "version": 3
   },
   "file_extension": ".py",
   "mimetype": "text/x-python",
   "name": "python",
   "nbconvert_exporter": "python",
   "pygments_lexer": "ipython3",
   "version": "3.8.17"
  }
 },
 "nbformat": 4,
 "nbformat_minor": 5
}
