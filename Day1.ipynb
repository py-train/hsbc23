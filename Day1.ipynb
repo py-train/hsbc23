{
 "cells": [
  {
   "cell_type": "markdown",
   "id": "5fa73971",
   "metadata": {},
   "source": [
    "# Python : Features\n",
    "\n",
    "- Interpreted (vs compiled)\n",
    "- Dynamic (vs static)\n",
    "- Platform independent (vs p-specific)\n",
    "- Implicit typing (vs declared)\n",
    "- Strongly typed (vs Loosely)"
   ]
  },
  {
   "cell_type": "code",
   "execution_count": 1,
   "id": "d73e93b4",
   "metadata": {},
   "outputs": [
    {
     "name": "stdout",
     "output_type": "stream",
     "text": [
      "Hello World!\n"
     ]
    }
   ],
   "source": [
    "print('Hello World!')"
   ]
  },
  {
   "cell_type": "code",
   "execution_count": 3,
   "id": "75f1dec4",
   "metadata": {},
   "outputs": [],
   "source": [
    "i = 0"
   ]
  },
  {
   "cell_type": "code",
   "execution_count": 4,
   "id": "e17119e6",
   "metadata": {},
   "outputs": [
    {
     "data": {
      "text/plain": [
       "int"
      ]
     },
     "execution_count": 4,
     "metadata": {},
     "output_type": "execute_result"
    }
   ],
   "source": [
    "type(i)"
   ]
  },
  {
   "cell_type": "code",
   "execution_count": 6,
   "id": "5b4dcbd2",
   "metadata": {},
   "outputs": [],
   "source": [
    "i = 'hello'"
   ]
  },
  {
   "cell_type": "code",
   "execution_count": 7,
   "id": "b922ded2",
   "metadata": {},
   "outputs": [
    {
     "data": {
      "text/plain": [
       "str"
      ]
     },
     "execution_count": 7,
     "metadata": {},
     "output_type": "execute_result"
    }
   ],
   "source": [
    "type(i)"
   ]
  },
  {
   "cell_type": "code",
   "execution_count": 8,
   "id": "5a459b6c",
   "metadata": {},
   "outputs": [
    {
     "ename": "TypeError",
     "evalue": "can only concatenate str (not \"int\") to str",
     "output_type": "error",
     "traceback": [
      "\u001b[0;31m---------------------------------------------------------------------------\u001b[0m",
      "\u001b[0;31mTypeError\u001b[0m                                 Traceback (most recent call last)",
      "\u001b[0;32m<ipython-input-8-a9c8f85edaa2>\u001b[0m in \u001b[0;36m<module>\u001b[0;34m\u001b[0m\n\u001b[0;32m----> 1\u001b[0;31m \u001b[0mi\u001b[0m \u001b[0;34m+\u001b[0m \u001b[0;36m10\u001b[0m\u001b[0;34m\u001b[0m\u001b[0;34m\u001b[0m\u001b[0m\n\u001b[0m",
      "\u001b[0;31mTypeError\u001b[0m: can only concatenate str (not \"int\") to str"
     ]
    }
   ],
   "source": [
    "i + 10"
   ]
  },
  {
   "cell_type": "markdown",
   "id": "a72f8460",
   "metadata": {},
   "source": [
    "## Types\n",
    "\n",
    "### Numeric\n",
    "\n",
    "- int, float, bool, complex\n",
    "- str\n",
    "\n",
    "### Container Types\n",
    "\n",
    "- Lists (tuples, sets)\n",
    "- Dictionaries"
   ]
  },
  {
   "cell_type": "markdown",
   "id": "a4f7bffc",
   "metadata": {},
   "source": [
    "### Operators\n",
    "\n",
    "- Arithmetic operators: `** * / % + -`\n",
    "- Comparison operators: `== != > < >= <=`\n",
    "- Logical operators: `and or not`"
   ]
  },
  {
   "cell_type": "code",
   "execution_count": null,
   "id": "2d71f7b8",
   "metadata": {},
   "outputs": [],
   "source": [
    "True\n",
    "False"
   ]
  },
  {
   "cell_type": "code",
   "execution_count": 35,
   "id": "ef5c8980",
   "metadata": {},
   "outputs": [],
   "source": [
    "principal = 1234.56\n",
    "rate = 6\n",
    "period = 17"
   ]
  },
  {
   "cell_type": "code",
   "execution_count": 36,
   "id": "d37493f3",
   "metadata": {},
   "outputs": [
    {
     "data": {
      "text/plain": [
       "1259.2512"
      ]
     },
     "execution_count": 36,
     "metadata": {},
     "output_type": "execute_result"
    }
   ],
   "source": [
    "si = principal * rate/100 * period\n",
    "si"
   ]
  },
  {
   "cell_type": "code",
   "execution_count": 37,
   "id": "09572a3f",
   "metadata": {},
   "outputs": [
    {
     "data": {
      "text/plain": [
       "2493.8112"
      ]
     },
     "execution_count": 37,
     "metadata": {},
     "output_type": "execute_result"
    }
   ],
   "source": [
    "amt = principal + si\n",
    "amt"
   ]
  },
  {
   "cell_type": "code",
   "execution_count": 38,
   "id": "04313b64",
   "metadata": {},
   "outputs": [
    {
     "data": {
      "text/plain": [
       "True"
      ]
     },
     "execution_count": 38,
     "metadata": {},
     "output_type": "execute_result"
    }
   ],
   "source": [
    "amt >= 2 * principal\n",
    "# si >= principal"
   ]
  },
  {
   "cell_type": "code",
   "execution_count": 47,
   "id": "eec6dce8",
   "metadata": {},
   "outputs": [
    {
     "data": {
      "text/plain": [
       "True"
      ]
     },
     "execution_count": 47,
     "metadata": {},
     "output_type": "execute_result"
    }
   ],
   "source": [
    "# pr * (1+r/100)^per\n",
    "period = 12\n",
    "principal * (1 + rate/100)**period >= 2*principal"
   ]
  },
  {
   "cell_type": "code",
   "execution_count": 39,
   "id": "e27a8357",
   "metadata": {},
   "outputs": [
    {
     "data": {
      "text/plain": [
       "8"
      ]
     },
     "execution_count": 39,
     "metadata": {},
     "output_type": "execute_result"
    }
   ],
   "source": [
    "2**3"
   ]
  },
  {
   "cell_type": "markdown",
   "id": "d32aa3b2",
   "metadata": {},
   "source": [
    "## Strings"
   ]
  },
  {
   "cell_type": "code",
   "execution_count": 74,
   "id": "f9edc0ff",
   "metadata": {},
   "outputs": [],
   "source": [
    "name = 'Columbus'\n",
    "address = \"1st street America\"\n",
    "address = '1\\'st street America'\n",
    "address = \"1'st street America\"\n",
    "speech = 'Ceasar said \" Et tu Brute!\"'\n",
    "long = '''really\n",
    "long\n",
    "line'''\n",
    "name = 'Christopher \\n \\tColumbus'\n",
    "winpath = 'c:\\store\\\\tmp\\\\newfile.txt'\n",
    "winpath = r'c:\\store\\tmp\\newfile.txt'\n",
    "mail_patt = r'\\w+@\\w+\\.\\w+'"
   ]
  },
  {
   "cell_type": "code",
   "execution_count": 75,
   "id": "02a2c246",
   "metadata": {},
   "outputs": [
    {
     "name": "stdout",
     "output_type": "stream",
     "text": [
      "c:\\store\\tmp\\newfile.txt\n"
     ]
    }
   ],
   "source": [
    "# print(name)\n",
    "print(winpath)"
   ]
  },
  {
   "cell_type": "code",
   "execution_count": 76,
   "id": "229769c0",
   "metadata": {},
   "outputs": [
    {
     "data": {
      "text/plain": [
       "'c:\\\\store\\\\tmp\\\\newfile.txt'"
      ]
     },
     "execution_count": 76,
     "metadata": {},
     "output_type": "execute_result"
    }
   ],
   "source": [
    "winpath"
   ]
  },
  {
   "cell_type": "code",
   "execution_count": 78,
   "id": "ed57d1cc",
   "metadata": {},
   "outputs": [
    {
     "data": {
      "text/plain": [
       "'hello Christopher \\n \\tColumbus'"
      ]
     },
     "execution_count": 78,
     "metadata": {},
     "output_type": "execute_result"
    }
   ],
   "source": [
    "greeting = 'hello'\n",
    "greeting + ' ' + name  # concatenation"
   ]
  },
  {
   "cell_type": "code",
   "execution_count": 79,
   "id": "f95de850",
   "metadata": {},
   "outputs": [
    {
     "name": "stdout",
     "output_type": "stream",
     "text": [
      "hello Christopher \n",
      " \tColumbus\n"
     ]
    }
   ],
   "source": [
    "print(greeting, name)"
   ]
  },
  {
   "cell_type": "code",
   "execution_count": 80,
   "id": "9e3d9376",
   "metadata": {},
   "outputs": [
    {
     "name": "stdout",
     "output_type": "stream",
     "text": [
      "Help on built-in function print in module builtins:\n",
      "\n",
      "print(...)\n",
      "    print(value, ..., sep=' ', end='\\n', file=sys.stdout, flush=False)\n",
      "    \n",
      "    Prints the values to a stream, or to sys.stdout by default.\n",
      "    Optional keyword arguments:\n",
      "    file:  a file-like object (stream); defaults to the current sys.stdout.\n",
      "    sep:   string inserted between values, default a space.\n",
      "    end:   string appended after the last value, default a newline.\n",
      "    flush: whether to forcibly flush the stream.\n",
      "\n"
     ]
    }
   ],
   "source": [
    "help(print)"
   ]
  },
  {
   "cell_type": "code",
   "execution_count": 81,
   "id": "46aad00a",
   "metadata": {},
   "outputs": [
    {
     "ename": "TypeError",
     "evalue": "can't multiply sequence by non-int of type 'str'",
     "output_type": "error",
     "traceback": [
      "\u001b[0;31m---------------------------------------------------------------------------\u001b[0m",
      "\u001b[0;31mTypeError\u001b[0m                                 Traceback (most recent call last)",
      "\u001b[0;32m<ipython-input-81-acc7d73a78a4>\u001b[0m in \u001b[0;36m<module>\u001b[0;34m\u001b[0m\n\u001b[0;32m----> 1\u001b[0;31m \u001b[0mgreeting\u001b[0m \u001b[0;34m*\u001b[0m \u001b[0mname\u001b[0m\u001b[0;34m\u001b[0m\u001b[0;34m\u001b[0m\u001b[0m\n\u001b[0m",
      "\u001b[0;31mTypeError\u001b[0m: can't multiply sequence by non-int of type 'str'"
     ]
    }
   ],
   "source": [
    "greeting * name"
   ]
  },
  {
   "cell_type": "code",
   "execution_count": 83,
   "id": "b25f6061",
   "metadata": {},
   "outputs": [
    {
     "data": {
      "text/plain": [
       "'hellohellohellohellohello'"
      ]
     },
     "execution_count": 83,
     "metadata": {},
     "output_type": "execute_result"
    }
   ],
   "source": [
    "greeting * 5  # repetition operator"
   ]
  },
  {
   "cell_type": "code",
   "execution_count": 84,
   "id": "44fd1f7a",
   "metadata": {},
   "outputs": [
    {
     "data": {
      "text/plain": [
       "[1, 2, 3, 4, 1, 2, 3, 4, 1, 2, 3, 4, 1, 2, 3, 4, 1, 2, 3, 4]"
      ]
     },
     "execution_count": 84,
     "metadata": {},
     "output_type": "execute_result"
    }
   ],
   "source": [
    "[1,2,3,4] * 5"
   ]
  },
  {
   "cell_type": "code",
   "execution_count": 82,
   "id": "4cbf18a5",
   "metadata": {},
   "outputs": [
    {
     "ename": "TypeError",
     "evalue": "unsupported operand type(s) for +: 'int' and 'str'",
     "output_type": "error",
     "traceback": [
      "\u001b[0;31m---------------------------------------------------------------------------\u001b[0m",
      "\u001b[0;31mTypeError\u001b[0m                                 Traceback (most recent call last)",
      "\u001b[0;32m<ipython-input-82-e99412318acc>\u001b[0m in \u001b[0;36m<module>\u001b[0;34m\u001b[0m\n\u001b[0;32m----> 1\u001b[0;31m \u001b[0;36m1\u001b[0m \u001b[0;34m+\u001b[0m \u001b[0mgreeting\u001b[0m\u001b[0;34m\u001b[0m\u001b[0;34m\u001b[0m\u001b[0m\n\u001b[0m",
      "\u001b[0;31mTypeError\u001b[0m: unsupported operand type(s) for +: 'int' and 'str'"
     ]
    }
   ],
   "source": [
    "1 + greeting"
   ]
  },
  {
   "cell_type": "code",
   "execution_count": 85,
   "id": "aac5fa65",
   "metadata": {},
   "outputs": [
    {
     "data": {
      "text/plain": [
       "\"1'st street America\""
      ]
     },
     "execution_count": 85,
     "metadata": {},
     "output_type": "execute_result"
    }
   ],
   "source": [
    "address"
   ]
  },
  {
   "cell_type": "code",
   "execution_count": 86,
   "id": "5122add2",
   "metadata": {},
   "outputs": [
    {
     "data": {
      "text/plain": [
       "'1'"
      ]
     },
     "execution_count": 86,
     "metadata": {},
     "output_type": "execute_result"
    }
   ],
   "source": [
    "address[0]"
   ]
  },
  {
   "cell_type": "code",
   "execution_count": 88,
   "id": "65833101",
   "metadata": {},
   "outputs": [
    {
     "data": {
      "text/plain": [
       "'C'"
      ]
     },
     "execution_count": 88,
     "metadata": {},
     "output_type": "execute_result"
    }
   ],
   "source": [
    "name[0]"
   ]
  },
  {
   "cell_type": "code",
   "execution_count": 89,
   "id": "5cf4d90b",
   "metadata": {},
   "outputs": [
    {
     "data": {
      "text/plain": [
       "19"
      ]
     },
     "execution_count": 89,
     "metadata": {},
     "output_type": "execute_result"
    }
   ],
   "source": [
    "len(address)"
   ]
  },
  {
   "cell_type": "code",
   "execution_count": 90,
   "id": "5829f744",
   "metadata": {},
   "outputs": [
    {
     "data": {
      "text/plain": [
       "'a'"
      ]
     },
     "execution_count": 90,
     "metadata": {},
     "output_type": "execute_result"
    }
   ],
   "source": [
    "address[18]"
   ]
  },
  {
   "cell_type": "code",
   "execution_count": 91,
   "id": "44b52321",
   "metadata": {},
   "outputs": [
    {
     "ename": "IndexError",
     "evalue": "string index out of range",
     "output_type": "error",
     "traceback": [
      "\u001b[0;31m---------------------------------------------------------------------------\u001b[0m",
      "\u001b[0;31mIndexError\u001b[0m                                Traceback (most recent call last)",
      "\u001b[0;32m<ipython-input-91-0dc6f95d1ba6>\u001b[0m in \u001b[0;36m<module>\u001b[0;34m\u001b[0m\n\u001b[0;32m----> 1\u001b[0;31m \u001b[0maddress\u001b[0m\u001b[0;34m[\u001b[0m\u001b[0;36m19\u001b[0m\u001b[0;34m]\u001b[0m\u001b[0;34m\u001b[0m\u001b[0;34m\u001b[0m\u001b[0m\n\u001b[0m",
      "\u001b[0;31mIndexError\u001b[0m: string index out of range"
     ]
    }
   ],
   "source": [
    "address[19]"
   ]
  },
  {
   "cell_type": "code",
   "execution_count": 92,
   "id": "0ccbd78e",
   "metadata": {},
   "outputs": [
    {
     "data": {
      "text/plain": [
       "'a'"
      ]
     },
     "execution_count": 92,
     "metadata": {},
     "output_type": "execute_result"
    }
   ],
   "source": [
    "address[len(address)-1]"
   ]
  },
  {
   "cell_type": "code",
   "execution_count": 93,
   "id": "ffb74b68",
   "metadata": {},
   "outputs": [
    {
     "data": {
      "text/plain": [
       "'a'"
      ]
     },
     "execution_count": 93,
     "metadata": {},
     "output_type": "execute_result"
    }
   ],
   "source": [
    "address[-1]"
   ]
  },
  {
   "cell_type": "code",
   "execution_count": 95,
   "id": "68e76f43",
   "metadata": {},
   "outputs": [],
   "source": [
    "#+idxs  01234567890\n",
    "#-idxs                  ..21-\n",
    "name = 'Christopher Columbus'"
   ]
  },
  {
   "cell_type": "code",
   "execution_count": 96,
   "id": "78519dff",
   "metadata": {},
   "outputs": [
    {
     "data": {
      "text/plain": [
       "'b'"
      ]
     },
     "execution_count": 96,
     "metadata": {},
     "output_type": "execute_result"
    }
   ],
   "source": [
    "name[-3]"
   ]
  },
  {
   "cell_type": "markdown",
   "id": "bade5648",
   "metadata": {},
   "source": [
    "### Slices\n",
    "\n",
    "    string [ from : to ]\n",
    "    \n",
    "- from idx: inclusive, default: 0\n",
    "- to idx: non-inclusive/exclusive, default: end"
   ]
  },
  {
   "cell_type": "code",
   "execution_count": 99,
   "id": "4ababf61",
   "metadata": {},
   "outputs": [
    {
     "data": {
      "text/plain": [
       "'opher'"
      ]
     },
     "execution_count": 99,
     "metadata": {},
     "output_type": "execute_result"
    }
   ],
   "source": [
    "# opher\n",
    "name[6:11]\n",
    "name[6:10+1]"
   ]
  },
  {
   "cell_type": "code",
   "execution_count": 100,
   "id": "117b1e77",
   "metadata": {},
   "outputs": [
    {
     "data": {
      "text/plain": [
       "'Columb'"
      ]
     },
     "execution_count": 100,
     "metadata": {},
     "output_type": "execute_result"
    }
   ],
   "source": [
    "# Columb\n",
    "name[-8:-2]"
   ]
  },
  {
   "cell_type": "code",
   "execution_count": 103,
   "id": "09f615ac",
   "metadata": {},
   "outputs": [
    {
     "data": {
      "text/plain": [
       "'Columbus'"
      ]
     },
     "execution_count": 103,
     "metadata": {},
     "output_type": "execute_result"
    }
   ],
   "source": [
    "name[-8:]"
   ]
  },
  {
   "cell_type": "code",
   "execution_count": 104,
   "id": "bbaced04",
   "metadata": {},
   "outputs": [
    {
     "data": {
      "text/plain": [
       "'Christopher'"
      ]
     },
     "execution_count": 104,
     "metadata": {},
     "output_type": "execute_result"
    }
   ],
   "source": [
    "name[:11]"
   ]
  },
  {
   "cell_type": "code",
   "execution_count": 105,
   "id": "55402fbc",
   "metadata": {},
   "outputs": [
    {
     "data": {
      "text/plain": [
       "'Christopher Columbus'"
      ]
     },
     "execution_count": 105,
     "metadata": {},
     "output_type": "execute_result"
    }
   ],
   "source": [
    "name[:]"
   ]
  },
  {
   "cell_type": "code",
   "execution_count": 106,
   "id": "8f18589d",
   "metadata": {},
   "outputs": [
    {
     "data": {
      "text/plain": [
       "'ChrisColu'"
      ]
     },
     "execution_count": 106,
     "metadata": {},
     "output_type": "execute_result"
    }
   ],
   "source": [
    "name[:5] + name[-8:-8+4]"
   ]
  },
  {
   "cell_type": "code",
   "execution_count": 108,
   "id": "ea226488",
   "metadata": {},
   "outputs": [],
   "source": [
    "dir(name);"
   ]
  },
  {
   "cell_type": "code",
   "execution_count": 109,
   "id": "feaa8d0e",
   "metadata": {},
   "outputs": [
    {
     "data": {
      "text/plain": [
       "['Christopher', 'Columbus']"
      ]
     },
     "execution_count": 109,
     "metadata": {},
     "output_type": "execute_result"
    }
   ],
   "source": [
    "name.split()"
   ]
  },
  {
   "cell_type": "code",
   "execution_count": 110,
   "id": "e266d7cc",
   "metadata": {},
   "outputs": [],
   "source": [
    "i = 10\n",
    "j = 20\n",
    "i, j = 10, 20"
   ]
  },
  {
   "cell_type": "code",
   "execution_count": 111,
   "id": "f91d1e9c",
   "metadata": {},
   "outputs": [],
   "source": [
    "first, last = name.split()"
   ]
  },
  {
   "cell_type": "code",
   "execution_count": 112,
   "id": "6156cf80",
   "metadata": {},
   "outputs": [
    {
     "data": {
      "text/plain": [
       "'Christopher'"
      ]
     },
     "execution_count": 112,
     "metadata": {},
     "output_type": "execute_result"
    }
   ],
   "source": [
    "first"
   ]
  },
  {
   "cell_type": "code",
   "execution_count": 113,
   "id": "fedbbee2",
   "metadata": {},
   "outputs": [
    {
     "data": {
      "text/plain": [
       "'Columbus'"
      ]
     },
     "execution_count": 113,
     "metadata": {},
     "output_type": "execute_result"
    }
   ],
   "source": [
    "last"
   ]
  },
  {
   "cell_type": "code",
   "execution_count": 120,
   "id": "ce334b0d",
   "metadata": {},
   "outputs": [
    {
     "data": {
      "text/plain": [
       "'AntonBand'"
      ]
     },
     "execution_count": 120,
     "metadata": {},
     "output_type": "execute_result"
    }
   ],
   "source": [
    "first, last = name.split()\n",
    "first[:5] + last[:4]"
   ]
  },
  {
   "cell_type": "code",
   "execution_count": 119,
   "id": "936130a6",
   "metadata": {},
   "outputs": [],
   "source": [
    "name = 'Antonio Banderas'\n",
    "# name = 'Mahatma Gandhi'"
   ]
  },
  {
   "cell_type": "code",
   "execution_count": 127,
   "id": "8214de27",
   "metadata": {},
   "outputs": [
    {
     "data": {
      "text/plain": [
       "['Amar', 'Akbar, Anthony']"
      ]
     },
     "execution_count": 127,
     "metadata": {},
     "output_type": "execute_result"
    }
   ],
   "source": [
    "names = 'Amar, Akbar, Anthony'\n",
    "names.split(', ', 1)"
   ]
  },
  {
   "cell_type": "code",
   "execution_count": 132,
   "id": "b599802d",
   "metadata": {},
   "outputs": [
    {
     "data": {
      "text/plain": [
       "'Vasco De Gama'"
      ]
     },
     "execution_count": 132,
     "metadata": {},
     "output_type": "execute_result"
    }
   ],
   "source": [
    "name = '  ..  Vasco De Gama  .  . '\n",
    "name.strip('. ')"
   ]
  },
  {
   "cell_type": "code",
   "execution_count": 129,
   "id": "636d84a8",
   "metadata": {},
   "outputs": [
    {
     "data": {
      "text/plain": [
       "'VascoDeGama'"
      ]
     },
     "execution_count": 129,
     "metadata": {},
     "output_type": "execute_result"
    }
   ],
   "source": [
    "name.replace(' ', '')"
   ]
  },
  {
   "cell_type": "code",
   "execution_count": 134,
   "id": "35542e76",
   "metadata": {},
   "outputs": [
    {
     "data": {
      "text/plain": [
       "'ANTONIO BANDERAS'"
      ]
     },
     "execution_count": 134,
     "metadata": {},
     "output_type": "execute_result"
    }
   ],
   "source": [
    "name = 'Antonio Banderas'\n",
    "name.upper()"
   ]
  },
  {
   "cell_type": "code",
   "execution_count": 135,
   "id": "fae45b3e",
   "metadata": {},
   "outputs": [
    {
     "data": {
      "text/plain": [
       "'antonio banderas'"
      ]
     },
     "execution_count": 135,
     "metadata": {},
     "output_type": "execute_result"
    }
   ],
   "source": [
    "name.lower()"
   ]
  },
  {
   "cell_type": "code",
   "execution_count": 136,
   "id": "c5a54290",
   "metadata": {},
   "outputs": [
    {
     "data": {
      "text/plain": [
       "'aNTONIO bANDERAS'"
      ]
     },
     "execution_count": 136,
     "metadata": {},
     "output_type": "execute_result"
    }
   ],
   "source": [
    "name.swapcase()"
   ]
  },
  {
   "cell_type": "code",
   "execution_count": 137,
   "id": "f3ba246d",
   "metadata": {},
   "outputs": [
    {
     "data": {
      "text/plain": [
       "'Antonio banderas'"
      ]
     },
     "execution_count": 137,
     "metadata": {},
     "output_type": "execute_result"
    }
   ],
   "source": [
    "name.capitalize()"
   ]
  },
  {
   "cell_type": "code",
   "execution_count": 138,
   "id": "2ba13638",
   "metadata": {},
   "outputs": [
    {
     "data": {
      "text/plain": [
       "'Antonio Banderas'"
      ]
     },
     "execution_count": 138,
     "metadata": {},
     "output_type": "execute_result"
    }
   ],
   "source": [
    "name.title()"
   ]
  },
  {
   "cell_type": "code",
   "execution_count": 139,
   "id": "d6810878",
   "metadata": {},
   "outputs": [
    {
     "data": {
      "text/plain": [
       "'Antonio Banderas'"
      ]
     },
     "execution_count": 139,
     "metadata": {},
     "output_type": "execute_result"
    }
   ],
   "source": [
    "name"
   ]
  },
  {
   "cell_type": "code",
   "execution_count": 142,
   "id": "95892650",
   "metadata": {},
   "outputs": [
    {
     "ename": "AttributeError",
     "evalue": "'list' object has no attribute 'upper'",
     "output_type": "error",
     "traceback": [
      "\u001b[0;31m---------------------------------------------------------------------------\u001b[0m",
      "\u001b[0;31mAttributeError\u001b[0m                            Traceback (most recent call last)",
      "\u001b[0;32m<ipython-input-142-ab969f4563a4>\u001b[0m in \u001b[0;36m<module>\u001b[0;34m\u001b[0m\n\u001b[1;32m      1\u001b[0m \u001b[0mname\u001b[0m\u001b[0;34m.\u001b[0m\u001b[0mupper\u001b[0m\u001b[0;34m(\u001b[0m\u001b[0;34m)\u001b[0m\u001b[0;34m.\u001b[0m\u001b[0msplit\u001b[0m\u001b[0;34m(\u001b[0m\u001b[0;34m)\u001b[0m\u001b[0;34m\u001b[0m\u001b[0;34m\u001b[0m\u001b[0m\n\u001b[0;32m----> 2\u001b[0;31m \u001b[0mname\u001b[0m\u001b[0;34m.\u001b[0m\u001b[0msplit\u001b[0m\u001b[0;34m(\u001b[0m\u001b[0;34m)\u001b[0m\u001b[0;34m.\u001b[0m\u001b[0mupper\u001b[0m\u001b[0;34m(\u001b[0m\u001b[0;34m)\u001b[0m\u001b[0;34m\u001b[0m\u001b[0;34m\u001b[0m\u001b[0m\n\u001b[0m",
      "\u001b[0;31mAttributeError\u001b[0m: 'list' object has no attribute 'upper'"
     ]
    }
   ],
   "source": [
    "name.upper().split()\n",
    "# name.split().upper()"
   ]
  },
  {
   "cell_type": "code",
   "execution_count": 141,
   "id": "035a2761",
   "metadata": {},
   "outputs": [
    {
     "data": {
      "text/plain": [
       "'ANTO'"
      ]
     },
     "execution_count": 141,
     "metadata": {},
     "output_type": "execute_result"
    }
   ],
   "source": [
    "name.upper()[:4]\n",
    "name[:4].upper()"
   ]
  },
  {
   "cell_type": "code",
   "execution_count": 144,
   "id": "08db4125",
   "metadata": {},
   "outputs": [],
   "source": [
    "name = '    mohandas   Karamchand   GANDHI  '\n",
    "# 'M.K.Gandhi'\n",
    "# name = 'NEIL nitin Mukesh'\n",
    "# 'N.N.Mukesh'"
   ]
  },
  {
   "cell_type": "code",
   "execution_count": 146,
   "id": "99c51cc6",
   "metadata": {},
   "outputs": [],
   "source": [
    "sname = name.strip()\n",
    "f, m, last = sname.split()"
   ]
  },
  {
   "cell_type": "code",
   "execution_count": 149,
   "id": "82344ff8",
   "metadata": {},
   "outputs": [
    {
     "data": {
      "text/plain": [
       "'M.K.Gandhi'"
      ]
     },
     "execution_count": 149,
     "metadata": {},
     "output_type": "execute_result"
    }
   ],
   "source": [
    "f[0].upper() + '.' + m[0].upper() + '.' + last.capitalize()"
   ]
  },
  {
   "cell_type": "code",
   "execution_count": 151,
   "id": "e848cd39",
   "metadata": {},
   "outputs": [],
   "source": [
    "sname = name.strip()\n",
    "f, m, last = sname.title().split()"
   ]
  },
  {
   "cell_type": "code",
   "execution_count": 152,
   "id": "f44a5aaa",
   "metadata": {},
   "outputs": [
    {
     "data": {
      "text/plain": [
       "'MKGandhi'"
      ]
     },
     "execution_count": 152,
     "metadata": {},
     "output_type": "execute_result"
    }
   ],
   "source": [
    "f[0] + m[0] + last"
   ]
  },
  {
   "cell_type": "code",
   "execution_count": 153,
   "id": "ab21065f",
   "metadata": {},
   "outputs": [
    {
     "data": {
      "text/plain": [
       "'abc,def,ghi'"
      ]
     },
     "execution_count": 153,
     "metadata": {},
     "output_type": "execute_result"
    }
   ],
   "source": [
    "','.join(['abc', 'def', 'ghi'])"
   ]
  },
  {
   "cell_type": "code",
   "execution_count": 155,
   "id": "705b2b71",
   "metadata": {},
   "outputs": [
    {
     "data": {
      "text/plain": [
       "'M.K.Gandhi'"
      ]
     },
     "execution_count": 155,
     "metadata": {},
     "output_type": "execute_result"
    }
   ],
   "source": [
    "'.'.join([f[0], m[0], last])"
   ]
  },
  {
   "cell_type": "code",
   "execution_count": 157,
   "id": "5721de64",
   "metadata": {},
   "outputs": [
    {
     "ename": "TypeError",
     "evalue": "sequence item 0: expected str instance, int found",
     "output_type": "error",
     "traceback": [
      "\u001b[0;31m---------------------------------------------------------------------------\u001b[0m",
      "\u001b[0;31mTypeError\u001b[0m                                 Traceback (most recent call last)",
      "\u001b[0;32m<ipython-input-157-fd1c40fa8a27>\u001b[0m in \u001b[0;36m<module>\u001b[0;34m\u001b[0m\n\u001b[0;32m----> 1\u001b[0;31m \u001b[0;34m'.'\u001b[0m\u001b[0;34m.\u001b[0m\u001b[0mjoin\u001b[0m\u001b[0;34m(\u001b[0m\u001b[0;34m[\u001b[0m\u001b[0;36m1\u001b[0m\u001b[0;34m,\u001b[0m\u001b[0;36m2\u001b[0m\u001b[0;34m,\u001b[0m\u001b[0;36m3\u001b[0m\u001b[0;34m]\u001b[0m\u001b[0;34m)\u001b[0m\u001b[0;34m\u001b[0m\u001b[0;34m\u001b[0m\u001b[0m\n\u001b[0m",
      "\u001b[0;31mTypeError\u001b[0m: sequence item 0: expected str instance, int found"
     ]
    }
   ],
   "source": [
    "'.'.join([1,2,3])"
   ]
  },
  {
   "cell_type": "code",
   "execution_count": 162,
   "id": "5a1c291d",
   "metadata": {},
   "outputs": [
    {
     "data": {
      "text/plain": [
       "0"
      ]
     },
     "execution_count": 162,
     "metadata": {},
     "output_type": "execute_result"
    }
   ],
   "source": [
    "name.count('z')"
   ]
  },
  {
   "cell_type": "code",
   "execution_count": 165,
   "id": "85a33e5a",
   "metadata": {},
   "outputs": [
    {
     "ename": "ValueError",
     "evalue": "substring not found",
     "output_type": "error",
     "traceback": [
      "\u001b[0;31m---------------------------------------------------------------------------\u001b[0m",
      "\u001b[0;31mValueError\u001b[0m                                Traceback (most recent call last)",
      "\u001b[0;32m<ipython-input-165-388e0ee5c69a>\u001b[0m in \u001b[0;36m<module>\u001b[0;34m\u001b[0m\n\u001b[1;32m      1\u001b[0m \u001b[0mname\u001b[0m\u001b[0;34m.\u001b[0m\u001b[0mindex\u001b[0m\u001b[0;34m(\u001b[0m\u001b[0;34m'das'\u001b[0m\u001b[0;34m)\u001b[0m\u001b[0;34m\u001b[0m\u001b[0;34m\u001b[0m\u001b[0m\n\u001b[0;32m----> 2\u001b[0;31m \u001b[0mname\u001b[0m\u001b[0;34m.\u001b[0m\u001b[0mindex\u001b[0m\u001b[0;34m(\u001b[0m\u001b[0;34m'zzz'\u001b[0m\u001b[0;34m)\u001b[0m\u001b[0;34m\u001b[0m\u001b[0;34m\u001b[0m\u001b[0m\n\u001b[0m",
      "\u001b[0;31mValueError\u001b[0m: substring not found"
     ]
    }
   ],
   "source": [
    "name.index('das')\n",
    "name.index('zzz')"
   ]
  },
  {
   "cell_type": "code",
   "execution_count": 166,
   "id": "92d4d2ad",
   "metadata": {},
   "outputs": [
    {
     "data": {
      "text/plain": [
       "True"
      ]
     },
     "execution_count": 166,
     "metadata": {},
     "output_type": "execute_result"
    }
   ],
   "source": [
    "'das' in name"
   ]
  },
  {
   "cell_type": "code",
   "execution_count": 170,
   "id": "7fa1ad1b",
   "metadata": {},
   "outputs": [
    {
     "data": {
      "text/plain": [
       "False"
      ]
     },
     "execution_count": 170,
     "metadata": {},
     "output_type": "execute_result"
    }
   ],
   "source": [
    "'zzz' in name   # membership check operator"
   ]
  },
  {
   "cell_type": "code",
   "execution_count": 169,
   "id": "a0644131",
   "metadata": {},
   "outputs": [
    {
     "name": "stdout",
     "output_type": "stream",
     "text": [
      "4\n",
      "Done\n"
     ]
    }
   ],
   "source": [
    "sub = 'mohan'\n",
    "if sub in name:\n",
    "    idx = name.index(sub)\n",
    "    print(idx)\n",
    "\n",
    "print('Done')"
   ]
  },
  {
   "cell_type": "code",
   "execution_count": 177,
   "id": "30782c06",
   "metadata": {},
   "outputs": [
    {
     "data": {
      "text/plain": [
       "True"
      ]
     },
     "execution_count": 177,
     "metadata": {},
     "output_type": "execute_result"
    }
   ],
   "source": [
    "name = 'Kapil Kalia'.upper()\n",
    "(name.startswith('K') or name.startswith('k')) and \\\n",
    "(name.endswith('A') or name.endswith('a'))"
   ]
  },
  {
   "cell_type": "code",
   "execution_count": 178,
   "id": "0570efa0",
   "metadata": {},
   "outputs": [
    {
     "data": {
      "text/plain": [
       "False"
      ]
     },
     "execution_count": 178,
     "metadata": {},
     "output_type": "execute_result"
    }
   ],
   "source": [
    "name.isalnum()"
   ]
  },
  {
   "cell_type": "code",
   "execution_count": 179,
   "id": "0ae50839",
   "metadata": {},
   "outputs": [
    {
     "data": {
      "text/plain": [
       "True"
      ]
     },
     "execution_count": 179,
     "metadata": {},
     "output_type": "execute_result"
    }
   ],
   "source": [
    "name.isupper()"
   ]
  },
  {
   "cell_type": "code",
   "execution_count": 180,
   "id": "03f8c60f",
   "metadata": {},
   "outputs": [
    {
     "data": {
      "text/plain": [
       "True"
      ]
     },
     "execution_count": 180,
     "metadata": {},
     "output_type": "execute_result"
    }
   ],
   "source": [
    "'Alexander Graham Bell'.istitle()"
   ]
  },
  {
   "cell_type": "code",
   "execution_count": 194,
   "id": "d2352bdf",
   "metadata": {},
   "outputs": [
    {
     "name": "stdout",
     "output_type": "stream",
     "text": [
      "Enter number for squaring: 3434\n",
      "11792356\n",
      "Blah\n"
     ]
    }
   ],
   "source": [
    "num = input('Enter number for squaring: ')\n",
    "if num.isnumeric():\n",
    "    print(int(num) ** 2)\n",
    "else:\n",
    "    print('Not possible!')"
   ]
  },
  {
   "cell_type": "code",
   "execution_count": 184,
   "id": "7d72d12b",
   "metadata": {},
   "outputs": [
    {
     "data": {
      "text/plain": [
       "'hello10'"
      ]
     },
     "execution_count": 184,
     "metadata": {},
     "output_type": "execute_result"
    }
   ],
   "source": [
    "num = 10\n",
    "greeting + str(num)"
   ]
  },
  {
   "cell_type": "code",
   "execution_count": 185,
   "id": "b3b28d39",
   "metadata": {},
   "outputs": [
    {
     "data": {
      "text/plain": [
       "123"
      ]
     },
     "execution_count": 185,
     "metadata": {},
     "output_type": "execute_result"
    }
   ],
   "source": [
    "int('123')"
   ]
  },
  {
   "cell_type": "code",
   "execution_count": null,
   "id": "5d026ebc",
   "metadata": {},
   "outputs": [],
   "source": [
    "name.splitlines()"
   ]
  },
  {
   "cell_type": "code",
   "execution_count": 197,
   "id": "b84e07c7",
   "metadata": {},
   "outputs": [],
   "source": [
    "employees = '''abc,1,a@b.com\n",
    "xyz,2,x@b.com\n",
    "ppp,3,p@b.com'''"
   ]
  },
  {
   "cell_type": "code",
   "execution_count": 198,
   "id": "7b57e167",
   "metadata": {},
   "outputs": [
    {
     "data": {
      "text/plain": [
       "str"
      ]
     },
     "execution_count": 198,
     "metadata": {},
     "output_type": "execute_result"
    }
   ],
   "source": [
    "type(employees)"
   ]
  },
  {
   "cell_type": "code",
   "execution_count": 199,
   "id": "f0a9fed7",
   "metadata": {},
   "outputs": [
    {
     "data": {
      "text/plain": [
       "['abc,1,a@b.com', 'xyz,2,x@b.com', 'ppp,3,p@b.com']"
      ]
     },
     "execution_count": 199,
     "metadata": {},
     "output_type": "execute_result"
    }
   ],
   "source": [
    "employees.splitlines()"
   ]
  },
  {
   "cell_type": "code",
   "execution_count": 200,
   "id": "bd8741ab",
   "metadata": {},
   "outputs": [
    {
     "data": {
      "text/plain": [
       "['abc,1,a@b.com', 'xyz,2,x@b.com', 'ppp,3,p@b.com']"
      ]
     },
     "execution_count": 200,
     "metadata": {},
     "output_type": "execute_result"
    }
   ],
   "source": [
    "employees.split('\\n')"
   ]
  },
  {
   "cell_type": "markdown",
   "id": "7a751f07",
   "metadata": {},
   "source": [
    "## Lists\n",
    "\n",
    "- Sequence/ordered collection of items\n",
    "- Could be heterogenous"
   ]
  },
  {
   "cell_type": "code",
   "execution_count": 211,
   "id": "1f7b840c",
   "metadata": {},
   "outputs": [],
   "source": [
    "nums = [1, 2, 3, 4]\n",
    "names = ['Amar', 'Akbar', 'Anthony']\n",
    "misc = [42, 98.4, 'Hello']\n",
    "level2 = [nums, names, misc]\n",
    "level3 = [nums, [names, misc]]"
   ]
  },
  {
   "cell_type": "code",
   "execution_count": 204,
   "id": "5bf46cd4",
   "metadata": {},
   "outputs": [
    {
     "data": {
      "text/plain": [
       "list"
      ]
     },
     "execution_count": 204,
     "metadata": {},
     "output_type": "execute_result"
    }
   ],
   "source": [
    "type(nums)\n",
    "type(names)"
   ]
  },
  {
   "cell_type": "code",
   "execution_count": 207,
   "id": "e8b342e4",
   "metadata": {},
   "outputs": [
    {
     "data": {
      "text/plain": [
       "3"
      ]
     },
     "execution_count": 207,
     "metadata": {},
     "output_type": "execute_result"
    }
   ],
   "source": [
    "len(misc)"
   ]
  },
  {
   "cell_type": "code",
   "execution_count": 209,
   "id": "a6c109eb",
   "metadata": {},
   "outputs": [
    {
     "data": {
      "text/plain": [
       "[[1, 2, 3, 4], ['Amar', 'Akbar', 'Anthony'], [42, 98.4, 'Hello']]"
      ]
     },
     "execution_count": 209,
     "metadata": {},
     "output_type": "execute_result"
    }
   ],
   "source": [
    "level2"
   ]
  },
  {
   "cell_type": "code",
   "execution_count": 210,
   "id": "3f077ebf",
   "metadata": {},
   "outputs": [
    {
     "data": {
      "text/plain": [
       "3"
      ]
     },
     "execution_count": 210,
     "metadata": {},
     "output_type": "execute_result"
    }
   ],
   "source": [
    "len(level2)"
   ]
  },
  {
   "cell_type": "code",
   "execution_count": 212,
   "id": "62f0ac6d",
   "metadata": {},
   "outputs": [
    {
     "data": {
      "text/plain": [
       "1"
      ]
     },
     "execution_count": 212,
     "metadata": {},
     "output_type": "execute_result"
    }
   ],
   "source": [
    "nums[0]"
   ]
  },
  {
   "cell_type": "code",
   "execution_count": 213,
   "id": "511c2eda",
   "metadata": {},
   "outputs": [
    {
     "data": {
      "text/plain": [
       "4"
      ]
     },
     "execution_count": 213,
     "metadata": {},
     "output_type": "execute_result"
    }
   ],
   "source": [
    "nums[-1]"
   ]
  },
  {
   "cell_type": "code",
   "execution_count": 215,
   "id": "b589ad5f",
   "metadata": {},
   "outputs": [
    {
     "data": {
      "text/plain": [
       "[1, 2, 3, 4]"
      ]
     },
     "execution_count": 215,
     "metadata": {},
     "output_type": "execute_result"
    }
   ],
   "source": [
    "nums"
   ]
  },
  {
   "cell_type": "code",
   "execution_count": 216,
   "id": "ef085b3e",
   "metadata": {},
   "outputs": [
    {
     "data": {
      "text/plain": [
       "[1, 2, 3, 4]"
      ]
     },
     "execution_count": 216,
     "metadata": {},
     "output_type": "execute_result"
    }
   ],
   "source": [
    "nums[:2] + nums[2:]"
   ]
  },
  {
   "cell_type": "code",
   "execution_count": 217,
   "id": "9d1fe2f2",
   "metadata": {},
   "outputs": [
    {
     "data": {
      "text/plain": [
       "[1, 2, 3, 4]"
      ]
     },
     "execution_count": 217,
     "metadata": {},
     "output_type": "execute_result"
    }
   ],
   "source": [
    "nums[:2] + nums[-2:]"
   ]
  },
  {
   "cell_type": "code",
   "execution_count": 220,
   "id": "e2dfa3b9",
   "metadata": {},
   "outputs": [
    {
     "data": {
      "text/plain": [
       "2"
      ]
     },
     "execution_count": 220,
     "metadata": {},
     "output_type": "execute_result"
    }
   ],
   "source": [
    "level3[0][1]"
   ]
  },
  {
   "cell_type": "code",
   "execution_count": 221,
   "id": "ab729982",
   "metadata": {},
   "outputs": [
    {
     "data": {
      "text/plain": [
       "[[1, 2, 3, 4], [['Amar', 'Akbar', 'Anthony'], [42, 98.4, 'Hello']]]"
      ]
     },
     "execution_count": 221,
     "metadata": {},
     "output_type": "execute_result"
    }
   ],
   "source": [
    "level3"
   ]
  },
  {
   "cell_type": "code",
   "execution_count": 226,
   "id": "4af0c05e",
   "metadata": {},
   "outputs": [
    {
     "data": {
      "text/plain": [
       "[[1, 2, 3, 4], [['Amar', 'Akbar', 'Anthony'], [42, 98.4, 'Hello']]]"
      ]
     },
     "execution_count": 226,
     "metadata": {},
     "output_type": "execute_result"
    }
   ],
   "source": [
    "level3"
   ]
  },
  {
   "cell_type": "code",
   "execution_count": 228,
   "id": "220ce0e9",
   "metadata": {},
   "outputs": [
    {
     "data": {
      "text/plain": [
       "'l'"
      ]
     },
     "execution_count": 228,
     "metadata": {},
     "output_type": "execute_result"
    }
   ],
   "source": [
    "level3[1][1][2][2]"
   ]
  },
  {
   "cell_type": "code",
   "execution_count": 229,
   "id": "ddbc3c0e",
   "metadata": {},
   "outputs": [
    {
     "data": {
      "text/plain": [
       "'o'"
      ]
     },
     "execution_count": 229,
     "metadata": {},
     "output_type": "execute_result"
    }
   ],
   "source": [
    "level3[-1][-1][-1][-1]"
   ]
  },
  {
   "cell_type": "code",
   "execution_count": 230,
   "id": "b80cfcac",
   "metadata": {},
   "outputs": [
    {
     "ename": "TypeError",
     "evalue": "'float' object is not subscriptable",
     "output_type": "error",
     "traceback": [
      "\u001b[0;31m---------------------------------------------------------------------------\u001b[0m",
      "\u001b[0;31mTypeError\u001b[0m                                 Traceback (most recent call last)",
      "\u001b[0;32m<ipython-input-230-c288627f42d1>\u001b[0m in \u001b[0;36m<module>\u001b[0;34m\u001b[0m\n\u001b[0;32m----> 1\u001b[0;31m \u001b[0mlevel3\u001b[0m\u001b[0;34m[\u001b[0m\u001b[0;34m-\u001b[0m\u001b[0;36m1\u001b[0m\u001b[0;34m]\u001b[0m\u001b[0;34m[\u001b[0m\u001b[0;34m-\u001b[0m\u001b[0;36m1\u001b[0m\u001b[0;34m]\u001b[0m\u001b[0;34m[\u001b[0m\u001b[0;34m-\u001b[0m\u001b[0;36m2\u001b[0m\u001b[0;34m]\u001b[0m\u001b[0;34m[\u001b[0m\u001b[0;34m-\u001b[0m\u001b[0;36m1\u001b[0m\u001b[0;34m]\u001b[0m\u001b[0;34m\u001b[0m\u001b[0;34m\u001b[0m\u001b[0m\n\u001b[0m",
      "\u001b[0;31mTypeError\u001b[0m: 'float' object is not subscriptable"
     ]
    }
   ],
   "source": [
    "level3[-1][-1][-2][-1]"
   ]
  },
  {
   "cell_type": "code",
   "execution_count": 235,
   "id": "c42f1f0a",
   "metadata": {},
   "outputs": [
    {
     "data": {
      "text/plain": [
       "[0, 1, 2, 3, 4, 5, 6, 7, 8, 9]"
      ]
     },
     "execution_count": 235,
     "metadata": {},
     "output_type": "execute_result"
    }
   ],
   "source": [
    "list(range(10))"
   ]
  },
  {
   "cell_type": "code",
   "execution_count": 234,
   "id": "f2479b75",
   "metadata": {},
   "outputs": [
    {
     "data": {
      "text/plain": [
       "[10, 11, 12, 13, 14, 15, 16, 17, 18, 19]"
      ]
     },
     "execution_count": 234,
     "metadata": {},
     "output_type": "execute_result"
    }
   ],
   "source": [
    "list(range(10,20))"
   ]
  },
  {
   "cell_type": "code",
   "execution_count": 236,
   "id": "c40bbc5a",
   "metadata": {},
   "outputs": [
    {
     "data": {
      "text/plain": [
       "[10, 20, 30, 40, 50, 60, 70, 80, 90]"
      ]
     },
     "execution_count": 236,
     "metadata": {},
     "output_type": "execute_result"
    }
   ],
   "source": [
    "list(range(10,100,10))"
   ]
  },
  {
   "cell_type": "code",
   "execution_count": 238,
   "id": "d1da7b21",
   "metadata": {},
   "outputs": [],
   "source": [
    "primes = [1,2,3,5,7,9,11,13,17,19,23,29]\n",
    "next_prime = 31\n",
    "next_primes = [37, 41, 43, 47]"
   ]
  },
  {
   "cell_type": "code",
   "execution_count": 243,
   "id": "49aa9f40",
   "metadata": {},
   "outputs": [],
   "source": [
    "primes.append(next_prime)  # in-place modification"
   ]
  },
  {
   "cell_type": "code",
   "execution_count": 244,
   "id": "6e6be1f7",
   "metadata": {},
   "outputs": [
    {
     "data": {
      "text/plain": [
       "[1, 2, 3, 5, 7, 9, 11, 13, 17, 19, 23, 29, 31]"
      ]
     },
     "execution_count": 244,
     "metadata": {},
     "output_type": "execute_result"
    }
   ],
   "source": [
    "primes"
   ]
  },
  {
   "cell_type": "code",
   "execution_count": 241,
   "id": "1c85ac03",
   "metadata": {},
   "outputs": [
    {
     "data": {
      "text/plain": [
       "31"
      ]
     },
     "execution_count": 241,
     "metadata": {},
     "output_type": "execute_result"
    }
   ],
   "source": [
    "primes.pop()"
   ]
  },
  {
   "cell_type": "code",
   "execution_count": 245,
   "id": "261bfa2c",
   "metadata": {},
   "outputs": [
    {
     "data": {
      "text/plain": [
       "1"
      ]
     },
     "execution_count": 245,
     "metadata": {},
     "output_type": "execute_result"
    }
   ],
   "source": [
    "first = primes.pop(0)\n",
    "first"
   ]
  },
  {
   "cell_type": "code",
   "execution_count": 246,
   "id": "c7dbae51",
   "metadata": {},
   "outputs": [
    {
     "data": {
      "text/plain": [
       "[2, 3, 5, 7, 9, 11, 13, 17, 19, 23, 29, 31]"
      ]
     },
     "execution_count": 246,
     "metadata": {},
     "output_type": "execute_result"
    }
   ],
   "source": [
    "primes"
   ]
  },
  {
   "cell_type": "code",
   "execution_count": 247,
   "id": "c2a260ef",
   "metadata": {},
   "outputs": [
    {
     "data": {
      "text/plain": [
       "[2, 3, 5, 7, 11, 13, 17, 19, 23, 29, 31]"
      ]
     },
     "execution_count": 247,
     "metadata": {},
     "output_type": "execute_result"
    }
   ],
   "source": [
    "primes.remove(9)\n",
    "primes"
   ]
  },
  {
   "cell_type": "code",
   "execution_count": 248,
   "id": "704f7a7f",
   "metadata": {},
   "outputs": [
    {
     "ename": "ValueError",
     "evalue": "list.remove(x): x not in list",
     "output_type": "error",
     "traceback": [
      "\u001b[0;31m---------------------------------------------------------------------------\u001b[0m",
      "\u001b[0;31mValueError\u001b[0m                                Traceback (most recent call last)",
      "\u001b[0;32m<ipython-input-248-073f060400f8>\u001b[0m in \u001b[0;36m<module>\u001b[0;34m\u001b[0m\n\u001b[0;32m----> 1\u001b[0;31m \u001b[0mprimes\u001b[0m\u001b[0;34m.\u001b[0m\u001b[0mremove\u001b[0m\u001b[0;34m(\u001b[0m\u001b[0;36m9\u001b[0m\u001b[0;34m)\u001b[0m\u001b[0;34m\u001b[0m\u001b[0;34m\u001b[0m\u001b[0m\n\u001b[0m\u001b[1;32m      2\u001b[0m \u001b[0mprimes\u001b[0m\u001b[0;34m\u001b[0m\u001b[0;34m\u001b[0m\u001b[0m\n",
      "\u001b[0;31mValueError\u001b[0m: list.remove(x): x not in list"
     ]
    }
   ],
   "source": [
    "primes.remove(9)\n",
    "primes"
   ]
  },
  {
   "cell_type": "code",
   "execution_count": 249,
   "id": "ae10c31d",
   "metadata": {},
   "outputs": [
    {
     "data": {
      "text/plain": [
       "[2, 3, 5, 7, 11, 13, 17, 19, 23, 29, 31]"
      ]
     },
     "execution_count": 249,
     "metadata": {},
     "output_type": "execute_result"
    }
   ],
   "source": [
    "primes"
   ]
  },
  {
   "cell_type": "code",
   "execution_count": 250,
   "id": "8a8bb15d",
   "metadata": {},
   "outputs": [
    {
     "data": {
      "text/plain": [
       "[2, 3, 5, 7, 11, 13, 17, 19, 23, 29, 31, 37, 41, 43, 47]"
      ]
     },
     "execution_count": 250,
     "metadata": {},
     "output_type": "execute_result"
    }
   ],
   "source": [
    "primes.extend(next_primes)\n",
    "primes"
   ]
  },
  {
   "cell_type": "code",
   "execution_count": 251,
   "id": "7e1962eb",
   "metadata": {},
   "outputs": [
    {
     "data": {
      "text/plain": [
       "[2, 3, 5, 7, 11, 13, 17, 19, 23, 29, 31, 37, 41, 43, 47, [37, 41, 43, 47]]"
      ]
     },
     "execution_count": 251,
     "metadata": {},
     "output_type": "execute_result"
    }
   ],
   "source": [
    "primes.append(next_primes)\n",
    "primes"
   ]
  },
  {
   "cell_type": "code",
   "execution_count": 252,
   "id": "bac86de5",
   "metadata": {},
   "outputs": [
    {
     "data": {
      "text/plain": [
       "31"
      ]
     },
     "execution_count": 252,
     "metadata": {},
     "output_type": "execute_result"
    }
   ],
   "source": [
    "next_prime"
   ]
  },
  {
   "cell_type": "code",
   "execution_count": 253,
   "id": "40c8bd62",
   "metadata": {},
   "outputs": [
    {
     "ename": "TypeError",
     "evalue": "'int' object is not iterable",
     "output_type": "error",
     "traceback": [
      "\u001b[0;31m---------------------------------------------------------------------------\u001b[0m",
      "\u001b[0;31mTypeError\u001b[0m                                 Traceback (most recent call last)",
      "\u001b[0;32m<ipython-input-253-17b908ee6cfa>\u001b[0m in \u001b[0;36m<module>\u001b[0;34m\u001b[0m\n\u001b[0;32m----> 1\u001b[0;31m \u001b[0mprimes\u001b[0m\u001b[0;34m.\u001b[0m\u001b[0mextend\u001b[0m\u001b[0;34m(\u001b[0m\u001b[0mnext_prime\u001b[0m\u001b[0;34m)\u001b[0m\u001b[0;34m\u001b[0m\u001b[0;34m\u001b[0m\u001b[0m\n\u001b[0m",
      "\u001b[0;31mTypeError\u001b[0m: 'int' object is not iterable"
     ]
    }
   ],
   "source": [
    "primes.extend(next_prime)"
   ]
  },
  {
   "cell_type": "code",
   "execution_count": 254,
   "id": "0579b5f1",
   "metadata": {},
   "outputs": [],
   "source": [
    "primes.extend('hello')"
   ]
  },
  {
   "cell_type": "code",
   "execution_count": 255,
   "id": "f33955a7",
   "metadata": {},
   "outputs": [
    {
     "data": {
      "text/plain": [
       "[2,\n",
       " 3,\n",
       " 5,\n",
       " 7,\n",
       " 11,\n",
       " 13,\n",
       " 17,\n",
       " 19,\n",
       " 23,\n",
       " 29,\n",
       " 31,\n",
       " 37,\n",
       " 41,\n",
       " 43,\n",
       " 47,\n",
       " [37, 41, 43, 47],\n",
       " 'h',\n",
       " 'e',\n",
       " 'l',\n",
       " 'l',\n",
       " 'o']"
      ]
     },
     "execution_count": 255,
     "metadata": {},
     "output_type": "execute_result"
    }
   ],
   "source": [
    "primes"
   ]
  },
  {
   "cell_type": "code",
   "execution_count": 256,
   "id": "7dfcc37d",
   "metadata": {},
   "outputs": [
    {
     "data": {
      "text/plain": [
       "[1,\n",
       " 2,\n",
       " 3,\n",
       " 5,\n",
       " 7,\n",
       " 11,\n",
       " 13,\n",
       " 17,\n",
       " 19,\n",
       " 23,\n",
       " 29,\n",
       " 31,\n",
       " 37,\n",
       " 41,\n",
       " 43,\n",
       " 47,\n",
       " [37, 41, 43, 47],\n",
       " 'h',\n",
       " 'e',\n",
       " 'l',\n",
       " 'l',\n",
       " 'o']"
      ]
     },
     "execution_count": 256,
     "metadata": {},
     "output_type": "execute_result"
    }
   ],
   "source": [
    "primes.insert(0,1)\n",
    "primes"
   ]
  },
  {
   "cell_type": "code",
   "execution_count": null,
   "id": "d807664c",
   "metadata": {},
   "outputs": [],
   "source": [
    "primes.clear()"
   ]
  },
  {
   "cell_type": "code",
   "execution_count": null,
   "id": "3cd6fec8",
   "metadata": {},
   "outputs": [],
   "source": []
  }
 ],
 "metadata": {
  "kernelspec": {
   "display_name": "Python 3",
   "language": "python",
   "name": "python3"
  },
  "language_info": {
   "codemirror_mode": {
    "name": "ipython",
    "version": 3
   },
   "file_extension": ".py",
   "mimetype": "text/x-python",
   "name": "python",
   "nbconvert_exporter": "python",
   "pygments_lexer": "ipython3",
   "version": "3.8.17"
  }
 },
 "nbformat": 4,
 "nbformat_minor": 5
}
