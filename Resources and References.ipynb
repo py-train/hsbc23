{
 "cells": [
  {
   "cell_type": "markdown",
   "metadata": {},
   "source": [
    "# References\n",
    "\n",
    "## Python\n",
    "- https://pymotw.com/3/\n",
    "- https://docs.python.org/3/\n",
    "\n",
    "## Data\n",
    "\n",
    "- https://ml-cheatsheet.readthedocs.io/en/latest\n",
    "- http://scott.fortmann-roe.com/docs/BiasVariance.html\n",
    "- https://kevinzakka.github.io/2016/07/13/k-nearest-neighbor/"
   ]
  },
  {
   "cell_type": "markdown",
   "metadata": {},
   "source": [
    "# Articles\n",
    "\n",
    "- https://www.forbes.com/sites/gilpress/2013/05/28/a-very-short-history-of-data-science/?sh=13f29fd055cf\n",
    "- https://data-flair.training/blogs/types-of-machine-learning-algorithms/\n",
    "- https://saravananthirumuruganathan.wordpress.com/2010/05/17/a-detailed-introduction-to-k-nearest-neighbor-knn-algorithm/"
   ]
  },
  {
   "cell_type": "markdown",
   "metadata": {},
   "source": [
    "# Books\n",
    "\n",
    "- https://jakevdp.github.io/PythonDataScienceHandbook/05.13-kernel-density-estimation.html\n",
    "- https://www.deeplearningbook.org\n",
    "- "
   ]
  },
  {
   "cell_type": "markdown",
   "metadata": {},
   "source": [
    "# Data Sources\n",
    "- https://archive.ics.uci.edu/\n",
    "- https://developer.imdb.com/non-commercial-datasets/\n",
    "- https://github.com/mwaskom/seaborn-data\n",
    "- https://www.gapminder.org/data/"
   ]
  },
  {
   "cell_type": "code",
   "execution_count": null,
   "metadata": {},
   "outputs": [],
   "source": []
  }
 ],
 "metadata": {
  "kernelspec": {
   "display_name": "Python 3",
   "language": "python",
   "name": "python3"
  },
  "language_info": {
   "codemirror_mode": {
    "name": "ipython",
    "version": 3
   },
   "file_extension": ".py",
   "mimetype": "text/x-python",
   "name": "python",
   "nbconvert_exporter": "python",
   "pygments_lexer": "ipython3",
   "version": "3.8.17"
  }
 },
 "nbformat": 4,
 "nbformat_minor": 4
}
